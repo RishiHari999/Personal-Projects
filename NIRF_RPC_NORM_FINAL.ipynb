{
 "cells": [
  {
   "cell_type": "code",
   "execution_count": 1,
   "id": "be747421",
   "metadata": {},
   "outputs": [
    {
     "data": {
      "application/javascript": [
       "\n",
       "        if (window._pyforest_update_imports_cell) { window._pyforest_update_imports_cell('import pandas as pd'); }\n",
       "    "
      ],
      "text/plain": [
       "<IPython.core.display.Javascript object>"
      ]
     },
     "metadata": {},
     "output_type": "display_data"
    },
    {
     "data": {
      "text/html": [
       "<div>\n",
       "<style scoped>\n",
       "    .dataframe tbody tr th:only-of-type {\n",
       "        vertical-align: middle;\n",
       "    }\n",
       "\n",
       "    .dataframe tbody tr th {\n",
       "        vertical-align: top;\n",
       "    }\n",
       "\n",
       "    .dataframe thead th {\n",
       "        text-align: right;\n",
       "    }\n",
       "</style>\n",
       "<table border=\"1\" class=\"dataframe\">\n",
       "  <thead>\n",
       "    <tr style=\"text-align: right;\">\n",
       "      <th></th>\n",
       "      <th>P</th>\n",
       "      <th>FRQ</th>\n",
       "      <th>P/FRQ</th>\n",
       "      <th>Total Cite</th>\n",
       "      <th>CC/FRQ</th>\n",
       "      <th>CC/P/3</th>\n",
       "      <th>IPP</th>\n",
       "      <th>IPG</th>\n",
       "      <th>FPR</th>\n",
       "      <th>FPC</th>\n",
       "      <th>EDP</th>\n",
       "      <th>RPC (100)</th>\n",
       "    </tr>\n",
       "  </thead>\n",
       "  <tbody>\n",
       "    <tr>\n",
       "      <th>0</th>\n",
       "      <td>9374</td>\n",
       "      <td>465</td>\n",
       "      <td>6.72</td>\n",
       "      <td>157444</td>\n",
       "      <td>112.86</td>\n",
       "      <td>5.60</td>\n",
       "      <td>142</td>\n",
       "      <td>78</td>\n",
       "      <td>4.507136e+09</td>\n",
       "      <td>4.288064e+08</td>\n",
       "      <td>9.476381e+06</td>\n",
       "      <td>87.45</td>\n",
       "    </tr>\n",
       "    <tr>\n",
       "      <th>1</th>\n",
       "      <td>3688</td>\n",
       "      <td>671</td>\n",
       "      <td>1.83</td>\n",
       "      <td>15907</td>\n",
       "      <td>7.90</td>\n",
       "      <td>1.44</td>\n",
       "      <td>18</td>\n",
       "      <td>15</td>\n",
       "      <td>2.851737e+08</td>\n",
       "      <td>4.933128e+06</td>\n",
       "      <td>5.241400e+04</td>\n",
       "      <td>45.55</td>\n",
       "    </tr>\n",
       "    <tr>\n",
       "      <th>2</th>\n",
       "      <td>3570</td>\n",
       "      <td>1351</td>\n",
       "      <td>0.88</td>\n",
       "      <td>14652</td>\n",
       "      <td>3.62</td>\n",
       "      <td>1.37</td>\n",
       "      <td>89</td>\n",
       "      <td>15</td>\n",
       "      <td>4.817552e+08</td>\n",
       "      <td>6.472842e+07</td>\n",
       "      <td>4.755502e+07</td>\n",
       "      <td>47.38</td>\n",
       "    </tr>\n",
       "    <tr>\n",
       "      <th>3</th>\n",
       "      <td>5814</td>\n",
       "      <td>1830</td>\n",
       "      <td>1.06</td>\n",
       "      <td>17222</td>\n",
       "      <td>3.14</td>\n",
       "      <td>0.99</td>\n",
       "      <td>11</td>\n",
       "      <td>10</td>\n",
       "      <td>6.724123e+08</td>\n",
       "      <td>1.510703e+08</td>\n",
       "      <td>3.767544e+07</td>\n",
       "      <td>53.73</td>\n",
       "    </tr>\n",
       "    <tr>\n",
       "      <th>4</th>\n",
       "      <td>2764</td>\n",
       "      <td>1830</td>\n",
       "      <td>0.50</td>\n",
       "      <td>5853</td>\n",
       "      <td>1.07</td>\n",
       "      <td>0.71</td>\n",
       "      <td>67</td>\n",
       "      <td>47</td>\n",
       "      <td>5.394218e+08</td>\n",
       "      <td>2.841773e+08</td>\n",
       "      <td>2.841773e+08</td>\n",
       "      <td>50.06</td>\n",
       "    </tr>\n",
       "  </tbody>\n",
       "</table>\n",
       "</div>"
      ],
      "text/plain": [
       "      P   FRQ  P/FRQ  Total Cite  CC/FRQ  CC/P/3  IPP  IPG           FPR  \\\n",
       "0  9374   465   6.72      157444  112.86    5.60  142   78  4.507136e+09   \n",
       "1  3688   671   1.83       15907    7.90    1.44   18   15  2.851737e+08   \n",
       "2  3570  1351   0.88       14652    3.62    1.37   89   15  4.817552e+08   \n",
       "3  5814  1830   1.06       17222    3.14    0.99   11   10  6.724123e+08   \n",
       "4  2764  1830   0.50        5853    1.07    0.71   67   47  5.394218e+08   \n",
       "\n",
       "            FPC           EDP  RPC (100)  \n",
       "0  4.288064e+08  9.476381e+06      87.45  \n",
       "1  4.933128e+06  5.241400e+04      45.55  \n",
       "2  6.472842e+07  4.755502e+07      47.38  \n",
       "3  1.510703e+08  3.767544e+07      53.73  \n",
       "4  2.841773e+08  2.841773e+08      50.06  "
      ]
     },
     "execution_count": 1,
     "metadata": {},
     "output_type": "execute_result"
    }
   ],
   "source": [
    "df=pd.read_excel(\"E:\\\\NIRF_2023\\\\RPC\\\\NIRF_2022.xlsx\")\n",
    "df.head()"
   ]
  },
  {
   "cell_type": "code",
   "execution_count": 2,
   "id": "a7f8bf41",
   "metadata": {},
   "outputs": [
    {
     "data": {
      "text/plain": [
       "Index(['P', 'FRQ', 'P/FRQ', 'Total Cite', 'CC/FRQ', 'CC/P/3', 'IPP', 'IPG',\n",
       "       'FPR', 'FPC', 'EDP', 'RPC (100)'],\n",
       "      dtype='object')"
      ]
     },
     "execution_count": 2,
     "metadata": {},
     "output_type": "execute_result"
    }
   ],
   "source": [
    "df.columns"
   ]
  },
  {
   "cell_type": "code",
   "execution_count": 3,
   "id": "a81e17ab",
   "metadata": {},
   "outputs": [],
   "source": [
    "df.drop(['P', 'FRQ','Total Cite'],axis=1,inplace=True)"
   ]
  },
  {
   "cell_type": "code",
   "execution_count": 4,
   "id": "a0e9d4e8",
   "metadata": {},
   "outputs": [
    {
     "data": {
      "application/javascript": [
       "\n",
       "        if (window._pyforest_update_imports_cell) { window._pyforest_update_imports_cell('import numpy as np\\nimport pandas as pd'); }\n",
       "    "
      ],
      "text/plain": [
       "<IPython.core.display.Javascript object>"
      ]
     },
     "metadata": {},
     "output_type": "display_data"
    },
    {
     "data": {
      "application/javascript": [
       "\n",
       "        if (window._pyforest_update_imports_cell) { window._pyforest_update_imports_cell('import numpy as np\\nimport pandas as pd'); }\n",
       "    "
      ],
      "text/plain": [
       "<IPython.core.display.Javascript object>"
      ]
     },
     "metadata": {},
     "output_type": "display_data"
    },
    {
     "data": {
      "application/javascript": [
       "\n",
       "        if (window._pyforest_update_imports_cell) { window._pyforest_update_imports_cell('import numpy as np\\nimport pandas as pd'); }\n",
       "    "
      ],
      "text/plain": [
       "<IPython.core.display.Javascript object>"
      ]
     },
     "metadata": {},
     "output_type": "display_data"
    },
    {
     "data": {
      "application/javascript": [
       "\n",
       "        if (window._pyforest_update_imports_cell) { window._pyforest_update_imports_cell('import numpy as np\\nimport pandas as pd'); }\n",
       "    "
      ],
      "text/plain": [
       "<IPython.core.display.Javascript object>"
      ]
     },
     "metadata": {},
     "output_type": "display_data"
    },
    {
     "data": {
      "application/javascript": [
       "\n",
       "        if (window._pyforest_update_imports_cell) { window._pyforest_update_imports_cell('import numpy as np\\nimport pandas as pd'); }\n",
       "    "
      ],
      "text/plain": [
       "<IPython.core.display.Javascript object>"
      ]
     },
     "metadata": {},
     "output_type": "display_data"
    },
    {
     "data": {
      "application/javascript": [
       "\n",
       "        if (window._pyforest_update_imports_cell) { window._pyforest_update_imports_cell('import numpy as np\\nimport pandas as pd'); }\n",
       "    "
      ],
      "text/plain": [
       "<IPython.core.display.Javascript object>"
      ]
     },
     "metadata": {},
     "output_type": "display_data"
    },
    {
     "data": {
      "application/javascript": [
       "\n",
       "        if (window._pyforest_update_imports_cell) { window._pyforest_update_imports_cell('import numpy as np\\nimport pandas as pd'); }\n",
       "    "
      ],
      "text/plain": [
       "<IPython.core.display.Javascript object>"
      ]
     },
     "metadata": {},
     "output_type": "display_data"
    },
    {
     "data": {
      "application/javascript": [
       "\n",
       "        if (window._pyforest_update_imports_cell) { window._pyforest_update_imports_cell('import numpy as np\\nimport pandas as pd'); }\n",
       "    "
      ],
      "text/plain": [
       "<IPython.core.display.Javascript object>"
      ]
     },
     "metadata": {},
     "output_type": "display_data"
    },
    {
     "data": {
      "application/javascript": [
       "\n",
       "        if (window._pyforest_update_imports_cell) { window._pyforest_update_imports_cell('import numpy as np\\nimport pandas as pd'); }\n",
       "    "
      ],
      "text/plain": [
       "<IPython.core.display.Javascript object>"
      ]
     },
     "metadata": {},
     "output_type": "display_data"
    }
   ],
   "source": [
    "df['P/FRQ']=np.log10((df['P/FRQ'])-(min(df['P/FRQ'])-1))\n",
    "df['CC/FRQ']=np.log10((df['CC/FRQ'])-(min(df['CC/FRQ'])-1))\n",
    "df['CC/P/3']=np.log10((df['CC/P/3'])-(min(df['CC/P/3'])-1))\n",
    "df['IPP']=np.log10((df['IPP'])-(min(df['IPP'])-1))\n",
    "df['IPG']=np.log10((df['IPG'])-(min(df['IPG'])-1))\n",
    "df['FPR']=np.log10((df['FPR'])-(min(df['FPR'])-1))\n",
    "df['FPC']=np.log10((df['FPC'])-(min(df['FPC'])-1))\n",
    "df['EDP']=np.log10((df['EDP'])-(min(df['EDP'])-1))\n",
    "df['RPC (100)']=np.log10((df['RPC (100)'])-(min(df['RPC (100)'])-1))"
   ]
  },
  {
   "cell_type": "code",
   "execution_count": null,
   "id": "d2b44de1",
   "metadata": {},
   "outputs": [],
   "source": [
    "df['P/FRQ']=np.log10((df['P/FRQ'])+1)\n",
    "df['CC/FRQ']=np.log10((df['CC/FRQ'])+1)\n",
    "df['CC/P/3']=np.log10((df['CC/P/3'])+1)\n",
    "df['IPP']=np.log10((df['IPP'])+1)\n",
    "df['IPG']=np.log10((df['IPG'])+1)\n",
    "df['FPR']=np.log10((df['FPR'])+1)\n",
    "df['FPC']=np.log10((df['FPC'])+1)\n",
    "df['EDP']=np.log10((df['EDP'])+1)\n",
    "df['RPC (100)']=np.log10((df['RPC (100)'])+1)"
   ]
  },
  {
   "cell_type": "code",
   "execution_count": 5,
   "id": "452171b6",
   "metadata": {},
   "outputs": [
    {
     "data": {
      "text/html": [
       "<div>\n",
       "<style scoped>\n",
       "    .dataframe tbody tr th:only-of-type {\n",
       "        vertical-align: middle;\n",
       "    }\n",
       "\n",
       "    .dataframe tbody tr th {\n",
       "        vertical-align: top;\n",
       "    }\n",
       "\n",
       "    .dataframe thead th {\n",
       "        text-align: right;\n",
       "    }\n",
       "</style>\n",
       "<table border=\"1\" class=\"dataframe\">\n",
       "  <thead>\n",
       "    <tr style=\"text-align: right;\">\n",
       "      <th></th>\n",
       "      <th>P/FRQ</th>\n",
       "      <th>CC/FRQ</th>\n",
       "      <th>CC/P/3</th>\n",
       "      <th>IPP</th>\n",
       "      <th>IPG</th>\n",
       "      <th>FPR</th>\n",
       "      <th>FPC</th>\n",
       "      <th>EDP</th>\n",
       "      <th>RPC (100)</th>\n",
       "    </tr>\n",
       "  </thead>\n",
       "  <tbody>\n",
       "    <tr>\n",
       "      <th>0</th>\n",
       "      <td>0.885926</td>\n",
       "      <td>2.056180</td>\n",
       "      <td>0.804821</td>\n",
       "      <td>2.155336</td>\n",
       "      <td>1.897627</td>\n",
       "      <td>9.653283</td>\n",
       "      <td>8.632247</td>\n",
       "      <td>6.976643</td>\n",
       "      <td>1.931254</td>\n",
       "    </tr>\n",
       "    <tr>\n",
       "      <th>1</th>\n",
       "      <td>0.447158</td>\n",
       "      <td>0.946943</td>\n",
       "      <td>0.346353</td>\n",
       "      <td>1.278754</td>\n",
       "      <td>1.204120</td>\n",
       "      <td>8.445240</td>\n",
       "      <td>6.691888</td>\n",
       "      <td>4.719456</td>\n",
       "      <td>1.638090</td>\n",
       "    </tr>\n",
       "    <tr>\n",
       "      <th>2</th>\n",
       "      <td>0.267172</td>\n",
       "      <td>0.659916</td>\n",
       "      <td>0.332438</td>\n",
       "      <td>1.954243</td>\n",
       "      <td>1.204120</td>\n",
       "      <td>8.677011</td>\n",
       "      <td>7.811001</td>\n",
       "      <td>7.677196</td>\n",
       "      <td>1.656002</td>\n",
       "    </tr>\n",
       "    <tr>\n",
       "      <th>3</th>\n",
       "      <td>0.307496</td>\n",
       "      <td>0.611723</td>\n",
       "      <td>0.247973</td>\n",
       "      <td>1.079181</td>\n",
       "      <td>1.041393</td>\n",
       "      <td>8.823477</td>\n",
       "      <td>8.179139</td>\n",
       "      <td>7.576058</td>\n",
       "      <td>1.712986</td>\n",
       "    </tr>\n",
       "    <tr>\n",
       "      <th>4</th>\n",
       "      <td>0.167317</td>\n",
       "      <td>0.305351</td>\n",
       "      <td>0.173186</td>\n",
       "      <td>1.832509</td>\n",
       "      <td>1.681241</td>\n",
       "      <td>8.726739</td>\n",
       "      <td>8.453568</td>\n",
       "      <td>8.453589</td>\n",
       "      <td>1.680970</td>\n",
       "    </tr>\n",
       "  </tbody>\n",
       "</table>\n",
       "</div>"
      ],
      "text/plain": [
       "      P/FRQ    CC/FRQ    CC/P/3       IPP       IPG       FPR       FPC  \\\n",
       "0  0.885926  2.056180  0.804821  2.155336  1.897627  9.653283  8.632247   \n",
       "1  0.447158  0.946943  0.346353  1.278754  1.204120  8.445240  6.691888   \n",
       "2  0.267172  0.659916  0.332438  1.954243  1.204120  8.677011  7.811001   \n",
       "3  0.307496  0.611723  0.247973  1.079181  1.041393  8.823477  8.179139   \n",
       "4  0.167317  0.305351  0.173186  1.832509  1.681241  8.726739  8.453568   \n",
       "\n",
       "        EDP  RPC (100)  \n",
       "0  6.976643   1.931254  \n",
       "1  4.719456   1.638090  \n",
       "2  7.677196   1.656002  \n",
       "3  7.576058   1.712986  \n",
       "4  8.453589   1.680970  "
      ]
     },
     "execution_count": 5,
     "metadata": {},
     "output_type": "execute_result"
    }
   ],
   "source": [
    "df.head()"
   ]
  },
  {
   "cell_type": "code",
   "execution_count": 6,
   "id": "c0757402",
   "metadata": {},
   "outputs": [
    {
     "data": {
      "text/html": [
       "<div>\n",
       "<style scoped>\n",
       "    .dataframe tbody tr th:only-of-type {\n",
       "        vertical-align: middle;\n",
       "    }\n",
       "\n",
       "    .dataframe tbody tr th {\n",
       "        vertical-align: top;\n",
       "    }\n",
       "\n",
       "    .dataframe thead th {\n",
       "        text-align: right;\n",
       "    }\n",
       "</style>\n",
       "<table border=\"1\" class=\"dataframe\">\n",
       "  <thead>\n",
       "    <tr style=\"text-align: right;\">\n",
       "      <th></th>\n",
       "      <th>P/FRQ</th>\n",
       "      <th>CC/FRQ</th>\n",
       "      <th>CC/P/3</th>\n",
       "      <th>IPP</th>\n",
       "      <th>IPG</th>\n",
       "      <th>FPR</th>\n",
       "      <th>FPC</th>\n",
       "      <th>EDP</th>\n",
       "      <th>RPC (100)</th>\n",
       "    </tr>\n",
       "  </thead>\n",
       "  <tbody>\n",
       "    <tr>\n",
       "      <th>P/FRQ</th>\n",
       "      <td>1.000000</td>\n",
       "      <td>0.891387</td>\n",
       "      <td>0.252573</td>\n",
       "      <td>0.307156</td>\n",
       "      <td>0.318924</td>\n",
       "      <td>0.361860</td>\n",
       "      <td>0.172454</td>\n",
       "      <td>0.057234</td>\n",
       "      <td>0.679224</td>\n",
       "    </tr>\n",
       "    <tr>\n",
       "      <th>CC/FRQ</th>\n",
       "      <td>0.891387</td>\n",
       "      <td>1.000000</td>\n",
       "      <td>0.648490</td>\n",
       "      <td>0.252104</td>\n",
       "      <td>0.254831</td>\n",
       "      <td>0.290883</td>\n",
       "      <td>0.110913</td>\n",
       "      <td>0.059539</td>\n",
       "      <td>0.644771</td>\n",
       "    </tr>\n",
       "    <tr>\n",
       "      <th>CC/P/3</th>\n",
       "      <td>0.252573</td>\n",
       "      <td>0.648490</td>\n",
       "      <td>1.000000</td>\n",
       "      <td>0.042081</td>\n",
       "      <td>0.010222</td>\n",
       "      <td>-0.011580</td>\n",
       "      <td>-0.123426</td>\n",
       "      <td>0.012316</td>\n",
       "      <td>0.255429</td>\n",
       "    </tr>\n",
       "    <tr>\n",
       "      <th>IPP</th>\n",
       "      <td>0.307156</td>\n",
       "      <td>0.252104</td>\n",
       "      <td>0.042081</td>\n",
       "      <td>1.000000</td>\n",
       "      <td>0.710721</td>\n",
       "      <td>0.138254</td>\n",
       "      <td>0.241092</td>\n",
       "      <td>0.136356</td>\n",
       "      <td>0.339458</td>\n",
       "    </tr>\n",
       "    <tr>\n",
       "      <th>IPG</th>\n",
       "      <td>0.318924</td>\n",
       "      <td>0.254831</td>\n",
       "      <td>0.010222</td>\n",
       "      <td>0.710721</td>\n",
       "      <td>1.000000</td>\n",
       "      <td>0.228767</td>\n",
       "      <td>0.196563</td>\n",
       "      <td>0.105749</td>\n",
       "      <td>0.349248</td>\n",
       "    </tr>\n",
       "    <tr>\n",
       "      <th>FPR</th>\n",
       "      <td>0.361860</td>\n",
       "      <td>0.290883</td>\n",
       "      <td>-0.011580</td>\n",
       "      <td>0.138254</td>\n",
       "      <td>0.228767</td>\n",
       "      <td>1.000000</td>\n",
       "      <td>0.256978</td>\n",
       "      <td>0.194184</td>\n",
       "      <td>0.280790</td>\n",
       "    </tr>\n",
       "    <tr>\n",
       "      <th>FPC</th>\n",
       "      <td>0.172454</td>\n",
       "      <td>0.110913</td>\n",
       "      <td>-0.123426</td>\n",
       "      <td>0.241092</td>\n",
       "      <td>0.196563</td>\n",
       "      <td>0.256978</td>\n",
       "      <td>1.000000</td>\n",
       "      <td>0.405004</td>\n",
       "      <td>0.155217</td>\n",
       "    </tr>\n",
       "    <tr>\n",
       "      <th>EDP</th>\n",
       "      <td>0.057234</td>\n",
       "      <td>0.059539</td>\n",
       "      <td>0.012316</td>\n",
       "      <td>0.136356</td>\n",
       "      <td>0.105749</td>\n",
       "      <td>0.194184</td>\n",
       "      <td>0.405004</td>\n",
       "      <td>1.000000</td>\n",
       "      <td>0.022984</td>\n",
       "    </tr>\n",
       "    <tr>\n",
       "      <th>RPC (100)</th>\n",
       "      <td>0.679224</td>\n",
       "      <td>0.644771</td>\n",
       "      <td>0.255429</td>\n",
       "      <td>0.339458</td>\n",
       "      <td>0.349248</td>\n",
       "      <td>0.280790</td>\n",
       "      <td>0.155217</td>\n",
       "      <td>0.022984</td>\n",
       "      <td>1.000000</td>\n",
       "    </tr>\n",
       "  </tbody>\n",
       "</table>\n",
       "</div>"
      ],
      "text/plain": [
       "              P/FRQ    CC/FRQ    CC/P/3       IPP       IPG       FPR  \\\n",
       "P/FRQ      1.000000  0.891387  0.252573  0.307156  0.318924  0.361860   \n",
       "CC/FRQ     0.891387  1.000000  0.648490  0.252104  0.254831  0.290883   \n",
       "CC/P/3     0.252573  0.648490  1.000000  0.042081  0.010222 -0.011580   \n",
       "IPP        0.307156  0.252104  0.042081  1.000000  0.710721  0.138254   \n",
       "IPG        0.318924  0.254831  0.010222  0.710721  1.000000  0.228767   \n",
       "FPR        0.361860  0.290883 -0.011580  0.138254  0.228767  1.000000   \n",
       "FPC        0.172454  0.110913 -0.123426  0.241092  0.196563  0.256978   \n",
       "EDP        0.057234  0.059539  0.012316  0.136356  0.105749  0.194184   \n",
       "RPC (100)  0.679224  0.644771  0.255429  0.339458  0.349248  0.280790   \n",
       "\n",
       "                FPC       EDP  RPC (100)  \n",
       "P/FRQ      0.172454  0.057234   0.679224  \n",
       "CC/FRQ     0.110913  0.059539   0.644771  \n",
       "CC/P/3    -0.123426  0.012316   0.255429  \n",
       "IPP        0.241092  0.136356   0.339458  \n",
       "IPG        0.196563  0.105749   0.349248  \n",
       "FPR        0.256978  0.194184   0.280790  \n",
       "FPC        1.000000  0.405004   0.155217  \n",
       "EDP        0.405004  1.000000   0.022984  \n",
       "RPC (100)  0.155217  0.022984   1.000000  "
      ]
     },
     "execution_count": 6,
     "metadata": {},
     "output_type": "execute_result"
    }
   ],
   "source": [
    "df.corr()"
   ]
  },
  {
   "cell_type": "code",
   "execution_count": 7,
   "id": "f2fe4d8c",
   "metadata": {},
   "outputs": [],
   "source": [
    "x=df.drop(['RPC (100)'],axis=1)\n",
    "y=df['RPC (100)']"
   ]
  },
  {
   "cell_type": "code",
   "execution_count": 13,
   "id": "2db0dda8",
   "metadata": {},
   "outputs": [
    {
     "name": "stdout",
     "output_type": "stream",
     "text": [
      "Training:-\n"
     ]
    },
    {
     "data": {
      "application/javascript": [
       "\n",
       "        if (window._pyforest_update_imports_cell) { window._pyforest_update_imports_cell('import numpy as np\\nimport pandas as pd'); }\n",
       "    "
      ],
      "text/plain": [
       "<IPython.core.display.Javascript object>"
      ]
     },
     "metadata": {},
     "output_type": "display_data"
    },
    {
     "data": {
      "application/javascript": [
       "\n",
       "        if (window._pyforest_update_imports_cell) { window._pyforest_update_imports_cell('import numpy as np\\nimport pandas as pd'); }\n",
       "    "
      ],
      "text/plain": [
       "<IPython.core.display.Javascript object>"
      ]
     },
     "metadata": {},
     "output_type": "display_data"
    },
    {
     "name": "stdout",
     "output_type": "stream",
     "text": [
      "Mean absolute Error:  0.054582408183472854\n"
     ]
    },
    {
     "data": {
      "application/javascript": [
       "\n",
       "        if (window._pyforest_update_imports_cell) { window._pyforest_update_imports_cell('import numpy as np\\nimport pandas as pd'); }\n",
       "    "
      ],
      "text/plain": [
       "<IPython.core.display.Javascript object>"
      ]
     },
     "metadata": {},
     "output_type": "display_data"
    },
    {
     "name": "stdout",
     "output_type": "stream",
     "text": [
      "Root mean square error:  4.150401070098205e-06\n",
      "R2 square:  0.9109055284182612\n",
      "Testing:-\n"
     ]
    },
    {
     "data": {
      "application/javascript": [
       "\n",
       "        if (window._pyforest_update_imports_cell) { window._pyforest_update_imports_cell('import numpy as np\\nimport pandas as pd'); }\n",
       "    "
      ],
      "text/plain": [
       "<IPython.core.display.Javascript object>"
      ]
     },
     "metadata": {},
     "output_type": "display_data"
    },
    {
     "data": {
      "application/javascript": [
       "\n",
       "        if (window._pyforest_update_imports_cell) { window._pyforest_update_imports_cell('import numpy as np\\nimport pandas as pd'); }\n",
       "    "
      ],
      "text/plain": [
       "<IPython.core.display.Javascript object>"
      ]
     },
     "metadata": {},
     "output_type": "display_data"
    },
    {
     "name": "stdout",
     "output_type": "stream",
     "text": [
      "Mean absolute Error:  0.14855005779035674\n"
     ]
    },
    {
     "data": {
      "application/javascript": [
       "\n",
       "        if (window._pyforest_update_imports_cell) { window._pyforest_update_imports_cell('import numpy as np\\nimport pandas as pd'); }\n",
       "    "
      ],
      "text/plain": [
       "<IPython.core.display.Javascript object>"
      ]
     },
     "metadata": {},
     "output_type": "display_data"
    },
    {
     "name": "stdout",
     "output_type": "stream",
     "text": [
      "Root mean square error:  0.003211802701925885\n",
      "R2 square:  0.7112570549393147\n"
     ]
    }
   ],
   "source": [
    "from sklearn.ensemble import RandomForestRegressor\n",
    "from sklearn.model_selection import train_test_split\n",
    "x_train,x_test,y_train,y_test = train_test_split(x,y,test_size=0.2)\n",
    "regressor2 = RandomForestRegressor()\n",
    "regressor2.fit(x_train, y_train)\n",
    "y_pred1 =regressor2.predict(x_train)\n",
    "from sklearn.metrics import r2_score\n",
    "print(\"Training:-\")\n",
    "print(\"Mean absolute Error: \" ,np.mean(np.absolute(y_pred1-y_train)))\n",
    "print(\"Root mean square error: \" ,np.mean(y_pred1-y_train)**2)\n",
    "print(\"R2 square: \" ,r2_score(y_pred1,y_train))\n",
    "regressor = RandomForestRegressor()\n",
    "regressor.fit(x_train, y_train)\n",
    "y_pred =regressor.predict(x_test)\n",
    "from sklearn.metrics import r2_score\n",
    "print(\"Testing:-\")\n",
    "print(\"Mean absolute Error: \" ,np.mean(np.absolute(y_pred-y_test)))\n",
    "print(\"Root mean square error: \" ,np.mean(y_pred-y_test)**2)\n",
    "print(\"R2 square: \" ,r2_score(y_pred,y_test))"
   ]
  },
  {
   "cell_type": "code",
   "execution_count": 14,
   "id": "568b0da1",
   "metadata": {},
   "outputs": [],
   "source": [
    "params = {\n",
    "    'max_depth': [i for i in range(1,100+1)],\n",
    "    'n_estimators': [i for i in range(1,200+1)]\n",
    "}"
   ]
  },
  {
   "cell_type": "code",
   "execution_count": 15,
   "id": "01142150",
   "metadata": {},
   "outputs": [],
   "source": [
    "from sklearn.model_selection import RandomizedSearchCV\n",
    "rf_rand = RandomizedSearchCV(estimator=regressor,\n",
    "                           param_distributions=params,cv = 5,\n",
    "                           n_jobs=4, verbose=2)"
   ]
  },
  {
   "cell_type": "code",
   "execution_count": 16,
   "id": "74db6346",
   "metadata": {},
   "outputs": [
    {
     "name": "stdout",
     "output_type": "stream",
     "text": [
      "Fitting 5 folds for each of 10 candidates, totalling 50 fits\n"
     ]
    },
    {
     "data": {
      "text/plain": [
       "RandomizedSearchCV(cv=5, estimator=RandomForestRegressor(), n_jobs=4,\n",
       "                   param_distributions={'max_depth': [1, 2, 3, 4, 5, 6, 7, 8, 9,\n",
       "                                                      10, 11, 12, 13, 14, 15,\n",
       "                                                      16, 17, 18, 19, 20, 21,\n",
       "                                                      22, 23, 24, 25, 26, 27,\n",
       "                                                      28, 29, 30, ...],\n",
       "                                        'n_estimators': [1, 2, 3, 4, 5, 6, 7, 8,\n",
       "                                                         9, 10, 11, 12, 13, 14,\n",
       "                                                         15, 16, 17, 18, 19, 20,\n",
       "                                                         21, 22, 23, 24, 25, 26,\n",
       "                                                         27, 28, 29, 30, ...]},\n",
       "                   verbose=2)"
      ]
     },
     "execution_count": 16,
     "metadata": {},
     "output_type": "execute_result"
    }
   ],
   "source": [
    "rf_rand.fit(x_train,y_train)"
   ]
  },
  {
   "cell_type": "code",
   "execution_count": 17,
   "id": "a0542500",
   "metadata": {},
   "outputs": [],
   "source": [
    "best_rand=rf_rand.best_estimator_"
   ]
  },
  {
   "cell_type": "code",
   "execution_count": 18,
   "id": "5da605fd",
   "metadata": {},
   "outputs": [
    {
     "data": {
      "text/plain": [
       "array([1.46427832, 1.39349189, 1.49448405, 0.64236994, 1.61291556,\n",
       "       1.28253872, 0.71098699, 1.27380359, 1.40173854, 1.25312595,\n",
       "       1.67515561, 1.28076575, 0.74182558, 0.56047907, 1.4586125 ,\n",
       "       1.09334899, 1.38024047, 1.27674575, 1.54447373, 1.5916018 ])"
      ]
     },
     "execution_count": 18,
     "metadata": {},
     "output_type": "execute_result"
    }
   ],
   "source": [
    "y_p=best_rand.predict(x_test)\n",
    "y_p"
   ]
  },
  {
   "cell_type": "code",
   "execution_count": 19,
   "id": "781d4f9b",
   "metadata": {},
   "outputs": [],
   "source": [
    "y_p1 =best_rand.predict(x_train)"
   ]
  },
  {
   "cell_type": "code",
   "execution_count": 20,
   "id": "9274adae",
   "metadata": {},
   "outputs": [
    {
     "name": "stdout",
     "output_type": "stream",
     "text": [
      "Training:\n"
     ]
    },
    {
     "data": {
      "application/javascript": [
       "\n",
       "        if (window._pyforest_update_imports_cell) { window._pyforest_update_imports_cell('import numpy as np\\nimport pandas as pd'); }\n",
       "    "
      ],
      "text/plain": [
       "<IPython.core.display.Javascript object>"
      ]
     },
     "metadata": {},
     "output_type": "display_data"
    },
    {
     "data": {
      "application/javascript": [
       "\n",
       "        if (window._pyforest_update_imports_cell) { window._pyforest_update_imports_cell('import numpy as np\\nimport pandas as pd'); }\n",
       "    "
      ],
      "text/plain": [
       "<IPython.core.display.Javascript object>"
      ]
     },
     "metadata": {},
     "output_type": "display_data"
    },
    {
     "name": "stdout",
     "output_type": "stream",
     "text": [
      "Mean absolute Error:  0.05733013397090355\n"
     ]
    },
    {
     "data": {
      "application/javascript": [
       "\n",
       "        if (window._pyforest_update_imports_cell) { window._pyforest_update_imports_cell('import numpy as np\\nimport pandas as pd'); }\n",
       "    "
      ],
      "text/plain": [
       "<IPython.core.display.Javascript object>"
      ]
     },
     "metadata": {},
     "output_type": "display_data"
    },
    {
     "name": "stdout",
     "output_type": "stream",
     "text": [
      "Root mean square error:  1.3311015368458935e-05\n",
      "R2 square:  0.8892791176180511\n",
      "\n",
      "Testing:\n"
     ]
    },
    {
     "data": {
      "application/javascript": [
       "\n",
       "        if (window._pyforest_update_imports_cell) { window._pyforest_update_imports_cell('import numpy as np\\nimport pandas as pd'); }\n",
       "    "
      ],
      "text/plain": [
       "<IPython.core.display.Javascript object>"
      ]
     },
     "metadata": {},
     "output_type": "display_data"
    },
    {
     "data": {
      "application/javascript": [
       "\n",
       "        if (window._pyforest_update_imports_cell) { window._pyforest_update_imports_cell('import numpy as np\\nimport pandas as pd'); }\n",
       "    "
      ],
      "text/plain": [
       "<IPython.core.display.Javascript object>"
      ]
     },
     "metadata": {},
     "output_type": "display_data"
    },
    {
     "name": "stdout",
     "output_type": "stream",
     "text": [
      "Mean absolute Error:  0.1394771187625629\n"
     ]
    },
    {
     "data": {
      "application/javascript": [
       "\n",
       "        if (window._pyforest_update_imports_cell) { window._pyforest_update_imports_cell('import numpy as np\\nimport pandas as pd'); }\n",
       "    "
      ],
      "text/plain": [
       "<IPython.core.display.Javascript object>"
      ]
     },
     "metadata": {},
     "output_type": "display_data"
    },
    {
     "name": "stdout",
     "output_type": "stream",
     "text": [
      "Root mean square error:  0.0018162383428324972\n",
      "R2 square:  0.7152787742071984\n"
     ]
    }
   ],
   "source": [
    "print(\"Training:\")\n",
    "print(\"Mean absolute Error: \" ,np.mean(np.absolute(y_p1-y_train)))\n",
    "print(\"Root mean square error: \" ,np.mean(y_p1-y_train)**2)\n",
    "print(\"R2 square: \" ,r2_score(y_p1,y_train))\n",
    "print(\"\\nTesting:\")\n",
    "print(\"Mean absolute Error: \" ,np.mean(np.absolute(y_p-y_test)))\n",
    "print(\"Root mean square error: \" ,np.mean(y_p-y_test)**2)\n",
    "print(\"R2 square: \" ,r2_score(y_p,y_test))"
   ]
  },
  {
   "cell_type": "code",
   "execution_count": 21,
   "id": "4f728665",
   "metadata": {},
   "outputs": [
    {
     "data": {
      "application/javascript": [
       "\n",
       "        if (window._pyforest_update_imports_cell) { window._pyforest_update_imports_cell('import matplotlib.pyplot as plt\\nimport numpy as np\\nimport pandas as pd'); }\n",
       "    "
      ],
      "text/plain": [
       "<IPython.core.display.Javascript object>"
      ]
     },
     "metadata": {},
     "output_type": "display_data"
    },
    {
     "data": {
      "application/javascript": [
       "\n",
       "        if (window._pyforest_update_imports_cell) { window._pyforest_update_imports_cell('import matplotlib.pyplot as plt\\nimport numpy as np\\nimport pandas as pd'); }\n",
       "    "
      ],
      "text/plain": [
       "<IPython.core.display.Javascript object>"
      ]
     },
     "metadata": {},
     "output_type": "display_data"
    },
    {
     "data": {
      "application/javascript": [
       "\n",
       "        if (window._pyforest_update_imports_cell) { window._pyforest_update_imports_cell('import matplotlib.pyplot as plt\\nimport numpy as np\\nimport pandas as pd'); }\n",
       "    "
      ],
      "text/plain": [
       "<IPython.core.display.Javascript object>"
      ]
     },
     "metadata": {},
     "output_type": "display_data"
    },
    {
     "data": {
      "application/javascript": [
       "\n",
       "        if (window._pyforest_update_imports_cell) { window._pyforest_update_imports_cell('import matplotlib.pyplot as plt\\nimport numpy as np\\nimport pandas as pd'); }\n",
       "    "
      ],
      "text/plain": [
       "<IPython.core.display.Javascript object>"
      ]
     },
     "metadata": {},
     "output_type": "display_data"
    },
    {
     "data": {
      "application/javascript": [
       "\n",
       "        if (window._pyforest_update_imports_cell) { window._pyforest_update_imports_cell('import matplotlib.pyplot as plt\\nimport numpy as np\\nimport pandas as pd'); }\n",
       "    "
      ],
      "text/plain": [
       "<IPython.core.display.Javascript object>"
      ]
     },
     "metadata": {},
     "output_type": "display_data"
    },
    {
     "data": {
      "image/png": "[encoded data removed]",
      "text/plain": [
       "<Figure size 432x288 with 1 Axes>"
      ]
     },
     "metadata": {
      "needs_background": "light"
     },
     "output_type": "display_data"
    }
   ],
   "source": [
    "fig, ax = plt.subplots()\n",
    "ax.scatter(y_p1,y_train,label='train',color='#e8e7d8',edgecolors='#494623')\n",
    "ax.scatter(y_p,y_test,label='test',color='#c3892b',marker =\"^\",edgecolors='#494623')\n",
    "plt.xlabel('Actual Value')\n",
    "plt.ylabel('Predicted value')\n",
    "ax.legend()\n",
    "lims = [\n",
    "    np.min([ax.get_xlim(), ax.get_ylim()]),  # min of both axes\n",
    "    np.max([ax.get_xlim(), ax.get_ylim()]),  # max of both axes\n",
    "]\n",
    "\n",
    "# now plot both limits against eachother\n",
    "ax.plot(lims, lims, '--')\n",
    "ax.set_aspect('equal')\n",
    "ax.set_xlim(lims)\n",
    "ax.set_ylim(lims)\n",
    "fig.savefig('/Users/Rishi Chaitanya/Desktop/NIRF_LOG11.png', dpi=1200)"
   ]
  },
  {
   "cell_type": "code",
   "execution_count": 32,
   "id": "a6b56f2d",
   "metadata": {},
   "outputs": [
    {
     "data": {
      "application/javascript": [
       "\n",
       "        if (window._pyforest_update_imports_cell) { window._pyforest_update_imports_cell('import matplotlib.pyplot as plt\\nimport numpy as np\\nimport pandas as pd'); }\n",
       "    "
      ],
      "text/plain": [
       "<IPython.core.display.Javascript object>"
      ]
     },
     "metadata": {},
     "output_type": "display_data"
    },
    {
     "data": {
      "text/html": [
       "<div>\n",
       "<style scoped>\n",
       "    .dataframe tbody tr th:only-of-type {\n",
       "        vertical-align: middle;\n",
       "    }\n",
       "\n",
       "    .dataframe tbody tr th {\n",
       "        vertical-align: top;\n",
       "    }\n",
       "\n",
       "    .dataframe thead th {\n",
       "        text-align: right;\n",
       "    }\n",
       "</style>\n",
       "<table border=\"1\" class=\"dataframe\">\n",
       "  <thead>\n",
       "    <tr style=\"text-align: right;\">\n",
       "      <th></th>\n",
       "      <th>a</th>\n",
       "      <th>b</th>\n",
       "      <th>c</th>\n",
       "      <th>d</th>\n",
       "      <th>e</th>\n",
       "      <th>f</th>\n",
       "      <th>g</th>\n",
       "      <th>h</th>\n",
       "    </tr>\n",
       "  </thead>\n",
       "  <tbody>\n",
       "    <tr>\n",
       "      <th>0</th>\n",
       "      <td>2.13</td>\n",
       "      <td>8.13</td>\n",
       "      <td>1.28</td>\n",
       "      <td>11</td>\n",
       "      <td>10</td>\n",
       "      <td>3.754671e+08</td>\n",
       "      <td>3.017836e+06</td>\n",
       "      <td>3.547625e+07</td>\n",
       "    </tr>\n",
       "    <tr>\n",
       "      <th>1</th>\n",
       "      <td>1.72</td>\n",
       "      <td>3.26</td>\n",
       "      <td>0.63</td>\n",
       "      <td>174</td>\n",
       "      <td>2</td>\n",
       "      <td>7.202285e+07</td>\n",
       "      <td>1.424182e+07</td>\n",
       "      <td>1.069464e+06</td>\n",
       "    </tr>\n",
       "    <tr>\n",
       "      <th>2</th>\n",
       "      <td>0.18</td>\n",
       "      <td>1.75</td>\n",
       "      <td>3.23</td>\n",
       "      <td>18</td>\n",
       "      <td>0</td>\n",
       "      <td>8.165286e+07</td>\n",
       "      <td>5.915977e+07</td>\n",
       "      <td>2.778553e+07</td>\n",
       "    </tr>\n",
       "    <tr>\n",
       "      <th>3</th>\n",
       "      <td>0.67</td>\n",
       "      <td>1.31</td>\n",
       "      <td>0.66</td>\n",
       "      <td>56</td>\n",
       "      <td>27</td>\n",
       "      <td>3.224453e+07</td>\n",
       "      <td>1.163128e+07</td>\n",
       "      <td>9.673333e+05</td>\n",
       "    </tr>\n",
       "  </tbody>\n",
       "</table>\n",
       "</div>"
      ],
      "text/plain": [
       "      a     b     c    d   e             f             g             h\n",
       "0  2.13  8.13  1.28   11  10  3.754671e+08  3.017836e+06  3.547625e+07\n",
       "1  1.72  3.26  0.63  174   2  7.202285e+07  1.424182e+07  1.069464e+06\n",
       "2  0.18  1.75  3.23   18   0  8.165286e+07  5.915977e+07  2.778553e+07\n",
       "3  0.67  1.31  0.66   56  27  3.224453e+07  1.163128e+07  9.673333e+05"
      ]
     },
     "execution_count": 32,
     "metadata": {},
     "output_type": "execute_result"
    }
   ],
   "source": [
    "d=pd.read_excel(\"E:\\\\NIRF_2023\\\\RPC\\\\TEST.xlsx\")\n",
    "d.head()"
   ]
  },
  {
   "cell_type": "code",
   "execution_count": 34,
   "id": "4ca1e53e",
   "metadata": {},
   "outputs": [
    {
     "data": {
      "application/javascript": [
       "\n",
       "        if (window._pyforest_update_imports_cell) { window._pyforest_update_imports_cell('import matplotlib.pyplot as plt\\nimport numpy as np\\nimport pandas as pd'); }\n",
       "    "
      ],
      "text/plain": [
       "<IPython.core.display.Javascript object>"
      ]
     },
     "metadata": {},
     "output_type": "display_data"
    },
    {
     "data": {
      "application/javascript": [
       "\n",
       "        if (window._pyforest_update_imports_cell) { window._pyforest_update_imports_cell('import matplotlib.pyplot as plt\\nimport numpy as np\\nimport pandas as pd'); }\n",
       "    "
      ],
      "text/plain": [
       "<IPython.core.display.Javascript object>"
      ]
     },
     "metadata": {},
     "output_type": "display_data"
    },
    {
     "data": {
      "application/javascript": [
       "\n",
       "        if (window._pyforest_update_imports_cell) { window._pyforest_update_imports_cell('import matplotlib.pyplot as plt\\nimport numpy as np\\nimport pandas as pd'); }\n",
       "    "
      ],
      "text/plain": [
       "<IPython.core.display.Javascript object>"
      ]
     },
     "metadata": {},
     "output_type": "display_data"
    },
    {
     "data": {
      "application/javascript": [
       "\n",
       "        if (window._pyforest_update_imports_cell) { window._pyforest_update_imports_cell('import matplotlib.pyplot as plt\\nimport numpy as np\\nimport pandas as pd'); }\n",
       "    "
      ],
      "text/plain": [
       "<IPython.core.display.Javascript object>"
      ]
     },
     "metadata": {},
     "output_type": "display_data"
    },
    {
     "data": {
      "application/javascript": [
       "\n",
       "        if (window._pyforest_update_imports_cell) { window._pyforest_update_imports_cell('import matplotlib.pyplot as plt\\nimport numpy as np\\nimport pandas as pd'); }\n",
       "    "
      ],
      "text/plain": [
       "<IPython.core.display.Javascript object>"
      ]
     },
     "metadata": {},
     "output_type": "display_data"
    },
    {
     "data": {
      "application/javascript": [
       "\n",
       "        if (window._pyforest_update_imports_cell) { window._pyforest_update_imports_cell('import matplotlib.pyplot as plt\\nimport numpy as np\\nimport pandas as pd'); }\n",
       "    "
      ],
      "text/plain": [
       "<IPython.core.display.Javascript object>"
      ]
     },
     "metadata": {},
     "output_type": "display_data"
    },
    {
     "data": {
      "application/javascript": [
       "\n",
       "        if (window._pyforest_update_imports_cell) { window._pyforest_update_imports_cell('import matplotlib.pyplot as plt\\nimport numpy as np\\nimport pandas as pd'); }\n",
       "    "
      ],
      "text/plain": [
       "<IPython.core.display.Javascript object>"
      ]
     },
     "metadata": {},
     "output_type": "display_data"
    },
    {
     "data": {
      "application/javascript": [
       "\n",
       "        if (window._pyforest_update_imports_cell) { window._pyforest_update_imports_cell('import matplotlib.pyplot as plt\\nimport numpy as np\\nimport pandas as pd'); }\n",
       "    "
      ],
      "text/plain": [
       "<IPython.core.display.Javascript object>"
      ]
     },
     "metadata": {},
     "output_type": "display_data"
    }
   ],
   "source": [
    "d['a']=np.log10((d['a'])-(min(da['P/FRQ'])-1))\n",
    "d['b']=np.log10((d['b'])-(min(da['CC/FRQ'])-1))\n",
    "d['c']=np.log10((d['c'])-(min(da['CC/P/3'])-1))\n",
    "d['d']=np.log10((d['d'])-(min(da['IPP'])-1))\n",
    "d['e']=np.log10((d['e'])-(min(da['IPG'])-1))\n",
    "d['f']=np.log10((d['f'])-(min(da['FPR'])-1))\n",
    "d['g']=np.log10((d['g'])-(min(da['FPC'])-1))\n",
    "d['h']=np.log10((d['h'])-(min(da['EDP'])-1))"
   ]
  },
  {
   "cell_type": "code",
   "execution_count": 33,
   "id": "ac92269d",
   "metadata": {},
   "outputs": [
    {
     "data": {
      "application/javascript": [
       "\n",
       "        if (window._pyforest_update_imports_cell) { window._pyforest_update_imports_cell('import matplotlib.pyplot as plt\\nimport numpy as np\\nimport pandas as pd'); }\n",
       "    "
      ],
      "text/plain": [
       "<IPython.core.display.Javascript object>"
      ]
     },
     "metadata": {},
     "output_type": "display_data"
    },
    {
     "data": {
      "text/html": [
       "<div>\n",
       "<style scoped>\n",
       "    .dataframe tbody tr th:only-of-type {\n",
       "        vertical-align: middle;\n",
       "    }\n",
       "\n",
       "    .dataframe tbody tr th {\n",
       "        vertical-align: top;\n",
       "    }\n",
       "\n",
       "    .dataframe thead th {\n",
       "        text-align: right;\n",
       "    }\n",
       "</style>\n",
       "<table border=\"1\" class=\"dataframe\">\n",
       "  <thead>\n",
       "    <tr style=\"text-align: right;\">\n",
       "      <th></th>\n",
       "      <th>P</th>\n",
       "      <th>FRQ</th>\n",
       "      <th>P/FRQ</th>\n",
       "      <th>Total Cite</th>\n",
       "      <th>CC/FRQ</th>\n",
       "      <th>CC/P/3</th>\n",
       "      <th>IPP</th>\n",
       "      <th>IPG</th>\n",
       "      <th>FPR</th>\n",
       "      <th>FPC</th>\n",
       "      <th>EDP</th>\n",
       "      <th>RPC (100)</th>\n",
       "    </tr>\n",
       "  </thead>\n",
       "  <tbody>\n",
       "    <tr>\n",
       "      <th>0</th>\n",
       "      <td>9374</td>\n",
       "      <td>465</td>\n",
       "      <td>6.72</td>\n",
       "      <td>157444</td>\n",
       "      <td>112.86</td>\n",
       "      <td>5.60</td>\n",
       "      <td>142</td>\n",
       "      <td>78</td>\n",
       "      <td>4.507136e+09</td>\n",
       "      <td>4.288064e+08</td>\n",
       "      <td>9.476381e+06</td>\n",
       "      <td>87.45</td>\n",
       "    </tr>\n",
       "    <tr>\n",
       "      <th>1</th>\n",
       "      <td>3688</td>\n",
       "      <td>671</td>\n",
       "      <td>1.83</td>\n",
       "      <td>15907</td>\n",
       "      <td>7.90</td>\n",
       "      <td>1.44</td>\n",
       "      <td>18</td>\n",
       "      <td>15</td>\n",
       "      <td>2.851737e+08</td>\n",
       "      <td>4.933128e+06</td>\n",
       "      <td>5.241400e+04</td>\n",
       "      <td>45.55</td>\n",
       "    </tr>\n",
       "    <tr>\n",
       "      <th>2</th>\n",
       "      <td>3570</td>\n",
       "      <td>1351</td>\n",
       "      <td>0.88</td>\n",
       "      <td>14652</td>\n",
       "      <td>3.62</td>\n",
       "      <td>1.37</td>\n",
       "      <td>89</td>\n",
       "      <td>15</td>\n",
       "      <td>4.817552e+08</td>\n",
       "      <td>6.472842e+07</td>\n",
       "      <td>4.755502e+07</td>\n",
       "      <td>47.38</td>\n",
       "    </tr>\n",
       "    <tr>\n",
       "      <th>3</th>\n",
       "      <td>5814</td>\n",
       "      <td>1830</td>\n",
       "      <td>1.06</td>\n",
       "      <td>17222</td>\n",
       "      <td>3.14</td>\n",
       "      <td>0.99</td>\n",
       "      <td>11</td>\n",
       "      <td>10</td>\n",
       "      <td>6.724123e+08</td>\n",
       "      <td>1.510703e+08</td>\n",
       "      <td>3.767544e+07</td>\n",
       "      <td>53.73</td>\n",
       "    </tr>\n",
       "    <tr>\n",
       "      <th>4</th>\n",
       "      <td>2764</td>\n",
       "      <td>1830</td>\n",
       "      <td>0.50</td>\n",
       "      <td>5853</td>\n",
       "      <td>1.07</td>\n",
       "      <td>0.71</td>\n",
       "      <td>67</td>\n",
       "      <td>47</td>\n",
       "      <td>5.394218e+08</td>\n",
       "      <td>2.841773e+08</td>\n",
       "      <td>2.841773e+08</td>\n",
       "      <td>50.06</td>\n",
       "    </tr>\n",
       "  </tbody>\n",
       "</table>\n",
       "</div>"
      ],
      "text/plain": [
       "      P   FRQ  P/FRQ  Total Cite  CC/FRQ  CC/P/3  IPP  IPG           FPR  \\\n",
       "0  9374   465   6.72      157444  112.86    5.60  142   78  4.507136e+09   \n",
       "1  3688   671   1.83       15907    7.90    1.44   18   15  2.851737e+08   \n",
       "2  3570  1351   0.88       14652    3.62    1.37   89   15  4.817552e+08   \n",
       "3  5814  1830   1.06       17222    3.14    0.99   11   10  6.724123e+08   \n",
       "4  2764  1830   0.50        5853    1.07    0.71   67   47  5.394218e+08   \n",
       "\n",
       "            FPC           EDP  RPC (100)  \n",
       "0  4.288064e+08  9.476381e+06      87.45  \n",
       "1  4.933128e+06  5.241400e+04      45.55  \n",
       "2  6.472842e+07  4.755502e+07      47.38  \n",
       "3  1.510703e+08  3.767544e+07      53.73  \n",
       "4  2.841773e+08  2.841773e+08      50.06  "
      ]
     },
     "execution_count": 33,
     "metadata": {},
     "output_type": "execute_result"
    }
   ],
   "source": [
    "da=pd.read_excel(\"E:\\\\NIRF_2023\\\\RPC\\\\NIRF_2022.xlsx\")\n",
    "da.head()"
   ]
  },
  {
   "cell_type": "code",
   "execution_count": 38,
   "id": "61faf96b",
   "metadata": {},
   "outputs": [
    {
     "data": {
      "text/html": [
       "<div>\n",
       "<style scoped>\n",
       "    .dataframe tbody tr th:only-of-type {\n",
       "        vertical-align: middle;\n",
       "    }\n",
       "\n",
       "    .dataframe tbody tr th {\n",
       "        vertical-align: top;\n",
       "    }\n",
       "\n",
       "    .dataframe thead th {\n",
       "        text-align: right;\n",
       "    }\n",
       "</style>\n",
       "<table border=\"1\" class=\"dataframe\">\n",
       "  <thead>\n",
       "    <tr style=\"text-align: right;\">\n",
       "      <th></th>\n",
       "      <th>P</th>\n",
       "      <th>FRQ</th>\n",
       "      <th>P/FRQ</th>\n",
       "      <th>Total Cite</th>\n",
       "      <th>CC/FRQ</th>\n",
       "      <th>CC/P/3</th>\n",
       "      <th>IPP</th>\n",
       "      <th>IPG</th>\n",
       "      <th>FPR</th>\n",
       "      <th>FPC</th>\n",
       "      <th>EDP</th>\n",
       "      <th>RPC (100)</th>\n",
       "    </tr>\n",
       "  </thead>\n",
       "  <tbody>\n",
       "    <tr>\n",
       "      <th>count</th>\n",
       "      <td>100.000000</td>\n",
       "      <td>100.000000</td>\n",
       "      <td>100.000000</td>\n",
       "      <td>100.000000</td>\n",
       "      <td>100.000000</td>\n",
       "      <td>100.000000</td>\n",
       "      <td>100.00000</td>\n",
       "      <td>100.00000</td>\n",
       "      <td>1.000000e+02</td>\n",
       "      <td>1.000000e+02</td>\n",
       "      <td>1.000000e+02</td>\n",
       "      <td>100.000000</td>\n",
       "    </tr>\n",
       "    <tr>\n",
       "      <th>mean</th>\n",
       "      <td>2141.550000</td>\n",
       "      <td>1112.000000</td>\n",
       "      <td>0.826800</td>\n",
       "      <td>8417.050000</td>\n",
       "      <td>3.851500</td>\n",
       "      <td>1.226500</td>\n",
       "      <td>37.33000</td>\n",
       "      <td>9.34000</td>\n",
       "      <td>2.636974e+08</td>\n",
       "      <td>8.427364e+07</td>\n",
       "      <td>2.042229e+07</td>\n",
       "      <td>27.441700</td>\n",
       "    </tr>\n",
       "    <tr>\n",
       "      <th>std</th>\n",
       "      <td>1973.780249</td>\n",
       "      <td>759.974122</td>\n",
       "      <td>0.850599</td>\n",
       "      <td>16328.272313</td>\n",
       "      <td>11.327057</td>\n",
       "      <td>0.925512</td>\n",
       "      <td>103.42118</td>\n",
       "      <td>19.82867</td>\n",
       "      <td>5.153897e+08</td>\n",
       "      <td>3.630681e+08</td>\n",
       "      <td>4.405253e+07</td>\n",
       "      <td>14.422791</td>\n",
       "    </tr>\n",
       "    <tr>\n",
       "      <th>min</th>\n",
       "      <td>222.000000</td>\n",
       "      <td>161.000000</td>\n",
       "      <td>0.030000</td>\n",
       "      <td>186.000000</td>\n",
       "      <td>0.050000</td>\n",
       "      <td>0.220000</td>\n",
       "      <td>0.00000</td>\n",
       "      <td>0.00000</td>\n",
       "      <td>6.407647e+06</td>\n",
       "      <td>1.400000e+04</td>\n",
       "      <td>0.000000e+00</td>\n",
       "      <td>3.090000</td>\n",
       "    </tr>\n",
       "    <tr>\n",
       "      <th>25%</th>\n",
       "      <td>848.250000</td>\n",
       "      <td>552.000000</td>\n",
       "      <td>0.327500</td>\n",
       "      <td>2560.750000</td>\n",
       "      <td>0.910000</td>\n",
       "      <td>0.745000</td>\n",
       "      <td>0.00000</td>\n",
       "      <td>0.00000</td>\n",
       "      <td>5.170694e+07</td>\n",
       "      <td>4.918347e+06</td>\n",
       "      <td>4.023167e+05</td>\n",
       "      <td>17.575000</td>\n",
       "    </tr>\n",
       "    <tr>\n",
       "      <th>50%</th>\n",
       "      <td>1330.000000</td>\n",
       "      <td>841.000000</td>\n",
       "      <td>0.620000</td>\n",
       "      <td>4482.500000</td>\n",
       "      <td>2.030000</td>\n",
       "      <td>0.985000</td>\n",
       "      <td>11.00000</td>\n",
       "      <td>3.00000</td>\n",
       "      <td>1.243528e+08</td>\n",
       "      <td>1.956927e+07</td>\n",
       "      <td>4.405110e+06</td>\n",
       "      <td>23.790000</td>\n",
       "    </tr>\n",
       "    <tr>\n",
       "      <th>75%</th>\n",
       "      <td>2929.750000</td>\n",
       "      <td>1583.000000</td>\n",
       "      <td>0.990000</td>\n",
       "      <td>9503.000000</td>\n",
       "      <td>3.475000</td>\n",
       "      <td>1.300000</td>\n",
       "      <td>33.25000</td>\n",
       "      <td>10.00000</td>\n",
       "      <td>2.866951e+08</td>\n",
       "      <td>5.578748e+07</td>\n",
       "      <td>1.462632e+07</td>\n",
       "      <td>36.277500</td>\n",
       "    </tr>\n",
       "    <tr>\n",
       "      <th>max</th>\n",
       "      <td>9607.000000</td>\n",
       "      <td>3875.000000</td>\n",
       "      <td>6.720000</td>\n",
       "      <td>157444.000000</td>\n",
       "      <td>112.860000</td>\n",
       "      <td>5.850000</td>\n",
       "      <td>956.00000</td>\n",
       "      <td>140.00000</td>\n",
       "      <td>4.507136e+09</td>\n",
       "      <td>3.597401e+09</td>\n",
       "      <td>2.841773e+08</td>\n",
       "      <td>87.450000</td>\n",
       "    </tr>\n",
       "  </tbody>\n",
       "</table>\n",
       "</div>"
      ],
      "text/plain": [
       "                 P          FRQ       P/FRQ     Total Cite      CC/FRQ  \\\n",
       "count   100.000000   100.000000  100.000000     100.000000  100.000000   \n",
       "mean   2141.550000  1112.000000    0.826800    8417.050000    3.851500   \n",
       "std    1973.780249   759.974122    0.850599   16328.272313   11.327057   \n",
       "min     222.000000   161.000000    0.030000     186.000000    0.050000   \n",
       "25%     848.250000   552.000000    0.327500    2560.750000    0.910000   \n",
       "50%    1330.000000   841.000000    0.620000    4482.500000    2.030000   \n",
       "75%    2929.750000  1583.000000    0.990000    9503.000000    3.475000   \n",
       "max    9607.000000  3875.000000    6.720000  157444.000000  112.860000   \n",
       "\n",
       "           CC/P/3        IPP        IPG           FPR           FPC  \\\n",
       "count  100.000000  100.00000  100.00000  1.000000e+02  1.000000e+02   \n",
       "mean     1.226500   37.33000    9.34000  2.636974e+08  8.427364e+07   \n",
       "std      0.925512  103.42118   19.82867  5.153897e+08  3.630681e+08   \n",
       "min      0.220000    0.00000    0.00000  6.407647e+06  1.400000e+04   \n",
       "25%      0.745000    0.00000    0.00000  5.170694e+07  4.918347e+06   \n",
       "50%      0.985000   11.00000    3.00000  1.243528e+08  1.956927e+07   \n",
       "75%      1.300000   33.25000   10.00000  2.866951e+08  5.578748e+07   \n",
       "max      5.850000  956.00000  140.00000  4.507136e+09  3.597401e+09   \n",
       "\n",
       "                EDP   RPC (100)  \n",
       "count  1.000000e+02  100.000000  \n",
       "mean   2.042229e+07   27.441700  \n",
       "std    4.405253e+07   14.422791  \n",
       "min    0.000000e+00    3.090000  \n",
       "25%    4.023167e+05   17.575000  \n",
       "50%    4.405110e+06   23.790000  \n",
       "75%    1.462632e+07   36.277500  \n",
       "max    2.841773e+08   87.450000  "
      ]
     },
     "execution_count": 38,
     "metadata": {},
     "output_type": "execute_result"
    }
   ],
   "source": [
    "da.describe()"
   ]
  },
  {
   "cell_type": "code",
   "execution_count": 35,
   "id": "e92d879a",
   "metadata": {},
   "outputs": [
    {
     "data": {
      "text/html": [
       "<div>\n",
       "<style scoped>\n",
       "    .dataframe tbody tr th:only-of-type {\n",
       "        vertical-align: middle;\n",
       "    }\n",
       "\n",
       "    .dataframe tbody tr th {\n",
       "        vertical-align: top;\n",
       "    }\n",
       "\n",
       "    .dataframe thead th {\n",
       "        text-align: right;\n",
       "    }\n",
       "</style>\n",
       "<table border=\"1\" class=\"dataframe\">\n",
       "  <thead>\n",
       "    <tr style=\"text-align: right;\">\n",
       "      <th></th>\n",
       "      <th>a</th>\n",
       "      <th>b</th>\n",
       "      <th>c</th>\n",
       "      <th>d</th>\n",
       "      <th>e</th>\n",
       "      <th>f</th>\n",
       "      <th>g</th>\n",
       "      <th>h</th>\n",
       "    </tr>\n",
       "  </thead>\n",
       "  <tbody>\n",
       "    <tr>\n",
       "      <th>0</th>\n",
       "      <td>0.491362</td>\n",
       "      <td>0.958086</td>\n",
       "      <td>0.313867</td>\n",
       "      <td>1.079181</td>\n",
       "      <td>1.041393</td>\n",
       "      <td>8.567096</td>\n",
       "      <td>6.477676</td>\n",
       "      <td>7.549938</td>\n",
       "    </tr>\n",
       "    <tr>\n",
       "      <th>1</th>\n",
       "      <td>0.429752</td>\n",
       "      <td>0.624282</td>\n",
       "      <td>0.149219</td>\n",
       "      <td>2.243038</td>\n",
       "      <td>0.477121</td>\n",
       "      <td>7.817004</td>\n",
       "      <td>7.153138</td>\n",
       "      <td>6.029167</td>\n",
       "    </tr>\n",
       "    <tr>\n",
       "      <th>2</th>\n",
       "      <td>0.060698</td>\n",
       "      <td>0.431364</td>\n",
       "      <td>0.603144</td>\n",
       "      <td>1.278754</td>\n",
       "      <td>0.000000</td>\n",
       "      <td>7.876479</td>\n",
       "      <td>7.771924</td>\n",
       "      <td>7.443819</td>\n",
       "    </tr>\n",
       "    <tr>\n",
       "      <th>3</th>\n",
       "      <td>0.214844</td>\n",
       "      <td>0.354108</td>\n",
       "      <td>0.158362</td>\n",
       "      <td>1.755875</td>\n",
       "      <td>1.447158</td>\n",
       "      <td>7.412240</td>\n",
       "      <td>7.065105</td>\n",
       "      <td>5.985577</td>\n",
       "    </tr>\n",
       "  </tbody>\n",
       "</table>\n",
       "</div>"
      ],
      "text/plain": [
       "          a         b         c         d         e         f         g  \\\n",
       "0  0.491362  0.958086  0.313867  1.079181  1.041393  8.567096  6.477676   \n",
       "1  0.429752  0.624282  0.149219  2.243038  0.477121  7.817004  7.153138   \n",
       "2  0.060698  0.431364  0.603144  1.278754  0.000000  7.876479  7.771924   \n",
       "3  0.214844  0.354108  0.158362  1.755875  1.447158  7.412240  7.065105   \n",
       "\n",
       "          h  \n",
       "0  7.549938  \n",
       "1  6.029167  \n",
       "2  7.443819  \n",
       "3  5.985577  "
      ]
     },
     "execution_count": 35,
     "metadata": {},
     "output_type": "execute_result"
    }
   ],
   "source": [
    "d"
   ]
  },
  {
   "cell_type": "code",
   "execution_count": 36,
   "id": "c2f6f186",
   "metadata": {},
   "outputs": [
    {
     "data": {
      "text/plain": [
       "array([1.54447373, 1.5468799 , 1.24348049, 1.30709601])"
      ]
     },
     "execution_count": 36,
     "metadata": {},
     "output_type": "execute_result"
    }
   ],
   "source": [
    "best_rand.predict(d)"
   ]
  },
  {
   "cell_type": "code",
   "execution_count": 39,
   "id": "9cabed1e",
   "metadata": {},
   "outputs": [
    {
     "name": "stdout",
     "output_type": "stream",
     "text": [
      "37.122709675628684\n",
      "37.31734397087858\n",
      "19.607837362977882\n",
      "22.371310313153042\n"
     ]
    }
   ],
   "source": [
    "l=[1.54447373, 1.5468799 , 1.24348049, 1.30709601]\n",
    "for i in l:\n",
    "    x=(10**(i))+2.09\n",
    "    print(x)"
   ]
  },
  {
   "cell_type": "code",
   "execution_count": 41,
   "id": "e10ee287",
   "metadata": {},
   "outputs": [
    {
     "data": {
      "application/javascript": [
       "\n",
       "        if (window._pyforest_update_imports_cell) { window._pyforest_update_imports_cell('import matplotlib.pyplot as plt\\nimport seaborn as sns\\nimport numpy as np\\nimport pandas as pd'); }\n",
       "    "
      ],
      "text/plain": [
       "<IPython.core.display.Javascript object>"
      ]
     },
     "metadata": {},
     "output_type": "display_data"
    },
    {
     "name": "stderr",
     "output_type": "stream",
     "text": [
      "C:\\ProgramData\\Anaconda3\\lib\\site-packages\\seaborn\\_decorators.py:36: FutureWarning: Pass the following variable as a keyword arg: x. From version 0.12, the only valid positional argument will be `data`, and passing other arguments without an explicit keyword will result in an error or misinterpretation.\n",
      "  warnings.warn(\n"
     ]
    },
    {
     "data": {
      "text/plain": [
       "<AxesSubplot:xlabel='RPC (100)'>"
      ]
     },
     "execution_count": 41,
     "metadata": {},
     "output_type": "execute_result"
    },
    {
     "data": {
      "image/png": "[encoded data removed]",
      "text/plain": [
       "<Figure size 432x288 with 1 Axes>"
      ]
     },
     "metadata": {
      "needs_background": "light"
     },
     "output_type": "display_data"
    }
   ],
   "source": [
    "sns.boxplot(df['RPC (100)'])"
   ]
  },
  {
   "cell_type": "code",
   "execution_count": 42,
   "id": "a23971f1",
   "metadata": {},
   "outputs": [
    {
     "data": {
      "application/javascript": [
       "\n",
       "        if (window._pyforest_update_imports_cell) { window._pyforest_update_imports_cell('import matplotlib.pyplot as plt\\nimport seaborn as sns\\nimport numpy as np\\nimport pandas as pd'); }\n",
       "    "
      ],
      "text/plain": [
       "<IPython.core.display.Javascript object>"
      ]
     },
     "metadata": {},
     "output_type": "display_data"
    },
    {
     "name": "stdout",
     "output_type": "stream",
     "text": [
      "(array([80, 83, 87], dtype=int64),)\n"
     ]
    }
   ],
   "source": [
    "print(np.where(df['RPC (100)']<0.75))"
   ]
  },
  {
   "cell_type": "code",
   "execution_count": 44,
   "id": "db97fed5",
   "metadata": {},
   "outputs": [],
   "source": [
    "data=df.drop([80, 83, 87],axis=0,inplace=True)"
   ]
  },
  {
   "cell_type": "markdown",
   "id": "0c0666f1",
   "metadata": {},
   "source": [
    "# Start"
   ]
  },
  {
   "cell_type": "code",
   "execution_count": 47,
   "id": "087e1091",
   "metadata": {},
   "outputs": [
    {
     "data": {
      "text/html": [
       "<div>\n",
       "<style scoped>\n",
       "    .dataframe tbody tr th:only-of-type {\n",
       "        vertical-align: middle;\n",
       "    }\n",
       "\n",
       "    .dataframe tbody tr th {\n",
       "        vertical-align: top;\n",
       "    }\n",
       "\n",
       "    .dataframe thead th {\n",
       "        text-align: right;\n",
       "    }\n",
       "</style>\n",
       "<table border=\"1\" class=\"dataframe\">\n",
       "  <thead>\n",
       "    <tr style=\"text-align: right;\">\n",
       "      <th></th>\n",
       "      <th>P/FRQ</th>\n",
       "      <th>CC/FRQ</th>\n",
       "      <th>CC/P/3</th>\n",
       "      <th>IPP</th>\n",
       "      <th>IPG</th>\n",
       "      <th>FPR</th>\n",
       "      <th>FPC</th>\n",
       "      <th>EDP</th>\n",
       "      <th>RPC (100)</th>\n",
       "    </tr>\n",
       "  </thead>\n",
       "  <tbody>\n",
       "    <tr>\n",
       "      <th>0</th>\n",
       "      <td>0.885926</td>\n",
       "      <td>2.056180</td>\n",
       "      <td>0.804821</td>\n",
       "      <td>2.155336</td>\n",
       "      <td>1.897627</td>\n",
       "      <td>9.653283</td>\n",
       "      <td>8.632247</td>\n",
       "      <td>6.976643</td>\n",
       "      <td>1.931254</td>\n",
       "    </tr>\n",
       "    <tr>\n",
       "      <th>1</th>\n",
       "      <td>0.447158</td>\n",
       "      <td>0.946943</td>\n",
       "      <td>0.346353</td>\n",
       "      <td>1.278754</td>\n",
       "      <td>1.204120</td>\n",
       "      <td>8.445240</td>\n",
       "      <td>6.691888</td>\n",
       "      <td>4.719456</td>\n",
       "      <td>1.638090</td>\n",
       "    </tr>\n",
       "    <tr>\n",
       "      <th>2</th>\n",
       "      <td>0.267172</td>\n",
       "      <td>0.659916</td>\n",
       "      <td>0.332438</td>\n",
       "      <td>1.954243</td>\n",
       "      <td>1.204120</td>\n",
       "      <td>8.677011</td>\n",
       "      <td>7.811001</td>\n",
       "      <td>7.677196</td>\n",
       "      <td>1.656002</td>\n",
       "    </tr>\n",
       "    <tr>\n",
       "      <th>3</th>\n",
       "      <td>0.307496</td>\n",
       "      <td>0.611723</td>\n",
       "      <td>0.247973</td>\n",
       "      <td>1.079181</td>\n",
       "      <td>1.041393</td>\n",
       "      <td>8.823477</td>\n",
       "      <td>8.179139</td>\n",
       "      <td>7.576058</td>\n",
       "      <td>1.712986</td>\n",
       "    </tr>\n",
       "    <tr>\n",
       "      <th>4</th>\n",
       "      <td>0.167317</td>\n",
       "      <td>0.305351</td>\n",
       "      <td>0.173186</td>\n",
       "      <td>1.832509</td>\n",
       "      <td>1.681241</td>\n",
       "      <td>8.726739</td>\n",
       "      <td>8.453568</td>\n",
       "      <td>8.453589</td>\n",
       "      <td>1.680970</td>\n",
       "    </tr>\n",
       "    <tr>\n",
       "      <th>...</th>\n",
       "      <td>...</td>\n",
       "      <td>...</td>\n",
       "      <td>...</td>\n",
       "      <td>...</td>\n",
       "      <td>...</td>\n",
       "      <td>...</td>\n",
       "      <td>...</td>\n",
       "      <td>...</td>\n",
       "      <td>...</td>\n",
       "    </tr>\n",
       "    <tr>\n",
       "      <th>95</th>\n",
       "      <td>0.220108</td>\n",
       "      <td>0.876795</td>\n",
       "      <td>0.597695</td>\n",
       "      <td>2.363612</td>\n",
       "      <td>0.000000</td>\n",
       "      <td>5.546042</td>\n",
       "      <td>6.644494</td>\n",
       "      <td>6.545573</td>\n",
       "      <td>1.415307</td>\n",
       "    </tr>\n",
       "    <tr>\n",
       "      <th>96</th>\n",
       "      <td>0.068186</td>\n",
       "      <td>0.149219</td>\n",
       "      <td>0.184691</td>\n",
       "      <td>1.361728</td>\n",
       "      <td>0.301030</td>\n",
       "      <td>7.998263</td>\n",
       "      <td>7.432814</td>\n",
       "      <td>6.916344</td>\n",
       "      <td>0.991226</td>\n",
       "    </tr>\n",
       "    <tr>\n",
       "      <th>97</th>\n",
       "      <td>0.100371</td>\n",
       "      <td>0.423246</td>\n",
       "      <td>0.436163</td>\n",
       "      <td>1.146128</td>\n",
       "      <td>0.000000</td>\n",
       "      <td>8.241003</td>\n",
       "      <td>7.209567</td>\n",
       "      <td>0.000000</td>\n",
       "      <td>1.345178</td>\n",
       "    </tr>\n",
       "    <tr>\n",
       "      <th>98</th>\n",
       "      <td>0.281033</td>\n",
       "      <td>0.489958</td>\n",
       "      <td>0.187521</td>\n",
       "      <td>0.477121</td>\n",
       "      <td>0.903090</td>\n",
       "      <td>8.744806</td>\n",
       "      <td>6.907395</td>\n",
       "      <td>0.000000</td>\n",
       "      <td>1.409087</td>\n",
       "    </tr>\n",
       "    <tr>\n",
       "      <th>99</th>\n",
       "      <td>0.037426</td>\n",
       "      <td>0.049218</td>\n",
       "      <td>0.107210</td>\n",
       "      <td>2.064458</td>\n",
       "      <td>1.176091</td>\n",
       "      <td>7.826787</td>\n",
       "      <td>7.196908</td>\n",
       "      <td>6.816291</td>\n",
       "      <td>1.033424</td>\n",
       "    </tr>\n",
       "  </tbody>\n",
       "</table>\n",
       "<p>97 rows × 9 columns</p>\n",
       "</div>"
      ],
      "text/plain": [
       "       P/FRQ    CC/FRQ    CC/P/3       IPP       IPG       FPR       FPC  \\\n",
       "0   0.885926  2.056180  0.804821  2.155336  1.897627  9.653283  8.632247   \n",
       "1   0.447158  0.946943  0.346353  1.278754  1.204120  8.445240  6.691888   \n",
       "2   0.267172  0.659916  0.332438  1.954243  1.204120  8.677011  7.811001   \n",
       "3   0.307496  0.611723  0.247973  1.079181  1.041393  8.823477  8.179139   \n",
       "4   0.167317  0.305351  0.173186  1.832509  1.681241  8.726739  8.453568   \n",
       "..       ...       ...       ...       ...       ...       ...       ...   \n",
       "95  0.220108  0.876795  0.597695  2.363612  0.000000  5.546042  6.644494   \n",
       "96  0.068186  0.149219  0.184691  1.361728  0.301030  7.998263  7.432814   \n",
       "97  0.100371  0.423246  0.436163  1.146128  0.000000  8.241003  7.209567   \n",
       "98  0.281033  0.489958  0.187521  0.477121  0.903090  8.744806  6.907395   \n",
       "99  0.037426  0.049218  0.107210  2.064458  1.176091  7.826787  7.196908   \n",
       "\n",
       "         EDP  RPC (100)  \n",
       "0   6.976643   1.931254  \n",
       "1   4.719456   1.638090  \n",
       "2   7.677196   1.656002  \n",
       "3   7.576058   1.712986  \n",
       "4   8.453589   1.680970  \n",
       "..       ...        ...  \n",
       "95  6.545573   1.415307  \n",
       "96  6.916344   0.991226  \n",
       "97  0.000000   1.345178  \n",
       "98  0.000000   1.409087  \n",
       "99  6.816291   1.033424  \n",
       "\n",
       "[97 rows x 9 columns]"
      ]
     },
     "execution_count": 47,
     "metadata": {},
     "output_type": "execute_result"
    }
   ],
   "source": [
    "df"
   ]
  },
  {
   "cell_type": "code",
   "execution_count": 114,
   "id": "6f70e512",
   "metadata": {},
   "outputs": [
    {
     "data": {
      "text/plain": [
       "Index(['P/FRQ', 'CC/FRQ', 'CC/P/3', 'IPP', 'IPG', 'FPR', 'FPC', 'EDP',\n",
       "       'RPC (100)'],\n",
       "      dtype='object')"
      ]
     },
     "execution_count": 114,
     "metadata": {},
     "output_type": "execute_result"
    }
   ],
   "source": [
    "df.columns"
   ]
  },
  {
   "cell_type": "code",
   "execution_count": 116,
   "id": "41b628a0",
   "metadata": {},
   "outputs": [],
   "source": [
    "data=df.round({'P/FRQ':2, 'CC/FRQ':2, 'CC/P/3':2, 'IPP':2, 'IPG':2, 'FPR':2, 'FPC':2, 'EDP':2,'RPC (100)':2})"
   ]
  },
  {
   "cell_type": "code",
   "execution_count": 117,
   "id": "73c06a4d",
   "metadata": {},
   "outputs": [
    {
     "data": {
      "application/javascript": [
       "\n",
       "        if (window._pyforest_update_imports_cell) { window._pyforest_update_imports_cell('import matplotlib.pyplot as plt\\nimport seaborn as sns\\nimport numpy as np\\nimport pandas as pd'); }\n",
       "    "
      ],
      "text/plain": [
       "<IPython.core.display.Javascript object>"
      ]
     },
     "metadata": {},
     "output_type": "display_data"
    },
    {
     "name": "stderr",
     "output_type": "stream",
     "text": [
      "C:\\ProgramData\\Anaconda3\\lib\\site-packages\\seaborn\\_decorators.py:36: FutureWarning: Pass the following variable as a keyword arg: x. From version 0.12, the only valid positional argument will be `data`, and passing other arguments without an explicit keyword will result in an error or misinterpretation.\n",
      "  warnings.warn(\n"
     ]
    },
    {
     "data": {
      "text/plain": [
       "<AxesSubplot:xlabel='RPC (100)'>"
      ]
     },
     "execution_count": 117,
     "metadata": {},
     "output_type": "execute_result"
    },
    {
     "data": {
      "image/png": "[encoded data removed]",
      "text/plain": [
       "<Figure size 432x288 with 1 Axes>"
      ]
     },
     "metadata": {
      "needs_background": "light"
     },
     "output_type": "display_data"
    }
   ],
   "source": [
    "sns.boxplot(df['RPC (100)']) # NO outliers"
   ]
  },
  {
   "cell_type": "code",
   "execution_count": 118,
   "id": "f119875d",
   "metadata": {},
   "outputs": [
    {
     "data": {
      "text/html": [
       "<div>\n",
       "<style scoped>\n",
       "    .dataframe tbody tr th:only-of-type {\n",
       "        vertical-align: middle;\n",
       "    }\n",
       "\n",
       "    .dataframe tbody tr th {\n",
       "        vertical-align: top;\n",
       "    }\n",
       "\n",
       "    .dataframe thead th {\n",
       "        text-align: right;\n",
       "    }\n",
       "</style>\n",
       "<table border=\"1\" class=\"dataframe\">\n",
       "  <thead>\n",
       "    <tr style=\"text-align: right;\">\n",
       "      <th></th>\n",
       "      <th>P/FRQ</th>\n",
       "      <th>CC/FRQ</th>\n",
       "      <th>CC/P/3</th>\n",
       "      <th>IPP</th>\n",
       "      <th>IPG</th>\n",
       "      <th>FPR</th>\n",
       "      <th>FPC</th>\n",
       "      <th>EDP</th>\n",
       "      <th>RPC (100)</th>\n",
       "    </tr>\n",
       "  </thead>\n",
       "  <tbody>\n",
       "    <tr>\n",
       "      <th>P/FRQ</th>\n",
       "      <td>1.000000</td>\n",
       "      <td>0.884092</td>\n",
       "      <td>0.231131</td>\n",
       "      <td>0.283921</td>\n",
       "      <td>0.297855</td>\n",
       "      <td>0.372633</td>\n",
       "      <td>0.184290</td>\n",
       "      <td>0.072366</td>\n",
       "      <td>0.721729</td>\n",
       "    </tr>\n",
       "    <tr>\n",
       "      <th>CC/FRQ</th>\n",
       "      <td>0.884092</td>\n",
       "      <td>1.000000</td>\n",
       "      <td>0.643261</td>\n",
       "      <td>0.223333</td>\n",
       "      <td>0.229348</td>\n",
       "      <td>0.300221</td>\n",
       "      <td>0.121104</td>\n",
       "      <td>0.076478</td>\n",
       "      <td>0.670093</td>\n",
       "    </tr>\n",
       "    <tr>\n",
       "      <th>CC/P/3</th>\n",
       "      <td>0.231131</td>\n",
       "      <td>0.643261</td>\n",
       "      <td>1.000000</td>\n",
       "      <td>0.018232</td>\n",
       "      <td>-0.012393</td>\n",
       "      <td>-0.012795</td>\n",
       "      <td>-0.119222</td>\n",
       "      <td>0.018349</td>\n",
       "      <td>0.242664</td>\n",
       "    </tr>\n",
       "    <tr>\n",
       "      <th>IPP</th>\n",
       "      <td>0.283921</td>\n",
       "      <td>0.223333</td>\n",
       "      <td>0.018232</td>\n",
       "      <td>1.000000</td>\n",
       "      <td>0.702862</td>\n",
       "      <td>0.146554</td>\n",
       "      <td>0.254755</td>\n",
       "      <td>0.150814</td>\n",
       "      <td>0.321610</td>\n",
       "    </tr>\n",
       "    <tr>\n",
       "      <th>IPG</th>\n",
       "      <td>0.297855</td>\n",
       "      <td>0.229348</td>\n",
       "      <td>-0.012393</td>\n",
       "      <td>0.702862</td>\n",
       "      <td>1.000000</td>\n",
       "      <td>0.234927</td>\n",
       "      <td>0.205770</td>\n",
       "      <td>0.116973</td>\n",
       "      <td>0.343855</td>\n",
       "    </tr>\n",
       "    <tr>\n",
       "      <th>FPR</th>\n",
       "      <td>0.372633</td>\n",
       "      <td>0.300221</td>\n",
       "      <td>-0.012795</td>\n",
       "      <td>0.146554</td>\n",
       "      <td>0.234927</td>\n",
       "      <td>1.000000</td>\n",
       "      <td>0.254268</td>\n",
       "      <td>0.194820</td>\n",
       "      <td>0.340864</td>\n",
       "    </tr>\n",
       "    <tr>\n",
       "      <th>FPC</th>\n",
       "      <td>0.184290</td>\n",
       "      <td>0.121104</td>\n",
       "      <td>-0.119222</td>\n",
       "      <td>0.254755</td>\n",
       "      <td>0.205770</td>\n",
       "      <td>0.254268</td>\n",
       "      <td>1.000000</td>\n",
       "      <td>0.404952</td>\n",
       "      <td>0.206885</td>\n",
       "    </tr>\n",
       "    <tr>\n",
       "      <th>EDP</th>\n",
       "      <td>0.072366</td>\n",
       "      <td>0.076478</td>\n",
       "      <td>0.018349</td>\n",
       "      <td>0.150814</td>\n",
       "      <td>0.116973</td>\n",
       "      <td>0.194820</td>\n",
       "      <td>0.404952</td>\n",
       "      <td>1.000000</td>\n",
       "      <td>0.076653</td>\n",
       "    </tr>\n",
       "    <tr>\n",
       "      <th>RPC (100)</th>\n",
       "      <td>0.721729</td>\n",
       "      <td>0.670093</td>\n",
       "      <td>0.242664</td>\n",
       "      <td>0.321610</td>\n",
       "      <td>0.343855</td>\n",
       "      <td>0.340864</td>\n",
       "      <td>0.206885</td>\n",
       "      <td>0.076653</td>\n",
       "      <td>1.000000</td>\n",
       "    </tr>\n",
       "  </tbody>\n",
       "</table>\n",
       "</div>"
      ],
      "text/plain": [
       "              P/FRQ    CC/FRQ    CC/P/3       IPP       IPG       FPR  \\\n",
       "P/FRQ      1.000000  0.884092  0.231131  0.283921  0.297855  0.372633   \n",
       "CC/FRQ     0.884092  1.000000  0.643261  0.223333  0.229348  0.300221   \n",
       "CC/P/3     0.231131  0.643261  1.000000  0.018232 -0.012393 -0.012795   \n",
       "IPP        0.283921  0.223333  0.018232  1.000000  0.702862  0.146554   \n",
       "IPG        0.297855  0.229348 -0.012393  0.702862  1.000000  0.234927   \n",
       "FPR        0.372633  0.300221 -0.012795  0.146554  0.234927  1.000000   \n",
       "FPC        0.184290  0.121104 -0.119222  0.254755  0.205770  0.254268   \n",
       "EDP        0.072366  0.076478  0.018349  0.150814  0.116973  0.194820   \n",
       "RPC (100)  0.721729  0.670093  0.242664  0.321610  0.343855  0.340864   \n",
       "\n",
       "                FPC       EDP  RPC (100)  \n",
       "P/FRQ      0.184290  0.072366   0.721729  \n",
       "CC/FRQ     0.121104  0.076478   0.670093  \n",
       "CC/P/3    -0.119222  0.018349   0.242664  \n",
       "IPP        0.254755  0.150814   0.321610  \n",
       "IPG        0.205770  0.116973   0.343855  \n",
       "FPR        0.254268  0.194820   0.340864  \n",
       "FPC        1.000000  0.404952   0.206885  \n",
       "EDP        0.404952  1.000000   0.076653  \n",
       "RPC (100)  0.206885  0.076653   1.000000  "
      ]
     },
     "execution_count": 118,
     "metadata": {},
     "output_type": "execute_result"
    }
   ],
   "source": [
    "data.corr()"
   ]
  },
  {
   "cell_type": "code",
   "execution_count": 119,
   "id": "dad3e9b7",
   "metadata": {},
   "outputs": [],
   "source": [
    "x=df.drop(['RPC (100)'],axis=1)\n",
    "y=df['RPC (100)']"
   ]
  },
  {
   "cell_type": "code",
   "execution_count": 879,
   "id": "9a929341",
   "metadata": {},
   "outputs": [
    {
     "data": {
      "text/html": [
       "<div>\n",
       "<style scoped>\n",
       "    .dataframe tbody tr th:only-of-type {\n",
       "        vertical-align: middle;\n",
       "    }\n",
       "\n",
       "    .dataframe tbody tr th {\n",
       "        vertical-align: top;\n",
       "    }\n",
       "\n",
       "    .dataframe thead th {\n",
       "        text-align: right;\n",
       "    }\n",
       "</style>\n",
       "<table border=\"1\" class=\"dataframe\">\n",
       "  <thead>\n",
       "    <tr style=\"text-align: right;\">\n",
       "      <th></th>\n",
       "      <th>P/FRQ</th>\n",
       "      <th>CC/FRQ</th>\n",
       "      <th>CC/P/3</th>\n",
       "      <th>IPP</th>\n",
       "      <th>IPG</th>\n",
       "      <th>FPR</th>\n",
       "      <th>FPC</th>\n",
       "      <th>EDP</th>\n",
       "      <th>RPC (100)</th>\n",
       "    </tr>\n",
       "  </thead>\n",
       "  <tbody>\n",
       "    <tr>\n",
       "      <th>1</th>\n",
       "      <td>0.447158</td>\n",
       "      <td>0.946943</td>\n",
       "      <td>0.346353</td>\n",
       "      <td>1.278754</td>\n",
       "      <td>1.204120</td>\n",
       "      <td>8.445240</td>\n",
       "      <td>6.691888</td>\n",
       "      <td>4.719456</td>\n",
       "      <td>1.638090</td>\n",
       "    </tr>\n",
       "    <tr>\n",
       "      <th>2</th>\n",
       "      <td>0.267172</td>\n",
       "      <td>0.659916</td>\n",
       "      <td>0.332438</td>\n",
       "      <td>1.954243</td>\n",
       "      <td>1.204120</td>\n",
       "      <td>8.677011</td>\n",
       "      <td>7.811001</td>\n",
       "      <td>7.677196</td>\n",
       "      <td>1.656002</td>\n",
       "    </tr>\n",
       "    <tr>\n",
       "      <th>3</th>\n",
       "      <td>0.307496</td>\n",
       "      <td>0.611723</td>\n",
       "      <td>0.247973</td>\n",
       "      <td>1.079181</td>\n",
       "      <td>1.041393</td>\n",
       "      <td>8.823477</td>\n",
       "      <td>8.179139</td>\n",
       "      <td>7.576058</td>\n",
       "      <td>1.712986</td>\n",
       "    </tr>\n",
       "    <tr>\n",
       "      <th>4</th>\n",
       "      <td>0.167317</td>\n",
       "      <td>0.305351</td>\n",
       "      <td>0.173186</td>\n",
       "      <td>1.832509</td>\n",
       "      <td>1.681241</td>\n",
       "      <td>8.726739</td>\n",
       "      <td>8.453568</td>\n",
       "      <td>8.453589</td>\n",
       "      <td>1.680970</td>\n",
       "    </tr>\n",
       "    <tr>\n",
       "      <th>5</th>\n",
       "      <td>0.276462</td>\n",
       "      <td>0.719331</td>\n",
       "      <td>0.367356</td>\n",
       "      <td>1.568202</td>\n",
       "      <td>1.113943</td>\n",
       "      <td>8.620903</td>\n",
       "      <td>6.453693</td>\n",
       "      <td>6.131405</td>\n",
       "      <td>1.621384</td>\n",
       "    </tr>\n",
       "    <tr>\n",
       "      <th>...</th>\n",
       "      <td>...</td>\n",
       "      <td>...</td>\n",
       "      <td>...</td>\n",
       "      <td>...</td>\n",
       "      <td>...</td>\n",
       "      <td>...</td>\n",
       "      <td>...</td>\n",
       "      <td>...</td>\n",
       "      <td>...</td>\n",
       "    </tr>\n",
       "    <tr>\n",
       "      <th>95</th>\n",
       "      <td>0.220108</td>\n",
       "      <td>0.876795</td>\n",
       "      <td>0.597695</td>\n",
       "      <td>2.363612</td>\n",
       "      <td>0.000000</td>\n",
       "      <td>5.546042</td>\n",
       "      <td>6.644494</td>\n",
       "      <td>6.545573</td>\n",
       "      <td>1.415307</td>\n",
       "    </tr>\n",
       "    <tr>\n",
       "      <th>96</th>\n",
       "      <td>0.068186</td>\n",
       "      <td>0.149219</td>\n",
       "      <td>0.184691</td>\n",
       "      <td>1.361728</td>\n",
       "      <td>0.301030</td>\n",
       "      <td>7.998263</td>\n",
       "      <td>7.432814</td>\n",
       "      <td>6.916344</td>\n",
       "      <td>0.991226</td>\n",
       "    </tr>\n",
       "    <tr>\n",
       "      <th>97</th>\n",
       "      <td>0.100371</td>\n",
       "      <td>0.423246</td>\n",
       "      <td>0.436163</td>\n",
       "      <td>1.146128</td>\n",
       "      <td>0.000000</td>\n",
       "      <td>8.241003</td>\n",
       "      <td>7.209567</td>\n",
       "      <td>0.000000</td>\n",
       "      <td>1.345178</td>\n",
       "    </tr>\n",
       "    <tr>\n",
       "      <th>98</th>\n",
       "      <td>0.281033</td>\n",
       "      <td>0.489958</td>\n",
       "      <td>0.187521</td>\n",
       "      <td>0.477121</td>\n",
       "      <td>0.903090</td>\n",
       "      <td>8.744806</td>\n",
       "      <td>6.907395</td>\n",
       "      <td>0.000000</td>\n",
       "      <td>1.409087</td>\n",
       "    </tr>\n",
       "    <tr>\n",
       "      <th>99</th>\n",
       "      <td>0.037426</td>\n",
       "      <td>0.049218</td>\n",
       "      <td>0.107210</td>\n",
       "      <td>2.064458</td>\n",
       "      <td>1.176091</td>\n",
       "      <td>7.826787</td>\n",
       "      <td>7.196908</td>\n",
       "      <td>6.816291</td>\n",
       "      <td>1.033424</td>\n",
       "    </tr>\n",
       "  </tbody>\n",
       "</table>\n",
       "<p>92 rows × 9 columns</p>\n",
       "</div>"
      ],
      "text/plain": [
       "       P/FRQ    CC/FRQ    CC/P/3       IPP       IPG       FPR       FPC  \\\n",
       "1   0.447158  0.946943  0.346353  1.278754  1.204120  8.445240  6.691888   \n",
       "2   0.267172  0.659916  0.332438  1.954243  1.204120  8.677011  7.811001   \n",
       "3   0.307496  0.611723  0.247973  1.079181  1.041393  8.823477  8.179139   \n",
       "4   0.167317  0.305351  0.173186  1.832509  1.681241  8.726739  8.453568   \n",
       "5   0.276462  0.719331  0.367356  1.568202  1.113943  8.620903  6.453693   \n",
       "..       ...       ...       ...       ...       ...       ...       ...   \n",
       "95  0.220108  0.876795  0.597695  2.363612  0.000000  5.546042  6.644494   \n",
       "96  0.068186  0.149219  0.184691  1.361728  0.301030  7.998263  7.432814   \n",
       "97  0.100371  0.423246  0.436163  1.146128  0.000000  8.241003  7.209567   \n",
       "98  0.281033  0.489958  0.187521  0.477121  0.903090  8.744806  6.907395   \n",
       "99  0.037426  0.049218  0.107210  2.064458  1.176091  7.826787  7.196908   \n",
       "\n",
       "         EDP  RPC (100)  \n",
       "1   4.719456   1.638090  \n",
       "2   7.677196   1.656002  \n",
       "3   7.576058   1.712986  \n",
       "4   8.453589   1.680970  \n",
       "5   6.131405   1.621384  \n",
       "..       ...        ...  \n",
       "95  6.545573   1.415307  \n",
       "96  6.916344   0.991226  \n",
       "97  0.000000   1.345178  \n",
       "98  0.000000   1.409087  \n",
       "99  6.816291   1.033424  \n",
       "\n",
       "[92 rows x 9 columns]"
      ]
     },
     "execution_count": 879,
     "metadata": {},
     "output_type": "execute_result"
    }
   ],
   "source": [
    "df"
   ]
  },
  {
   "cell_type": "code",
   "execution_count": 199,
   "id": "6043f7af",
   "metadata": {},
   "outputs": [
    {
     "name": "stdout",
     "output_type": "stream",
     "text": [
      "Training:-\n"
     ]
    },
    {
     "data": {
      "application/javascript": [
       "\n",
       "        if (window._pyforest_update_imports_cell) { window._pyforest_update_imports_cell('import matplotlib.pyplot as plt\\nimport seaborn as sns\\nimport numpy as np\\nimport pandas as pd'); }\n",
       "    "
      ],
      "text/plain": [
       "<IPython.core.display.Javascript object>"
      ]
     },
     "metadata": {},
     "output_type": "display_data"
    },
    {
     "data": {
      "application/javascript": [
       "\n",
       "        if (window._pyforest_update_imports_cell) { window._pyforest_update_imports_cell('import matplotlib.pyplot as plt\\nimport seaborn as sns\\nimport numpy as np\\nimport pandas as pd'); }\n",
       "    "
      ],
      "text/plain": [
       "<IPython.core.display.Javascript object>"
      ]
     },
     "metadata": {},
     "output_type": "display_data"
    },
    {
     "name": "stdout",
     "output_type": "stream",
     "text": [
      "Mean absolute Error:  0.04775454545454546\n"
     ]
    },
    {
     "data": {
      "application/javascript": [
       "\n",
       "        if (window._pyforest_update_imports_cell) { window._pyforest_update_imports_cell('import matplotlib.pyplot as plt\\nimport seaborn as sns\\nimport numpy as np\\nimport pandas as pd'); }\n",
       "    "
      ],
      "text/plain": [
       "<IPython.core.display.Javascript object>"
      ]
     },
     "metadata": {},
     "output_type": "display_data"
    },
    {
     "name": "stdout",
     "output_type": "stream",
     "text": [
      "Root mean square error:  6.159421487604354e-06\n",
      "R2 square:  0.9003380119749255\n",
      "Testing:-\n"
     ]
    },
    {
     "data": {
      "application/javascript": [
       "\n",
       "        if (window._pyforest_update_imports_cell) { window._pyforest_update_imports_cell('import matplotlib.pyplot as plt\\nimport seaborn as sns\\nimport numpy as np\\nimport pandas as pd'); }\n",
       "    "
      ],
      "text/plain": [
       "<IPython.core.display.Javascript object>"
      ]
     },
     "metadata": {},
     "output_type": "display_data"
    },
    {
     "data": {
      "application/javascript": [
       "\n",
       "        if (window._pyforest_update_imports_cell) { window._pyforest_update_imports_cell('import matplotlib.pyplot as plt\\nimport seaborn as sns\\nimport numpy as np\\nimport pandas as pd'); }\n",
       "    "
      ],
      "text/plain": [
       "<IPython.core.display.Javascript object>"
      ]
     },
     "metadata": {},
     "output_type": "display_data"
    },
    {
     "name": "stdout",
     "output_type": "stream",
     "text": [
      "Mean absolute Error:  0.0854300000000002\n"
     ]
    },
    {
     "data": {
      "application/javascript": [
       "\n",
       "        if (window._pyforest_update_imports_cell) { window._pyforest_update_imports_cell('import matplotlib.pyplot as plt\\nimport seaborn as sns\\nimport numpy as np\\nimport pandas as pd'); }\n",
       "    "
      ],
      "text/plain": [
       "<IPython.core.display.Javascript object>"
      ]
     },
     "metadata": {},
     "output_type": "display_data"
    },
    {
     "name": "stdout",
     "output_type": "stream",
     "text": [
      "Root mean square error:  0.0005085024999999986\n",
      "R2 square:  0.6960230476929833\n"
     ]
    }
   ],
   "source": [
    "from sklearn.ensemble import RandomForestRegressor\n",
    "from sklearn.model_selection import train_test_split\n",
    "x_train,x_test,y_train,y_test = train_test_split(x,y,test_size=0.2)\n",
    "reg2 = RandomForestRegressor()\n",
    "reg2.fit(x_train, y_train)\n",
    "y_pred1 =reg2.predict(x_train)\n",
    "from sklearn.metrics import r2_score\n",
    "print(\"Training:-\")\n",
    "print(\"Mean absolute Error: \" ,np.mean(np.absolute(y_pred1-y_train)))\n",
    "print(\"Root mean square error: \" ,np.mean(y_pred1-y_train)**2)\n",
    "print(\"R2 square: \" ,r2_score(y_pred1,y_train))\n",
    "reg = RandomForestRegressor()\n",
    "reg.fit(x_train, y_train)\n",
    "y_pred =reg.predict(x_test)\n",
    "from sklearn.metrics import r2_score\n",
    "print(\"Testing:-\")\n",
    "print(\"Mean absolute Error: \" ,np.mean(np.absolute(y_pred-y_test)))\n",
    "print(\"Root mean square error: \" ,np.mean(y_pred-y_test)**2)\n",
    "print(\"R2 square: \" ,r2_score(y_pred,y_test))"
   ]
  },
  {
   "cell_type": "code",
   "execution_count": 313,
   "id": "5a3e57c0",
   "metadata": {},
   "outputs": [],
   "source": [
    "params = {\n",
    "    'max_depth': [i for i in range(1,30+1)],\n",
    "    'n_estimators': [i for i in range(1,100+1)]\n",
    "}"
   ]
  },
  {
   "cell_type": "code",
   "execution_count": 334,
   "id": "07c5c111",
   "metadata": {},
   "outputs": [],
   "source": [
    "from sklearn.model_selection import RandomizedSearchCV\n",
    "rf_rand = RandomizedSearchCV(estimator=regressor,\n",
    "                           param_distributions=params,cv = 5,\n",
    "                           n_jobs=4, verbose=2)"
   ]
  },
  {
   "cell_type": "code",
   "execution_count": 335,
   "id": "60eba1d5",
   "metadata": {},
   "outputs": [
    {
     "name": "stdout",
     "output_type": "stream",
     "text": [
      "Fitting 5 folds for each of 10 candidates, totalling 50 fits\n"
     ]
    },
    {
     "data": {
      "text/plain": [
       "RandomizedSearchCV(cv=5, estimator=RandomForestRegressor(), n_jobs=4,\n",
       "                   param_distributions={'max_depth': [1, 2, 3, 4, 5, 6, 7, 8, 9,\n",
       "                                                      10, 11, 12, 13, 14, 15,\n",
       "                                                      16, 17, 18, 19, 20, 21,\n",
       "                                                      22, 23, 24, 25, 26, 27,\n",
       "                                                      28, 29, 30],\n",
       "                                        'n_estimators': [1, 2, 3, 4, 5, 6, 7, 8,\n",
       "                                                         9, 10, 11, 12, 13, 14,\n",
       "                                                         15, 16, 17, 18, 19, 20,\n",
       "                                                         21, 22, 23, 24, 25, 26,\n",
       "                                                         27, 28, 29, 30, ...]},\n",
       "                   verbose=2)"
      ]
     },
     "execution_count": 335,
     "metadata": {},
     "output_type": "execute_result"
    }
   ],
   "source": [
    "rf_rand.fit(x_train,y_train)"
   ]
  },
  {
   "cell_type": "code",
   "execution_count": 336,
   "id": "6d13f8af",
   "metadata": {},
   "outputs": [],
   "source": [
    "best_rand=rf_rand.best_estimator_"
   ]
  },
  {
   "cell_type": "code",
   "execution_count": 337,
   "id": "42d12ffc",
   "metadata": {},
   "outputs": [
    {
     "data": {
      "text/plain": [
       "array([0.99674699, 1.58626506, 1.58819277, 1.26409639, 1.47975904,\n",
       "       1.28457831, 1.38325301, 1.23216867, 1.46385542, 1.61481928,\n",
       "       1.38433735, 1.59144578, 1.33036145, 1.43614458, 1.56024096,\n",
       "       1.23120482, 1.55566265, 1.20036145, 0.93216867, 1.62807229])"
      ]
     },
     "execution_count": 337,
     "metadata": {},
     "output_type": "execute_result"
    }
   ],
   "source": [
    "y_p=best_rand.predict(x_test)\n",
    "y_p"
   ]
  },
  {
   "cell_type": "code",
   "execution_count": 338,
   "id": "b5d37f93",
   "metadata": {},
   "outputs": [],
   "source": [
    "y_p1 =best_rand.predict(x_train)"
   ]
  },
  {
   "cell_type": "code",
   "execution_count": 339,
   "id": "788ad425",
   "metadata": {},
   "outputs": [
    {
     "name": "stdout",
     "output_type": "stream",
     "text": [
      "Training:\n"
     ]
    },
    {
     "data": {
      "application/javascript": [
       "\n",
       "        if (window._pyforest_update_imports_cell) { window._pyforest_update_imports_cell('import matplotlib.pyplot as plt\\nimport seaborn as sns\\nimport numpy as np\\nimport pandas as pd'); }\n",
       "    "
      ],
      "text/plain": [
       "<IPython.core.display.Javascript object>"
      ]
     },
     "metadata": {},
     "output_type": "display_data"
    },
    {
     "data": {
      "application/javascript": [
       "\n",
       "        if (window._pyforest_update_imports_cell) { window._pyforest_update_imports_cell('import matplotlib.pyplot as plt\\nimport seaborn as sns\\nimport numpy as np\\nimport pandas as pd'); }\n",
       "    "
      ],
      "text/plain": [
       "<IPython.core.display.Javascript object>"
      ]
     },
     "metadata": {},
     "output_type": "display_data"
    },
    {
     "name": "stdout",
     "output_type": "stream",
     "text": [
      "Mean absolute Error:  0.04846659364731664\n"
     ]
    },
    {
     "data": {
      "application/javascript": [
       "\n",
       "        if (window._pyforest_update_imports_cell) { window._pyforest_update_imports_cell('import matplotlib.pyplot as plt\\nimport seaborn as sns\\nimport numpy as np\\nimport pandas as pd'); }\n",
       "    "
      ],
      "text/plain": [
       "<IPython.core.display.Javascript object>"
      ]
     },
     "metadata": {},
     "output_type": "display_data"
    },
    {
     "name": "stdout",
     "output_type": "stream",
     "text": [
      "Root mean square error:  1.122121031519993e-06\n",
      "R2 square:  0.893618612819456\n",
      "\n",
      "Testing:\n"
     ]
    },
    {
     "data": {
      "application/javascript": [
       "\n",
       "        if (window._pyforest_update_imports_cell) { window._pyforest_update_imports_cell('import matplotlib.pyplot as plt\\nimport seaborn as sns\\nimport numpy as np\\nimport pandas as pd'); }\n",
       "    "
      ],
      "text/plain": [
       "<IPython.core.display.Javascript object>"
      ]
     },
     "metadata": {},
     "output_type": "display_data"
    },
    {
     "data": {
      "application/javascript": [
       "\n",
       "        if (window._pyforest_update_imports_cell) { window._pyforest_update_imports_cell('import matplotlib.pyplot as plt\\nimport seaborn as sns\\nimport numpy as np\\nimport pandas as pd'); }\n",
       "    "
      ],
      "text/plain": [
       "<IPython.core.display.Javascript object>"
      ]
     },
     "metadata": {},
     "output_type": "display_data"
    },
    {
     "name": "stdout",
     "output_type": "stream",
     "text": [
      "Mean absolute Error:  0.08366265060240966\n"
     ]
    },
    {
     "data": {
      "application/javascript": [
       "\n",
       "        if (window._pyforest_update_imports_cell) { window._pyforest_update_imports_cell('import matplotlib.pyplot as plt\\nimport seaborn as sns\\nimport numpy as np\\nimport pandas as pd'); }\n",
       "    "
      ],
      "text/plain": [
       "<IPython.core.display.Javascript object>"
      ]
     },
     "metadata": {},
     "output_type": "display_data"
    },
    {
     "name": "stdout",
     "output_type": "stream",
     "text": [
      "Root mean square error:  0.0004126282479314769\n",
      "R2 square:  0.7165472822465402\n"
     ]
    }
   ],
   "source": [
    "print(\"Training:\")\n",
    "print(\"Mean absolute Error: \" ,np.mean(np.absolute(y_p1-y_train)))\n",
    "print(\"Root mean square error: \" ,np.mean(y_p1-y_train)**2)\n",
    "print(\"R2 square: \" ,r2_score(y_p1,y_train))\n",
    "print(\"\\nTesting:\")\n",
    "print(\"Mean absolute Error: \" ,np.mean(np.absolute(y_p-y_test)))\n",
    "print(\"Root mean square error: \" ,np.mean(y_p-y_test)**2)\n",
    "print(\"R2 square: \" ,r2_score(y_p,y_test))"
   ]
  },
  {
   "cell_type": "code",
   "execution_count": 343,
   "id": "542ce48e",
   "metadata": {},
   "outputs": [
    {
     "data": {
      "application/javascript": [
       "\n",
       "        if (window._pyforest_update_imports_cell) { window._pyforest_update_imports_cell('import matplotlib.pyplot as plt\\nimport seaborn as sns\\nimport numpy as np\\nimport pandas as pd'); }\n",
       "    "
      ],
      "text/plain": [
       "<IPython.core.display.Javascript object>"
      ]
     },
     "metadata": {},
     "output_type": "display_data"
    },
    {
     "data": {
      "application/javascript": [
       "\n",
       "        if (window._pyforest_update_imports_cell) { window._pyforest_update_imports_cell('import matplotlib.pyplot as plt\\nimport seaborn as sns\\nimport numpy as np\\nimport pandas as pd'); }\n",
       "    "
      ],
      "text/plain": [
       "<IPython.core.display.Javascript object>"
      ]
     },
     "metadata": {},
     "output_type": "display_data"
    },
    {
     "data": {
      "application/javascript": [
       "\n",
       "        if (window._pyforest_update_imports_cell) { window._pyforest_update_imports_cell('import matplotlib.pyplot as plt\\nimport seaborn as sns\\nimport numpy as np\\nimport pandas as pd'); }\n",
       "    "
      ],
      "text/plain": [
       "<IPython.core.display.Javascript object>"
      ]
     },
     "metadata": {},
     "output_type": "display_data"
    },
    {
     "data": {
      "application/javascript": [
       "\n",
       "        if (window._pyforest_update_imports_cell) { window._pyforest_update_imports_cell('import matplotlib.pyplot as plt\\nimport seaborn as sns\\nimport numpy as np\\nimport pandas as pd'); }\n",
       "    "
      ],
      "text/plain": [
       "<IPython.core.display.Javascript object>"
      ]
     },
     "metadata": {},
     "output_type": "display_data"
    },
    {
     "data": {
      "application/javascript": [
       "\n",
       "        if (window._pyforest_update_imports_cell) { window._pyforest_update_imports_cell('import matplotlib.pyplot as plt\\nimport seaborn as sns\\nimport numpy as np\\nimport pandas as pd'); }\n",
       "    "
      ],
      "text/plain": [
       "<IPython.core.display.Javascript object>"
      ]
     },
     "metadata": {},
     "output_type": "display_data"
    },
    {
     "data": {
      "image/png": "[encoded data removed]",
      "text/plain": [
       "<Figure size 432x288 with 1 Axes>"
      ]
     },
     "metadata": {
      "needs_background": "light"
     },
     "output_type": "display_data"
    }
   ],
   "source": [
    "fig, ax = plt.subplots()\n",
    "ax.scatter(y_p1,y_train,label='train',color='#e8e7d8',edgecolors='#494623')\n",
    "ax.scatter(y_p,y_test,label='test',color='#c3892b',marker =\"^\",edgecolors='#494623')\n",
    "plt.xlabel('Actual Value')\n",
    "plt.ylabel('Predicted value')\n",
    "ax.legend()\n",
    "lims = [\n",
    "    np.min([ax.get_xlim(), ax.get_ylim()]),  # min of both axes\n",
    "    np.max([ax.get_xlim(), ax.get_ylim()]),  # max of both axes\n",
    "]\n",
    "\n",
    "# now plot both limits against eachother\n",
    "ax.plot(lims, lims, '--')\n",
    "ax.set_aspect('equal')\n",
    "ax.set_xlim(lims)\n",
    "ax.set_ylim(lims)\n",
    "fig.savefig('/Users/Rishi Chaitanya/Desktop/NIRF_RPC_LLLLLLLL.png', dpi=1200)"
   ]
  },
  {
   "cell_type": "code",
   "execution_count": 320,
   "id": "379a99c2",
   "metadata": {},
   "outputs": [],
   "source": [
    "from skopt import BayesSearchCV"
   ]
  },
  {
   "cell_type": "code",
   "execution_count": 278,
   "id": "a154b95e",
   "metadata": {},
   "outputs": [],
   "source": [
    "rf_bayes = BayesSearchCV(estimator=regressor,\n",
    "                           search_spaces=params,cv = 5,\n",
    "                           n_jobs=4, verbose=2)"
   ]
  },
  {
   "cell_type": "code",
   "execution_count": 279,
   "id": "b0150f6d",
   "metadata": {},
   "outputs": [
    {
     "name": "stdout",
     "output_type": "stream",
     "text": [
      "Fitting 5 folds for each of 1 candidates, totalling 5 fits\n",
      "Fitting 5 folds for each of 1 candidates, totalling 5 fits\n",
      "Fitting 5 folds for each of 1 candidates, totalling 5 fits\n",
      "Fitting 5 folds for each of 1 candidates, totalling 5 fits\n",
      "Fitting 5 folds for each of 1 candidates, totalling 5 fits\n",
      "Fitting 5 folds for each of 1 candidates, totalling 5 fits\n",
      "Fitting 5 folds for each of 1 candidates, totalling 5 fits\n",
      "Fitting 5 folds for each of 1 candidates, totalling 5 fits\n",
      "Fitting 5 folds for each of 1 candidates, totalling 5 fits\n",
      "Fitting 5 folds for each of 1 candidates, totalling 5 fits\n",
      "Fitting 5 folds for each of 1 candidates, totalling 5 fits\n",
      "Fitting 5 folds for each of 1 candidates, totalling 5 fits\n",
      "Fitting 5 folds for each of 1 candidates, totalling 5 fits\n",
      "Fitting 5 folds for each of 1 candidates, totalling 5 fits\n",
      "Fitting 5 folds for each of 1 candidates, totalling 5 fits\n",
      "Fitting 5 folds for each of 1 candidates, totalling 5 fits\n",
      "Fitting 5 folds for each of 1 candidates, totalling 5 fits\n",
      "Fitting 5 folds for each of 1 candidates, totalling 5 fits\n",
      "Fitting 5 folds for each of 1 candidates, totalling 5 fits\n",
      "Fitting 5 folds for each of 1 candidates, totalling 5 fits\n",
      "Fitting 5 folds for each of 1 candidates, totalling 5 fits\n",
      "Fitting 5 folds for each of 1 candidates, totalling 5 fits\n",
      "Fitting 5 folds for each of 1 candidates, totalling 5 fits\n",
      "Fitting 5 folds for each of 1 candidates, totalling 5 fits\n",
      "Fitting 5 folds for each of 1 candidates, totalling 5 fits\n",
      "Fitting 5 folds for each of 1 candidates, totalling 5 fits\n",
      "Fitting 5 folds for each of 1 candidates, totalling 5 fits\n",
      "Fitting 5 folds for each of 1 candidates, totalling 5 fits\n",
      "Fitting 5 folds for each of 1 candidates, totalling 5 fits\n",
      "Fitting 5 folds for each of 1 candidates, totalling 5 fits\n"
     ]
    },
    {
     "name": "stderr",
     "output_type": "stream",
     "text": [
      "C:\\ProgramData\\Anaconda3\\lib\\site-packages\\skopt\\optimizer\\optimizer.py:449: UserWarning: The objective has been evaluated at this point before.\n",
      "  warnings.warn(\"The objective has been evaluated \"\n"
     ]
    },
    {
     "name": "stdout",
     "output_type": "stream",
     "text": [
      "Fitting 5 folds for each of 1 candidates, totalling 5 fits\n",
      "Fitting 5 folds for each of 1 candidates, totalling 5 fits\n",
      "Fitting 5 folds for each of 1 candidates, totalling 5 fits\n",
      "Fitting 5 folds for each of 1 candidates, totalling 5 fits\n",
      "Fitting 5 folds for each of 1 candidates, totalling 5 fits\n",
      "Fitting 5 folds for each of 1 candidates, totalling 5 fits\n",
      "Fitting 5 folds for each of 1 candidates, totalling 5 fits\n",
      "Fitting 5 folds for each of 1 candidates, totalling 5 fits\n",
      "Fitting 5 folds for each of 1 candidates, totalling 5 fits\n",
      "Fitting 5 folds for each of 1 candidates, totalling 5 fits\n",
      "Fitting 5 folds for each of 1 candidates, totalling 5 fits\n",
      "Fitting 5 folds for each of 1 candidates, totalling 5 fits\n",
      "Fitting 5 folds for each of 1 candidates, totalling 5 fits\n",
      "Fitting 5 folds for each of 1 candidates, totalling 5 fits\n",
      "Fitting 5 folds for each of 1 candidates, totalling 5 fits\n",
      "Fitting 5 folds for each of 1 candidates, totalling 5 fits\n",
      "Fitting 5 folds for each of 1 candidates, totalling 5 fits\n",
      "Fitting 5 folds for each of 1 candidates, totalling 5 fits\n",
      "Fitting 5 folds for each of 1 candidates, totalling 5 fits\n",
      "Fitting 5 folds for each of 1 candidates, totalling 5 fits\n"
     ]
    },
    {
     "data": {
      "text/plain": [
       "BayesSearchCV(cv=5, estimator=RandomForestRegressor(), n_jobs=4,\n",
       "              search_spaces={'max_depth': [1, 2, 3, 4, 5, 6, 7, 8, 9, 10, 11,\n",
       "                                           12, 13, 14, 15, 16, 17, 18, 19, 20,\n",
       "                                           21, 22, 23, 24, 25, 26, 27, 28, 29,\n",
       "                                           30],\n",
       "                             'n_estimators': [1, 2, 3, 4, 5, 6, 7, 8, 9, 10, 11,\n",
       "                                              12, 13, 14, 15, 16, 17, 18, 19,\n",
       "                                              20, 21, 22, 23, 24, 25, 26, 27,\n",
       "                                              28, 29, 30, ...]},\n",
       "              verbose=2)"
      ]
     },
     "execution_count": 279,
     "metadata": {},
     "output_type": "execute_result"
    }
   ],
   "source": [
    "rf_bayes.fit(x_train,y_train)"
   ]
  },
  {
   "cell_type": "code",
   "execution_count": 280,
   "id": "b4fd70df",
   "metadata": {},
   "outputs": [],
   "source": [
    "best_bayes=rf_bayes.best_estimator_"
   ]
  },
  {
   "cell_type": "code",
   "execution_count": 281,
   "id": "af5dcab8",
   "metadata": {},
   "outputs": [
    {
     "data": {
      "text/plain": [
       "array([1.04071429, 1.59035714, 1.61970238, 1.237     , 1.51196429,\n",
       "       1.20112843, 1.46149351, 1.1870487 , 1.49540816, 1.61214286,\n",
       "       1.36540816, 1.59142857, 1.30262446, 1.36613605, 1.52915584,\n",
       "       1.25732143, 1.54535714, 1.18471429, 0.915     , 1.65928571])"
      ]
     },
     "execution_count": 281,
     "metadata": {},
     "output_type": "execute_result"
    }
   ],
   "source": [
    "y_pr=best_bayes.predict(x_test)\n",
    "y_pr"
   ]
  },
  {
   "cell_type": "code",
   "execution_count": 282,
   "id": "a7f7b1d0",
   "metadata": {},
   "outputs": [],
   "source": [
    "y_pr1 =best_bayes.predict(x_train)"
   ]
  },
  {
   "cell_type": "code",
   "execution_count": 283,
   "id": "5ec7b8b0",
   "metadata": {},
   "outputs": [
    {
     "name": "stdout",
     "output_type": "stream",
     "text": [
      "Training:\n"
     ]
    },
    {
     "data": {
      "application/javascript": [
       "\n",
       "        if (window._pyforest_update_imports_cell) { window._pyforest_update_imports_cell('import matplotlib.pyplot as plt\\nimport seaborn as sns\\nimport numpy as np\\nimport pandas as pd'); }\n",
       "    "
      ],
      "text/plain": [
       "<IPython.core.display.Javascript object>"
      ]
     },
     "metadata": {},
     "output_type": "display_data"
    },
    {
     "data": {
      "application/javascript": [
       "\n",
       "        if (window._pyforest_update_imports_cell) { window._pyforest_update_imports_cell('import matplotlib.pyplot as plt\\nimport seaborn as sns\\nimport numpy as np\\nimport pandas as pd'); }\n",
       "    "
      ],
      "text/plain": [
       "<IPython.core.display.Javascript object>"
      ]
     },
     "metadata": {},
     "output_type": "display_data"
    },
    {
     "name": "stdout",
     "output_type": "stream",
     "text": [
      "Mean absolute Error:  0.05058563236392547\n"
     ]
    },
    {
     "data": {
      "application/javascript": [
       "\n",
       "        if (window._pyforest_update_imports_cell) { window._pyforest_update_imports_cell('import matplotlib.pyplot as plt\\nimport seaborn as sns\\nimport numpy as np\\nimport pandas as pd'); }\n",
       "    "
      ],
      "text/plain": [
       "<IPython.core.display.Javascript object>"
      ]
     },
     "metadata": {},
     "output_type": "display_data"
    },
    {
     "name": "stdout",
     "output_type": "stream",
     "text": [
      "Root mean square error:  5.886222904900688e-06\n",
      "R2 square:  0.8807713306732361\n",
      "\n",
      "Testing:\n"
     ]
    },
    {
     "data": {
      "application/javascript": [
       "\n",
       "        if (window._pyforest_update_imports_cell) { window._pyforest_update_imports_cell('import matplotlib.pyplot as plt\\nimport seaborn as sns\\nimport numpy as np\\nimport pandas as pd'); }\n",
       "    "
      ],
      "text/plain": [
       "<IPython.core.display.Javascript object>"
      ]
     },
     "metadata": {},
     "output_type": "display_data"
    },
    {
     "data": {
      "application/javascript": [
       "\n",
       "        if (window._pyforest_update_imports_cell) { window._pyforest_update_imports_cell('import matplotlib.pyplot as plt\\nimport seaborn as sns\\nimport numpy as np\\nimport pandas as pd'); }\n",
       "    "
      ],
      "text/plain": [
       "<IPython.core.display.Javascript object>"
      ]
     },
     "metadata": {},
     "output_type": "display_data"
    },
    {
     "name": "stdout",
     "output_type": "stream",
     "text": [
      "Mean absolute Error:  0.08290512007833438\n"
     ]
    },
    {
     "data": {
      "application/javascript": [
       "\n",
       "        if (window._pyforest_update_imports_cell) { window._pyforest_update_imports_cell('import matplotlib.pyplot as plt\\nimport seaborn as sns\\nimport numpy as np\\nimport pandas as pd'); }\n",
       "    "
      ],
      "text/plain": [
       "<IPython.core.display.Javascript object>"
      ]
     },
     "metadata": {},
     "output_type": "display_data"
    },
    {
     "name": "stdout",
     "output_type": "stream",
     "text": [
      "Root mean square error:  0.0005678893602853028\n",
      "R2 square:  0.7023537606764726\n"
     ]
    }
   ],
   "source": [
    "print(\"Training:\")\n",
    "print(\"Mean absolute Error: \" ,np.mean(np.absolute(y_pr1-y_train)))\n",
    "print(\"Root mean square error: \" ,np.mean(y_pr1-y_train)**2)\n",
    "print(\"R2 square: \" ,r2_score(y_pr1,y_train))\n",
    "print(\"\\nTesting:\")\n",
    "print(\"Mean absolute Error: \" ,np.mean(np.absolute(y_pr-y_test)))\n",
    "print(\"Root mean square error: \" ,np.mean(y_pr-y_test)**2)\n",
    "print(\"R2 square: \" ,r2_score(y_pr,y_test))"
   ]
  },
  {
   "cell_type": "code",
   "execution_count": 291,
   "id": "5516c4a6",
   "metadata": {},
   "outputs": [
    {
     "data": {
      "text/plain": [
       "array([1.66741935, 1.54903226, 1.28612903, 1.30645161])"
      ]
     },
     "execution_count": 291,
     "metadata": {},
     "output_type": "execute_result"
    }
   ],
   "source": [
    "best_rand.predict(d)"
   ]
  },
  {
   "cell_type": "code",
   "execution_count": 292,
   "id": "d4de5771",
   "metadata": {},
   "outputs": [
    {
     "name": "stdout",
     "output_type": "stream",
     "text": [
      "48.58640227080902\n",
      "37.49236374764463\n",
      "21.415423950150142\n",
      "22.34123950705204\n"
     ]
    }
   ],
   "source": [
    "l=[1.66741935, 1.54903226, 1.28612903, 1.30645161]\n",
    "for i in l:\n",
    "    x=(10**(i))+2.09\n",
    "    print(x)"
   ]
  },
  {
   "cell_type": "code",
   "execution_count": 293,
   "id": "f2e0b564",
   "metadata": {},
   "outputs": [],
   "source": [
    "import pickle\n",
    "with open(\"NIRF_RPC_LOG_OUTLIER.pkl\",\"wb\") as f:\n",
    "    pickle.dump(best_rand,f)"
   ]
  },
  {
   "cell_type": "code",
   "execution_count": 294,
   "id": "3b90d8c1",
   "metadata": {},
   "outputs": [
    {
     "data": {
      "text/plain": [
       "array([1.63285714, 1.56094388, 1.29077041, 1.31690167])"
      ]
     },
     "execution_count": 294,
     "metadata": {},
     "output_type": "execute_result"
    }
   ],
   "source": [
    "best_bayes.predict(d)"
   ]
  },
  {
   "cell_type": "code",
   "execution_count": 295,
   "id": "7c3eba9d",
   "metadata": {},
   "outputs": [
    {
     "name": "stdout",
     "output_type": "stream",
     "text": [
      "45.029515515104094\n",
      "38.47680136730891\n",
      "21.623065662652923\n",
      "22.834437828409598\n"
     ]
    }
   ],
   "source": [
    "l=[1.63285714, 1.56094388, 1.29077041, 1.31690167]\n",
    "for i in l:\n",
    "    x=(10**(i))+2.09\n",
    "    print(x)"
   ]
  },
  {
   "cell_type": "code",
   "execution_count": 340,
   "id": "c65cdc27",
   "metadata": {},
   "outputs": [
    {
     "data": {
      "text/plain": [
       "array([1.64277108, 1.54072289, 1.27457831, 1.32072289])"
      ]
     },
     "execution_count": 340,
     "metadata": {},
     "output_type": "execute_result"
    }
   ],
   "source": [
    "best_rand.predict(d)"
   ]
  },
  {
   "cell_type": "code",
   "execution_count": 341,
   "id": "6e83cf67",
   "metadata": {},
   "outputs": [
    {
     "name": "stdout",
     "output_type": "stream",
     "text": [
      "46.02099906838862\n",
      "36.82144800003819\n",
      "20.908209970062593\n",
      "23.01776693066609\n"
     ]
    }
   ],
   "source": [
    "l=[1.64277108, 1.54072289, 1.27457831, 1.32072289]\n",
    "for i in l:\n",
    "    x=(10**(i))+2.09\n",
    "    print(x)"
   ]
  },
  {
   "cell_type": "code",
   "execution_count": 342,
   "id": "22108a2f",
   "metadata": {},
   "outputs": [],
   "source": [
    "import pickle\n",
    "with open(\"NIRF_RPC_LOG_OUTLIER1.pkl\",\"wb\") as f:\n",
    "    pickle.dump(best_rand,f)"
   ]
  },
  {
   "cell_type": "code",
   "execution_count": 344,
   "id": "1c6527e3",
   "metadata": {},
   "outputs": [
    {
     "data": {
      "application/javascript": [
       "\n",
       "        if (window._pyforest_update_imports_cell) { window._pyforest_update_imports_cell('import matplotlib.pyplot as plt\\nimport seaborn as sns\\nimport numpy as np\\nimport pandas as pd'); }\n",
       "    "
      ],
      "text/plain": [
       "<IPython.core.display.Javascript object>"
      ]
     },
     "metadata": {},
     "output_type": "display_data"
    },
    {
     "name": "stdout",
     "output_type": "stream",
     "text": [
      "(array([0], dtype=int64),)\n"
     ]
    }
   ],
   "source": [
    "print(np.where(df['RPC (100)']>1.8))"
   ]
  },
  {
   "cell_type": "code",
   "execution_count": 345,
   "id": "42570336",
   "metadata": {},
   "outputs": [],
   "source": [
    "data=df.drop([0],axis=0,inplace=True)"
   ]
  },
  {
   "cell_type": "code",
   "execution_count": 652,
   "id": "a15a3ef3",
   "metadata": {},
   "outputs": [],
   "source": [
    "x=df.drop(['RPC (100)'],axis=1)\n",
    "y=df['RPC (100)']"
   ]
  },
  {
   "cell_type": "code",
   "execution_count": 679,
   "id": "a8ed0bae",
   "metadata": {},
   "outputs": [
    {
     "name": "stdout",
     "output_type": "stream",
     "text": [
      "Training:-\n"
     ]
    },
    {
     "data": {
      "application/javascript": [
       "\n",
       "        if (window._pyforest_update_imports_cell) { window._pyforest_update_imports_cell('import matplotlib.pyplot as plt\\nimport seaborn as sns\\nimport numpy as np\\nimport pandas as pd'); }\n",
       "    "
      ],
      "text/plain": [
       "<IPython.core.display.Javascript object>"
      ]
     },
     "metadata": {},
     "output_type": "display_data"
    },
    {
     "data": {
      "application/javascript": [
       "\n",
       "        if (window._pyforest_update_imports_cell) { window._pyforest_update_imports_cell('import matplotlib.pyplot as plt\\nimport seaborn as sns\\nimport numpy as np\\nimport pandas as pd'); }\n",
       "    "
      ],
      "text/plain": [
       "<IPython.core.display.Javascript object>"
      ]
     },
     "metadata": {},
     "output_type": "display_data"
    },
    {
     "name": "stdout",
     "output_type": "stream",
     "text": [
      "Mean absolute Error:  0.04907828393783098\n"
     ]
    },
    {
     "data": {
      "application/javascript": [
       "\n",
       "        if (window._pyforest_update_imports_cell) { window._pyforest_update_imports_cell('import matplotlib.pyplot as plt\\nimport seaborn as sns\\nimport numpy as np\\nimport pandas as pd'); }\n",
       "    "
      ],
      "text/plain": [
       "<IPython.core.display.Javascript object>"
      ]
     },
     "metadata": {},
     "output_type": "display_data"
    },
    {
     "name": "stdout",
     "output_type": "stream",
     "text": [
      "Root mean square error:  1.5039644141652936e-05\n",
      "R2 square:  0.9022559334375155\n",
      "Testing:-\n"
     ]
    },
    {
     "data": {
      "application/javascript": [
       "\n",
       "        if (window._pyforest_update_imports_cell) { window._pyforest_update_imports_cell('import matplotlib.pyplot as plt\\nimport seaborn as sns\\nimport numpy as np\\nimport pandas as pd'); }\n",
       "    "
      ],
      "text/plain": [
       "<IPython.core.display.Javascript object>"
      ]
     },
     "metadata": {},
     "output_type": "display_data"
    },
    {
     "data": {
      "application/javascript": [
       "\n",
       "        if (window._pyforest_update_imports_cell) { window._pyforest_update_imports_cell('import matplotlib.pyplot as plt\\nimport seaborn as sns\\nimport numpy as np\\nimport pandas as pd'); }\n",
       "    "
      ],
      "text/plain": [
       "<IPython.core.display.Javascript object>"
      ]
     },
     "metadata": {},
     "output_type": "display_data"
    },
    {
     "name": "stdout",
     "output_type": "stream",
     "text": [
      "Mean absolute Error:  0.07827576101403032\n"
     ]
    },
    {
     "data": {
      "application/javascript": [
       "\n",
       "        if (window._pyforest_update_imports_cell) { window._pyforest_update_imports_cell('import matplotlib.pyplot as plt\\nimport seaborn as sns\\nimport numpy as np\\nimport pandas as pd'); }\n",
       "    "
      ],
      "text/plain": [
       "<IPython.core.display.Javascript object>"
      ]
     },
     "metadata": {},
     "output_type": "display_data"
    },
    {
     "name": "stdout",
     "output_type": "stream",
     "text": [
      "Root mean square error:  0.0011744358481467335\n",
      "R2 square:  0.6771473736837899\n"
     ]
    }
   ],
   "source": [
    "from sklearn.ensemble import RandomForestRegressor\n",
    "from sklearn.ensemble import AdaBoostRegressor\n",
    "from sklearn.ensemble import GradientBoostingRegressor\n",
    "from sklearn.svm import SVR\n",
    "from sklearn.tree import DecisionTreeRegressor\n",
    "from xgboost import XGBRegressor\n",
    "from sklearn.model_selection import train_test_split\n",
    "x_train,x_test,y_train,y_test = train_test_split(x,y,test_size=0.2)\n",
    "regressor2 = RandomForestRegressor()\n",
    "regressor2.fit(x_train, y_train)\n",
    "y_pred1 =regressor2.predict(x_train)\n",
    "from sklearn.metrics import r2_score\n",
    "print(\"Training:-\")\n",
    "print(\"Mean absolute Error: \" ,np.mean(np.absolute(y_pred1-y_train)))\n",
    "print(\"Root mean square error: \" ,np.mean(y_pred1-y_train)**2)\n",
    "print(\"R2 square: \" ,r2_score(y_pred1,y_train))\n",
    "regressor = RandomForestRegressor()\n",
    "regressor.fit(x_train, y_train)\n",
    "y_pred =regressor.predict(x_test)\n",
    "from sklearn.metrics import r2_score\n",
    "print(\"Testing:-\")\n",
    "print(\"Mean absolute Error: \" ,np.mean(np.absolute(y_pred-y_test)))\n",
    "print(\"Root mean square error: \" ,np.mean(y_pred-y_test)**2)\n",
    "print(\"R2 square: \" ,r2_score(y_pred,y_test))"
   ]
  },
  {
   "cell_type": "code",
   "execution_count": 680,
   "id": "76a6c84e",
   "metadata": {},
   "outputs": [],
   "source": [
    "params = {\n",
    "    'max_depth': [i for i in range(1,100+1)],\n",
    "    'n_estimators': [i for i in range(1,200+1)]\n",
    "}"
   ]
  },
  {
   "cell_type": "code",
   "execution_count": 681,
   "id": "1bff20ea",
   "metadata": {},
   "outputs": [],
   "source": [
    "from sklearn.model_selection import RandomizedSearchCV\n",
    "rf_rand = RandomizedSearchCV(estimator=regressor,\n",
    "                           param_distributions=params,cv = 5,\n",
    "                           n_jobs=4, verbose=2)"
   ]
  },
  {
   "cell_type": "code",
   "execution_count": 682,
   "id": "6ac33c25",
   "metadata": {},
   "outputs": [
    {
     "name": "stdout",
     "output_type": "stream",
     "text": [
      "Fitting 5 folds for each of 10 candidates, totalling 50 fits\n"
     ]
    },
    {
     "data": {
      "text/plain": [
       "RandomizedSearchCV(cv=5, estimator=RandomForestRegressor(), n_jobs=4,\n",
       "                   param_distributions={'max_depth': [1, 2, 3, 4, 5, 6, 7, 8, 9,\n",
       "                                                      10, 11, 12, 13, 14, 15,\n",
       "                                                      16, 17, 18, 19, 20, 21,\n",
       "                                                      22, 23, 24, 25, 26, 27,\n",
       "                                                      28, 29, 30, ...],\n",
       "                                        'n_estimators': [1, 2, 3, 4, 5, 6, 7, 8,\n",
       "                                                         9, 10, 11, 12, 13, 14,\n",
       "                                                         15, 16, 17, 18, 19, 20,\n",
       "                                                         21, 22, 23, 24, 25, 26,\n",
       "                                                         27, 28, 29, 30, ...]},\n",
       "                   verbose=2)"
      ]
     },
     "execution_count": 682,
     "metadata": {},
     "output_type": "execute_result"
    }
   ],
   "source": [
    "rf_rand.fit(x_train,y_train)"
   ]
  },
  {
   "cell_type": "code",
   "execution_count": 683,
   "id": "16adb8ae",
   "metadata": {},
   "outputs": [],
   "source": [
    "best_rand=rf_rand.best_estimator_"
   ]
  },
  {
   "cell_type": "code",
   "execution_count": 684,
   "id": "010074c1",
   "metadata": {},
   "outputs": [
    {
     "data": {
      "text/plain": [
       "array([1.58417096, 1.22589052, 0.98327202, 1.35860851, 1.44882646,\n",
       "       1.39000832, 1.15671124, 1.21269105, 1.60955447, 1.27691819,\n",
       "       1.18313811, 1.50556964, 1.32186192, 1.39706318, 1.54107279,\n",
       "       1.21410583, 1.20303619, 1.60148847, 1.53156185, 1.58562367])"
      ]
     },
     "execution_count": 684,
     "metadata": {},
     "output_type": "execute_result"
    }
   ],
   "source": [
    "y_p=best_rand.predict(x_test)\n",
    "y_p"
   ]
  },
  {
   "cell_type": "code",
   "execution_count": 685,
   "id": "1418eed5",
   "metadata": {},
   "outputs": [],
   "source": [
    "y_p1 =best_rand.predict(x_train)"
   ]
  },
  {
   "cell_type": "code",
   "execution_count": 686,
   "id": "3aadf042",
   "metadata": {},
   "outputs": [
    {
     "name": "stdout",
     "output_type": "stream",
     "text": [
      "Training:\n"
     ]
    },
    {
     "data": {
      "application/javascript": [
       "\n",
       "        if (window._pyforest_update_imports_cell) { window._pyforest_update_imports_cell('import matplotlib.pyplot as plt\\nimport seaborn as sns\\nimport numpy as np\\nimport pandas as pd'); }\n",
       "    "
      ],
      "text/plain": [
       "<IPython.core.display.Javascript object>"
      ]
     },
     "metadata": {},
     "output_type": "display_data"
    },
    {
     "data": {
      "application/javascript": [
       "\n",
       "        if (window._pyforest_update_imports_cell) { window._pyforest_update_imports_cell('import matplotlib.pyplot as plt\\nimport seaborn as sns\\nimport numpy as np\\nimport pandas as pd'); }\n",
       "    "
      ],
      "text/plain": [
       "<IPython.core.display.Javascript object>"
      ]
     },
     "metadata": {},
     "output_type": "display_data"
    },
    {
     "name": "stdout",
     "output_type": "stream",
     "text": [
      "Mean absolute Error:  0.049496206131831394\n"
     ]
    },
    {
     "data": {
      "application/javascript": [
       "\n",
       "        if (window._pyforest_update_imports_cell) { window._pyforest_update_imports_cell('import matplotlib.pyplot as plt\\nimport seaborn as sns\\nimport numpy as np\\nimport pandas as pd'); }\n",
       "    "
      ],
      "text/plain": [
       "<IPython.core.display.Javascript object>"
      ]
     },
     "metadata": {},
     "output_type": "display_data"
    },
    {
     "name": "stdout",
     "output_type": "stream",
     "text": [
      "Root mean square error:  2.3574239471963003e-05\n",
      "R2 square:  0.8999777626080071\n",
      "\n",
      "Testing:\n"
     ]
    },
    {
     "data": {
      "application/javascript": [
       "\n",
       "        if (window._pyforest_update_imports_cell) { window._pyforest_update_imports_cell('import matplotlib.pyplot as plt\\nimport seaborn as sns\\nimport numpy as np\\nimport pandas as pd'); }\n",
       "    "
      ],
      "text/plain": [
       "<IPython.core.display.Javascript object>"
      ]
     },
     "metadata": {},
     "output_type": "display_data"
    },
    {
     "data": {
      "application/javascript": [
       "\n",
       "        if (window._pyforest_update_imports_cell) { window._pyforest_update_imports_cell('import matplotlib.pyplot as plt\\nimport seaborn as sns\\nimport numpy as np\\nimport pandas as pd'); }\n",
       "    "
      ],
      "text/plain": [
       "<IPython.core.display.Javascript object>"
      ]
     },
     "metadata": {},
     "output_type": "display_data"
    },
    {
     "name": "stdout",
     "output_type": "stream",
     "text": [
      "Mean absolute Error:  0.08017648944885208\n"
     ]
    },
    {
     "data": {
      "application/javascript": [
       "\n",
       "        if (window._pyforest_update_imports_cell) { window._pyforest_update_imports_cell('import matplotlib.pyplot as plt\\nimport seaborn as sns\\nimport numpy as np\\nimport pandas as pd'); }\n",
       "    "
      ],
      "text/plain": [
       "<IPython.core.display.Javascript object>"
      ]
     },
     "metadata": {},
     "output_type": "display_data"
    },
    {
     "name": "stdout",
     "output_type": "stream",
     "text": [
      "Root mean square error:  0.0010017778736290872\n",
      "R2 square:  0.7099338812349223\n"
     ]
    }
   ],
   "source": [
    "print(\"Training:\")\n",
    "print(\"Mean absolute Error: \" ,np.mean(np.absolute(y_p1-y_train)))\n",
    "print(\"Root mean square error: \" ,np.mean(y_p1-y_train)**2)\n",
    "print(\"R2 square: \" ,r2_score(y_p1,y_train))\n",
    "print(\"\\nTesting:\")\n",
    "print(\"Mean absolute Error: \" ,np.mean(np.absolute(y_p-y_test)))\n",
    "print(\"Root mean square error: \" ,np.mean(y_p-y_test)**2)\n",
    "print(\"R2 square: \" ,r2_score(y_p,y_test))"
   ]
  },
  {
   "cell_type": "code",
   "execution_count": 687,
   "id": "64bfbe2f",
   "metadata": {},
   "outputs": [
    {
     "data": {
      "application/javascript": [
       "\n",
       "        if (window._pyforest_update_imports_cell) { window._pyforest_update_imports_cell('import matplotlib.pyplot as plt\\nimport seaborn as sns\\nimport numpy as np\\nimport pandas as pd'); }\n",
       "    "
      ],
      "text/plain": [
       "<IPython.core.display.Javascript object>"
      ]
     },
     "metadata": {},
     "output_type": "display_data"
    },
    {
     "data": {
      "application/javascript": [
       "\n",
       "        if (window._pyforest_update_imports_cell) { window._pyforest_update_imports_cell('import matplotlib.pyplot as plt\\nimport seaborn as sns\\nimport numpy as np\\nimport pandas as pd'); }\n",
       "    "
      ],
      "text/plain": [
       "<IPython.core.display.Javascript object>"
      ]
     },
     "metadata": {},
     "output_type": "display_data"
    },
    {
     "data": {
      "application/javascript": [
       "\n",
       "        if (window._pyforest_update_imports_cell) { window._pyforest_update_imports_cell('import matplotlib.pyplot as plt\\nimport seaborn as sns\\nimport numpy as np\\nimport pandas as pd'); }\n",
       "    "
      ],
      "text/plain": [
       "<IPython.core.display.Javascript object>"
      ]
     },
     "metadata": {},
     "output_type": "display_data"
    },
    {
     "data": {
      "application/javascript": [
       "\n",
       "        if (window._pyforest_update_imports_cell) { window._pyforest_update_imports_cell('import matplotlib.pyplot as plt\\nimport seaborn as sns\\nimport numpy as np\\nimport pandas as pd'); }\n",
       "    "
      ],
      "text/plain": [
       "<IPython.core.display.Javascript object>"
      ]
     },
     "metadata": {},
     "output_type": "display_data"
    },
    {
     "data": {
      "application/javascript": [
       "\n",
       "        if (window._pyforest_update_imports_cell) { window._pyforest_update_imports_cell('import matplotlib.pyplot as plt\\nimport seaborn as sns\\nimport numpy as np\\nimport pandas as pd'); }\n",
       "    "
      ],
      "text/plain": [
       "<IPython.core.display.Javascript object>"
      ]
     },
     "metadata": {},
     "output_type": "display_data"
    },
    {
     "data": {
      "image/png": "[encoded data removed]",
      "text/plain": [
       "<Figure size 432x288 with 1 Axes>"
      ]
     },
     "metadata": {
      "needs_background": "light"
     },
     "output_type": "display_data"
    }
   ],
   "source": [
    "fig, ax = plt.subplots()\n",
    "ax.scatter(y_p1,y_train,label='train',color='#e8e7d8',edgecolors='#494623')\n",
    "ax.scatter(y_p,y_test,label='test',color='#c3892b',marker =\"^\",edgecolors='#494623')\n",
    "plt.xlabel('Actual Value')\n",
    "plt.ylabel('Predicted value')\n",
    "ax.legend()\n",
    "lims = [\n",
    "    np.min([ax.get_xlim(), ax.get_ylim()]),  # min of both axes\n",
    "    np.max([ax.get_xlim(), ax.get_ylim()]),  # max of both axes\n",
    "]\n",
    "\n",
    "# now plot both limits against eachother\n",
    "ax.plot(lims, lims, '--')\n",
    "ax.set_aspect('equal')\n",
    "ax.set_xlim(lims)\n",
    "ax.set_ylim(lims)\n",
    "fig.savefig('/Users/Rishi Chaitanya/Desktop/NIRF_OUTLIER.png', dpi=1200)"
   ]
  },
  {
   "cell_type": "code",
   "execution_count": 725,
   "id": "733860da",
   "metadata": {},
   "outputs": [
    {
     "data": {
      "application/javascript": [
       "\n",
       "        if (window._pyforest_update_imports_cell) { window._pyforest_update_imports_cell('import matplotlib.pyplot as plt\\nimport seaborn as sns\\nimport numpy as np\\nimport pandas as pd'); }\n",
       "    "
      ],
      "text/plain": [
       "<IPython.core.display.Javascript object>"
      ]
     },
     "metadata": {},
     "output_type": "display_data"
    },
    {
     "name": "stdout",
     "output_type": "stream",
     "text": [
      "(array([66, 84], dtype=int64),)\n"
     ]
    }
   ],
   "source": [
    "print(np.where(df['RPC (100)']<0.9))"
   ]
  },
  {
   "cell_type": "code",
   "execution_count": 690,
   "id": "9a1190c9",
   "metadata": {},
   "outputs": [],
   "source": [
    "df.drop([68, 88],axis=0,inplace=True)"
   ]
  },
  {
   "cell_type": "code",
   "execution_count": 720,
   "id": "45e92553",
   "metadata": {},
   "outputs": [],
   "source": [
    "df.drop([67,86],axis=0,inplace=True)"
   ]
  },
  {
   "cell_type": "code",
   "execution_count": 721,
   "id": "7c7bbc0d",
   "metadata": {},
   "outputs": [],
   "source": [
    "x=df.drop(['RPC (100)'],axis=1)\n",
    "y=df['RPC (100)']"
   ]
  },
  {
   "cell_type": "code",
   "execution_count": 742,
   "id": "a5367177",
   "metadata": {},
   "outputs": [
    {
     "name": "stdout",
     "output_type": "stream",
     "text": [
      "Training:-\n"
     ]
    },
    {
     "data": {
      "application/javascript": [
       "\n",
       "        if (window._pyforest_update_imports_cell) { window._pyforest_update_imports_cell('import matplotlib.pyplot as plt\\nimport seaborn as sns\\nimport numpy as np\\nimport pandas as pd'); }\n",
       "    "
      ],
      "text/plain": [
       "<IPython.core.display.Javascript object>"
      ]
     },
     "metadata": {},
     "output_type": "display_data"
    },
    {
     "data": {
      "application/javascript": [
       "\n",
       "        if (window._pyforest_update_imports_cell) { window._pyforest_update_imports_cell('import matplotlib.pyplot as plt\\nimport seaborn as sns\\nimport numpy as np\\nimport pandas as pd'); }\n",
       "    "
      ],
      "text/plain": [
       "<IPython.core.display.Javascript object>"
      ]
     },
     "metadata": {},
     "output_type": "display_data"
    },
    {
     "name": "stdout",
     "output_type": "stream",
     "text": [
      "Mean absolute Error:  0.04649083624031023\n"
     ]
    },
    {
     "data": {
      "application/javascript": [
       "\n",
       "        if (window._pyforest_update_imports_cell) { window._pyforest_update_imports_cell('import matplotlib.pyplot as plt\\nimport seaborn as sns\\nimport numpy as np\\nimport pandas as pd'); }\n",
       "    "
      ],
      "text/plain": [
       "<IPython.core.display.Javascript object>"
      ]
     },
     "metadata": {},
     "output_type": "display_data"
    },
    {
     "name": "stdout",
     "output_type": "stream",
     "text": [
      "Root mean square error:  5.216052804680087e-07\n",
      "R2 square:  0.9122605080838547\n",
      "Testing:-\n"
     ]
    },
    {
     "data": {
      "application/javascript": [
       "\n",
       "        if (window._pyforest_update_imports_cell) { window._pyforest_update_imports_cell('import matplotlib.pyplot as plt\\nimport seaborn as sns\\nimport numpy as np\\nimport pandas as pd'); }\n",
       "    "
      ],
      "text/plain": [
       "<IPython.core.display.Javascript object>"
      ]
     },
     "metadata": {},
     "output_type": "display_data"
    },
    {
     "data": {
      "application/javascript": [
       "\n",
       "        if (window._pyforest_update_imports_cell) { window._pyforest_update_imports_cell('import matplotlib.pyplot as plt\\nimport seaborn as sns\\nimport numpy as np\\nimport pandas as pd'); }\n",
       "    "
      ],
      "text/plain": [
       "<IPython.core.display.Javascript object>"
      ]
     },
     "metadata": {},
     "output_type": "display_data"
    },
    {
     "name": "stdout",
     "output_type": "stream",
     "text": [
      "Mean absolute Error:  0.07317493545555924\n"
     ]
    },
    {
     "data": {
      "application/javascript": [
       "\n",
       "        if (window._pyforest_update_imports_cell) { window._pyforest_update_imports_cell('import matplotlib.pyplot as plt\\nimport seaborn as sns\\nimport numpy as np\\nimport pandas as pd'); }\n",
       "    "
      ],
      "text/plain": [
       "<IPython.core.display.Javascript object>"
      ]
     },
     "metadata": {},
     "output_type": "display_data"
    },
    {
     "name": "stdout",
     "output_type": "stream",
     "text": [
      "Root mean square error:  8.644249093038918e-05\n",
      "R2 square:  0.7424360282092448\n"
     ]
    }
   ],
   "source": [
    "from sklearn.ensemble import RandomForestRegressor\n",
    "from sklearn.model_selection import train_test_split\n",
    "x_train,x_test,y_train,y_test = train_test_split(x,y,test_size=0.2)\n",
    "regressor2 = RandomForestRegressor()\n",
    "regressor2.fit(x_train, y_train)\n",
    "y_pred1 =regressor2.predict(x_train)\n",
    "from sklearn.metrics import r2_score\n",
    "print(\"Training:-\")\n",
    "print(\"Mean absolute Error: \" ,np.mean(np.absolute(y_pred1-y_train)))\n",
    "print(\"Root mean square error: \" ,np.mean(y_pred1-y_train)**2)\n",
    "print(\"R2 square: \" ,r2_score(y_pred1,y_train))\n",
    "regressor = RandomForestRegressor()\n",
    "regressor.fit(x_train, y_train)\n",
    "y_pred =regressor.predict(x_test)\n",
    "from sklearn.metrics import r2_score\n",
    "print(\"Testing:-\")\n",
    "print(\"Mean absolute Error: \" ,np.mean(np.absolute(y_pred-y_test)))\n",
    "print(\"Root mean square error: \" ,np.mean(y_pred-y_test)**2)\n",
    "print(\"R2 square: \" ,r2_score(y_pred,y_test))"
   ]
  },
  {
   "cell_type": "code",
   "execution_count": 856,
   "id": "003d0b8f",
   "metadata": {},
   "outputs": [],
   "source": [
    "params = {\n",
    "    'max_depth': [i for i in range(1,30+1)],\n",
    "    'n_estimators': [i for i in range(1,100+1)]\n",
    "}"
   ]
  },
  {
   "cell_type": "code",
   "execution_count": 869,
   "id": "ecd5ce7c",
   "metadata": {},
   "outputs": [],
   "source": [
    "from sklearn.model_selection import RandomizedSearchCV\n",
    "rf_rand = RandomizedSearchCV(estimator=regressor,\n",
    "                           param_distributions=params,cv = 5,\n",
    "                           n_jobs=4, verbose=2)"
   ]
  },
  {
   "cell_type": "code",
   "execution_count": 870,
   "id": "2e21933d",
   "metadata": {},
   "outputs": [
    {
     "name": "stdout",
     "output_type": "stream",
     "text": [
      "Fitting 5 folds for each of 10 candidates, totalling 50 fits\n"
     ]
    },
    {
     "data": {
      "text/plain": [
       "RandomizedSearchCV(cv=5, estimator=RandomForestRegressor(), n_jobs=4,\n",
       "                   param_distributions={'max_depth': [1, 2, 3, 4, 5, 6, 7, 8, 9,\n",
       "                                                      10, 11, 12, 13, 14, 15,\n",
       "                                                      16, 17, 18, 19, 20, 21,\n",
       "                                                      22, 23, 24, 25, 26, 27,\n",
       "                                                      28, 29, 30],\n",
       "                                        'n_estimators': [1, 2, 3, 4, 5, 6, 7, 8,\n",
       "                                                         9, 10, 11, 12, 13, 14,\n",
       "                                                         15, 16, 17, 18, 19, 20,\n",
       "                                                         21, 22, 23, 24, 25, 26,\n",
       "                                                         27, 28, 29, 30, ...]},\n",
       "                   verbose=2)"
      ]
     },
     "execution_count": 870,
     "metadata": {},
     "output_type": "execute_result"
    }
   ],
   "source": [
    "rf_rand.fit(x_train,y_train)"
   ]
  },
  {
   "cell_type": "code",
   "execution_count": 871,
   "id": "81fcbc65",
   "metadata": {},
   "outputs": [],
   "source": [
    "best_rand=rf_rand.best_estimator_"
   ]
  },
  {
   "cell_type": "code",
   "execution_count": 872,
   "id": "22e7eab8",
   "metadata": {},
   "outputs": [
    {
     "data": {
      "text/plain": [
       "array([1.28442484, 1.22020158, 1.10082553, 1.60275328, 1.21168896,\n",
       "       0.9944203 , 1.19821722, 1.40278548, 1.38465872, 1.41133175,\n",
       "       1.59802909, 1.20249842, 1.59936444, 1.5518283 , 1.15569329,\n",
       "       1.30406979, 1.58658072, 1.23353981, 1.61017161])"
      ]
     },
     "execution_count": 872,
     "metadata": {},
     "output_type": "execute_result"
    }
   ],
   "source": [
    "y_p=best_rand.predict(x_test)\n",
    "y_p"
   ]
  },
  {
   "cell_type": "code",
   "execution_count": 873,
   "id": "c5c1c64a",
   "metadata": {},
   "outputs": [],
   "source": [
    "y_p1 =best_rand.predict(x_train)"
   ]
  },
  {
   "cell_type": "code",
   "execution_count": 875,
   "id": "a294ac7a",
   "metadata": {},
   "outputs": [
    {
     "name": "stdout",
     "output_type": "stream",
     "text": [
      "\n",
      "Testing:\n"
     ]
    },
    {
     "data": {
      "application/javascript": [
       "\n",
       "        if (window._pyforest_update_imports_cell) { window._pyforest_update_imports_cell('import matplotlib.pyplot as plt\\nimport seaborn as sns\\nimport numpy as np\\nimport pandas as pd'); }\n",
       "    "
      ],
      "text/plain": [
       "<IPython.core.display.Javascript object>"
      ]
     },
     "metadata": {},
     "output_type": "display_data"
    },
    {
     "data": {
      "application/javascript": [
       "\n",
       "        if (window._pyforest_update_imports_cell) { window._pyforest_update_imports_cell('import matplotlib.pyplot as plt\\nimport seaborn as sns\\nimport numpy as np\\nimport pandas as pd'); }\n",
       "    "
      ],
      "text/plain": [
       "<IPython.core.display.Javascript object>"
      ]
     },
     "metadata": {},
     "output_type": "display_data"
    },
    {
     "name": "stdout",
     "output_type": "stream",
     "text": [
      "Mean absolute Error:  0.07761587061338335\n"
     ]
    },
    {
     "data": {
      "application/javascript": [
       "\n",
       "        if (window._pyforest_update_imports_cell) { window._pyforest_update_imports_cell('import matplotlib.pyplot as plt\\nimport seaborn as sns\\nimport numpy as np\\nimport pandas as pd'); }\n",
       "    "
      ],
      "text/plain": [
       "<IPython.core.display.Javascript object>"
      ]
     },
     "metadata": {},
     "output_type": "display_data"
    },
    {
     "name": "stdout",
     "output_type": "stream",
     "text": [
      "Root mean square error:  0.0002862663766941819\n",
      "R2 square:  0.7208867986919547\n"
     ]
    }
   ],
   "source": [
    "print(\"\\nTesting:\")\n",
    "print(\"Mean absolute Error: \" ,np.mean(np.absolute(y_p-y_test)))\n",
    "print(\"Root mean square error: \" ,np.mean(y_p-y_test)**2)\n",
    "print(\"R2 square: \" ,r2_score(y_p,y_test))"
   ]
  },
  {
   "cell_type": "code",
   "execution_count": 876,
   "id": "b9d740c3",
   "metadata": {},
   "outputs": [
    {
     "data": {
      "application/javascript": [
       "\n",
       "        if (window._pyforest_update_imports_cell) { window._pyforest_update_imports_cell('import matplotlib.pyplot as plt\\nimport seaborn as sns\\nimport numpy as np\\nimport pandas as pd'); }\n",
       "    "
      ],
      "text/plain": [
       "<IPython.core.display.Javascript object>"
      ]
     },
     "metadata": {},
     "output_type": "display_data"
    },
    {
     "data": {
      "application/javascript": [
       "\n",
       "        if (window._pyforest_update_imports_cell) { window._pyforest_update_imports_cell('import matplotlib.pyplot as plt\\nimport seaborn as sns\\nimport numpy as np\\nimport pandas as pd'); }\n",
       "    "
      ],
      "text/plain": [
       "<IPython.core.display.Javascript object>"
      ]
     },
     "metadata": {},
     "output_type": "display_data"
    },
    {
     "data": {
      "application/javascript": [
       "\n",
       "        if (window._pyforest_update_imports_cell) { window._pyforest_update_imports_cell('import matplotlib.pyplot as plt\\nimport seaborn as sns\\nimport numpy as np\\nimport pandas as pd'); }\n",
       "    "
      ],
      "text/plain": [
       "<IPython.core.display.Javascript object>"
      ]
     },
     "metadata": {},
     "output_type": "display_data"
    },
    {
     "data": {
      "application/javascript": [
       "\n",
       "        if (window._pyforest_update_imports_cell) { window._pyforest_update_imports_cell('import matplotlib.pyplot as plt\\nimport seaborn as sns\\nimport numpy as np\\nimport pandas as pd'); }\n",
       "    "
      ],
      "text/plain": [
       "<IPython.core.display.Javascript object>"
      ]
     },
     "metadata": {},
     "output_type": "display_data"
    },
    {
     "data": {
      "application/javascript": [
       "\n",
       "        if (window._pyforest_update_imports_cell) { window._pyforest_update_imports_cell('import matplotlib.pyplot as plt\\nimport seaborn as sns\\nimport numpy as np\\nimport pandas as pd'); }\n",
       "    "
      ],
      "text/plain": [
       "<IPython.core.display.Javascript object>"
      ]
     },
     "metadata": {},
     "output_type": "display_data"
    },
    {
     "data": {
      "image/png": "[encoded data removed]",
      "text/plain": [
       "<Figure size 432x288 with 1 Axes>"
      ]
     },
     "metadata": {
      "needs_background": "light"
     },
     "output_type": "display_data"
    }
   ],
   "source": [
    "fig, ax = plt.subplots()\n",
    "ax.scatter(y_p1,y_train,label='train',color='#e8e7d8',edgecolors='#494623')\n",
    "ax.scatter(y_p,y_test,label='test',color='#c3892b',marker =\"^\",edgecolors='#494623')\n",
    "plt.xlabel('Actual Value')\n",
    "plt.ylabel('Predicted value')\n",
    "ax.legend()\n",
    "lims = [\n",
    "    np.min([ax.get_xlim(), ax.get_ylim()]),  # min of both axes\n",
    "    np.max([ax.get_xlim(), ax.get_ylim()]),  # max of both axes\n",
    "]\n",
    "\n",
    "# now plot both limits against eachother\n",
    "ax.plot(lims, lims, '--')\n",
    "ax.set_aspect('equal')\n",
    "ax.set_xlim(lims)\n",
    "ax.set_ylim(lims)\n",
    "fig.savefig('/Users/Rishi Chaitanya/Desktop/NIRF_OUTLIER_5844.png', dpi=1200)"
   ]
  },
  {
   "cell_type": "code",
   "execution_count": 877,
   "id": "1d5c619c",
   "metadata": {},
   "outputs": [
    {
     "data": {
      "text/plain": [
       "array([1.65484437, 1.52685618, 1.27375123, 1.3166092 ])"
      ]
     },
     "execution_count": 877,
     "metadata": {},
     "output_type": "execute_result"
    }
   ],
   "source": [
    "best_rand.predict(d)"
   ]
  },
  {
   "cell_type": "code",
   "execution_count": 785,
   "id": "e0570100",
   "metadata": {},
   "outputs": [
    {
     "name": "stdout",
     "output_type": "stream",
     "text": [
      "49.36176848438116\n",
      "35.674446874716025\n",
      "20.38764258087629\n",
      "23.753133695475125\n"
     ]
    }
   ],
   "source": [
    "l=[1.67460185, 1.5261382 , 1.26239514, 1.33572128]\n",
    "for i in l:\n",
    "    x=(10**(i))+2.09\n",
    "    print(x)"
   ]
  },
  {
   "cell_type": "code",
   "execution_count": 786,
   "id": "b5c24d9d",
   "metadata": {},
   "outputs": [],
   "source": [
    "with open(\"NIRF_RPC.pkl\",\"wb\") as f:\n",
    "    pickle.dump(best_rand,f)"
   ]
  },
  {
   "cell_type": "code",
   "execution_count": null,
   "id": "7788bb2c",
   "metadata": {},
   "outputs": [],
   "source": []
  },
  {
   "cell_type": "code",
   "execution_count": null,
   "id": "a5156b5c",
   "metadata": {},
   "outputs": [],
   "source": []
  },
  {
   "cell_type": "code",
   "execution_count": null,
   "id": "b1262be7",
   "metadata": {},
   "outputs": [],
   "source": []
  },
  {
   "cell_type": "code",
   "execution_count": null,
   "id": "dafb0da7",
   "metadata": {},
   "outputs": [],
   "source": []
  }
 ],
 "metadata": {
  "kernelspec": {
   "display_name": "Python 3 (ipykernel)",
   "language": "python",
   "name": "python3"
  },
  "language_info": {
   "codemirror_mode": {
    "name": "ipython",
    "version": 3
   },
   "file_extension": ".py",
   "mimetype": "text/x-python",
   "name": "python",
   "nbconvert_exporter": "python",
   "pygments_lexer": "ipython3",
   "version": "3.9.7"
  }
 },
 "nbformat": 4,
 "nbformat_minor": 5
}
