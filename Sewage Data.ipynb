{
 "cells": [
  {
   "cell_type": "code",
   "execution_count": 1,
   "id": "f1afdbd6",
   "metadata": {},
   "outputs": [
    {
     "data": {
      "application/javascript": [
       "\n",
       "        if (window._pyforest_update_imports_cell) { window._pyforest_update_imports_cell('import pandas as pd'); }\n",
       "    "
      ],
      "text/plain": [
       "<IPython.core.display.Javascript object>"
      ]
     },
     "metadata": {},
     "output_type": "display_data"
    },
    {
     "data": {
      "text/html": [
       "<div>\n",
       "<style scoped>\n",
       "    .dataframe tbody tr th:only-of-type {\n",
       "        vertical-align: middle;\n",
       "    }\n",
       "\n",
       "    .dataframe tbody tr th {\n",
       "        vertical-align: top;\n",
       "    }\n",
       "\n",
       "    .dataframe thead th {\n",
       "        text-align: right;\n",
       "    }\n",
       "</style>\n",
       "<table border=\"1\" class=\"dataframe\">\n",
       "  <thead>\n",
       "    <tr style=\"text-align: right;\">\n",
       "      <th></th>\n",
       "      <th>FEED WATER HARDNESS\\nPPM</th>\n",
       "      <th>FEED WATER \\nT D S\\nPPM</th>\n",
       "      <th>FEED WATER \\nPH</th>\n",
       "      <th>FEED WATER \\nTURBIDITY\\n(&lt;10)\\n</th>\n",
       "      <th>PRESSURE SAND FILTER INLET PRESSURE\\nKg/cm2</th>\n",
       "      <th>ACTIVATED CARBON FILTER INLET PRESSURE\\nKg/cm2</th>\n",
       "      <th>WATER SOFTENER INTLET PRESSURE\\nKg/cm2</th>\n",
       "      <th>WATER SOFTENER OUTLET PRESSURE\\nKg/cm2</th>\n",
       "      <th>PRESSURE DIFFERENCE</th>\n",
       "      <th>SOFTENER OUTLET WATER HARDNESS\\nPPM</th>\n",
       "      <th>SOFTENER OUTLET WATER \\nT D S\\nPPM</th>\n",
       "      <th>SOFTENER OUTLET  WATER \\nPH</th>\n",
       "      <th>SOFTENER OUTLET WATER \\nTURBIDITY\\n(&lt;10)\\n</th>\n",
       "      <th>SOFTENER INLET PRESSURE\\n(Min. 2 Kg/Cm2)</th>\n",
       "      <th>NaCL QUANTITY</th>\n",
       "      <th>WATER QUANTITY</th>\n",
       "      <th>HARDNESS BEFORE RENERATION</th>\n",
       "      <th>HARDNESS AFTER REGENERATION</th>\n",
       "      <th>POTABILITY</th>\n",
       "    </tr>\n",
       "  </thead>\n",
       "  <tbody>\n",
       "    <tr>\n",
       "      <th>0</th>\n",
       "      <td>82</td>\n",
       "      <td>235</td>\n",
       "      <td>7.7</td>\n",
       "      <td>-</td>\n",
       "      <td>2.8</td>\n",
       "      <td>1.8</td>\n",
       "      <td>1.3</td>\n",
       "      <td>0.5</td>\n",
       "      <td>1.5</td>\n",
       "      <td>44</td>\n",
       "      <td>230</td>\n",
       "      <td>7.0</td>\n",
       "      <td>-</td>\n",
       "      <td>2.6</td>\n",
       "      <td>150</td>\n",
       "      <td>-</td>\n",
       "      <td>82</td>\n",
       "      <td>44</td>\n",
       "      <td>0.0</td>\n",
       "    </tr>\n",
       "    <tr>\n",
       "      <th>1</th>\n",
       "      <td>85</td>\n",
       "      <td>186</td>\n",
       "      <td>7.5</td>\n",
       "      <td>-</td>\n",
       "      <td>2.8</td>\n",
       "      <td>1.6</td>\n",
       "      <td>1.4</td>\n",
       "      <td>0.6</td>\n",
       "      <td>1.4</td>\n",
       "      <td>44</td>\n",
       "      <td>183</td>\n",
       "      <td>7.2</td>\n",
       "      <td>-</td>\n",
       "      <td>2.8</td>\n",
       "      <td>150</td>\n",
       "      <td>-</td>\n",
       "      <td>85</td>\n",
       "      <td>44</td>\n",
       "      <td>0.0</td>\n",
       "    </tr>\n",
       "    <tr>\n",
       "      <th>2</th>\n",
       "      <td>87</td>\n",
       "      <td>174</td>\n",
       "      <td>7.4</td>\n",
       "      <td>-</td>\n",
       "      <td>2.9</td>\n",
       "      <td>1.7</td>\n",
       "      <td>1.6</td>\n",
       "      <td>0.4</td>\n",
       "      <td>1.3</td>\n",
       "      <td>48</td>\n",
       "      <td>163</td>\n",
       "      <td>7.0</td>\n",
       "      <td>-</td>\n",
       "      <td>2.5</td>\n",
       "      <td>150</td>\n",
       "      <td>-</td>\n",
       "      <td>87</td>\n",
       "      <td>48</td>\n",
       "      <td>0.0</td>\n",
       "    </tr>\n",
       "    <tr>\n",
       "      <th>3</th>\n",
       "      <td>80</td>\n",
       "      <td>225</td>\n",
       "      <td>7.3</td>\n",
       "      <td>-</td>\n",
       "      <td>2.9</td>\n",
       "      <td>1.7</td>\n",
       "      <td>1.6</td>\n",
       "      <td>0.5</td>\n",
       "      <td>1.3</td>\n",
       "      <td>50</td>\n",
       "      <td>220</td>\n",
       "      <td>7.0</td>\n",
       "      <td>-</td>\n",
       "      <td>2.4</td>\n",
       "      <td>150</td>\n",
       "      <td>-</td>\n",
       "      <td>88</td>\n",
       "      <td>45</td>\n",
       "      <td>0.0</td>\n",
       "    </tr>\n",
       "    <tr>\n",
       "      <th>4</th>\n",
       "      <td>82</td>\n",
       "      <td>276</td>\n",
       "      <td>7.7</td>\n",
       "      <td>-</td>\n",
       "      <td>2.8</td>\n",
       "      <td>1.8</td>\n",
       "      <td>1.5</td>\n",
       "      <td>0.5</td>\n",
       "      <td>1.3</td>\n",
       "      <td>42</td>\n",
       "      <td>271</td>\n",
       "      <td>7.0</td>\n",
       "      <td>-</td>\n",
       "      <td>2.5</td>\n",
       "      <td>150</td>\n",
       "      <td>-</td>\n",
       "      <td>85</td>\n",
       "      <td>42</td>\n",
       "      <td>0.0</td>\n",
       "    </tr>\n",
       "  </tbody>\n",
       "</table>\n",
       "</div>"
      ],
      "text/plain": [
       "  FEED WATER HARDNESS\\nPPM FEED WATER \\nT D S\\nPPM FEED WATER \\nPH  \\\n",
       "0                       82                     235             7.7   \n",
       "1                       85                     186             7.5   \n",
       "2                       87                     174             7.4   \n",
       "3                       80                     225             7.3   \n",
       "4                       82                     276             7.7   \n",
       "\n",
       "  FEED WATER \\nTURBIDITY\\n(<10)\\n  \\\n",
       "0                               -   \n",
       "1                               -   \n",
       "2                               -   \n",
       "3                               -   \n",
       "4                               -   \n",
       "\n",
       "   PRESSURE SAND FILTER INLET PRESSURE\\nKg/cm2  \\\n",
       "0                                          2.8   \n",
       "1                                          2.8   \n",
       "2                                          2.9   \n",
       "3                                          2.9   \n",
       "4                                          2.8   \n",
       "\n",
       "   ACTIVATED CARBON FILTER INLET PRESSURE\\nKg/cm2  \\\n",
       "0                                             1.8   \n",
       "1                                             1.6   \n",
       "2                                             1.7   \n",
       "3                                             1.7   \n",
       "4                                             1.8   \n",
       "\n",
       "   WATER SOFTENER INTLET PRESSURE\\nKg/cm2  \\\n",
       "0                                     1.3   \n",
       "1                                     1.4   \n",
       "2                                     1.6   \n",
       "3                                     1.6   \n",
       "4                                     1.5   \n",
       "\n",
       "   WATER SOFTENER OUTLET PRESSURE\\nKg/cm2  PRESSURE DIFFERENCE  \\\n",
       "0                                     0.5                  1.5   \n",
       "1                                     0.6                  1.4   \n",
       "2                                     0.4                  1.3   \n",
       "3                                     0.5                  1.3   \n",
       "4                                     0.5                  1.3   \n",
       "\n",
       "   SOFTENER OUTLET WATER HARDNESS\\nPPM  SOFTENER OUTLET WATER \\nT D S\\nPPM  \\\n",
       "0                                   44                                 230   \n",
       "1                                   44                                 183   \n",
       "2                                   48                                 163   \n",
       "3                                   50                                 220   \n",
       "4                                   42                                 271   \n",
       "\n",
       "   SOFTENER OUTLET  WATER \\nPH SOFTENER OUTLET WATER \\nTURBIDITY\\n(<10)\\n  \\\n",
       "0                          7.0                                          -   \n",
       "1                          7.2                                          -   \n",
       "2                          7.0                                          -   \n",
       "3                          7.0                                          -   \n",
       "4                          7.0                                          -   \n",
       "\n",
       "   SOFTENER INLET PRESSURE\\n(Min. 2 Kg/Cm2) NaCL QUANTITY WATER QUANTITY  \\\n",
       "0                                       2.6           150              -   \n",
       "1                                       2.8           150              -   \n",
       "2                                       2.5           150              -   \n",
       "3                                       2.4           150              -   \n",
       "4                                       2.5           150              -   \n",
       "\n",
       "  HARDNESS BEFORE RENERATION  HARDNESS AFTER REGENERATION  POTABILITY  \n",
       "0                         82                           44         0.0  \n",
       "1                         85                           44         0.0  \n",
       "2                         87                           48         0.0  \n",
       "3                         88                           45         0.0  \n",
       "4                         85                           42         0.0  "
      ]
     },
     "execution_count": 1,
     "metadata": {},
     "output_type": "execute_result"
    }
   ],
   "source": [
    "df=pd.read_excel(\"R:\\\\Sewage.xlsx\")\n",
    "df.head()"
   ]
  },
  {
   "cell_type": "code",
   "execution_count": 3,
   "id": "d79cfe48",
   "metadata": {},
   "outputs": [
    {
     "data": {
      "text/plain": [
       "Index(['FEED WATER HARDNESS\\nPPM', 'FEED WATER \\nT D S\\nPPM',\n",
       "       'FEED WATER \\nPH', 'FEED WATER \\nTURBIDITY\\n(<10)\\n',\n",
       "       'PRESSURE SAND FILTER INLET PRESSURE\\nKg/cm2',\n",
       "       'ACTIVATED CARBON FILTER INLET PRESSURE\\nKg/cm2',\n",
       "       'WATER SOFTENER INTLET PRESSURE\\nKg/cm2',\n",
       "       'WATER SOFTENER OUTLET PRESSURE\\nKg/cm2', 'PRESSURE DIFFERENCE',\n",
       "       'SOFTENER OUTLET WATER HARDNESS\\nPPM',\n",
       "       'SOFTENER OUTLET WATER \\nT D S\\nPPM', 'SOFTENER OUTLET  WATER \\nPH',\n",
       "       'SOFTENER OUTLET WATER \\nTURBIDITY\\n(<10)\\n',\n",
       "       'SOFTENER INLET PRESSURE\\n(Min. 2 Kg/Cm2)', 'NaCL QUANTITY',\n",
       "       'WATER QUANTITY', 'HARDNESS BEFORE RENERATION',\n",
       "       'HARDNESS AFTER REGENERATION', 'POTABILITY'],\n",
       "      dtype='object')"
      ]
     },
     "execution_count": 3,
     "metadata": {},
     "output_type": "execute_result"
    }
   ],
   "source": [
    "df.columns"
   ]
  },
  {
   "cell_type": "code",
   "execution_count": 4,
   "id": "9e1171c1",
   "metadata": {},
   "outputs": [
    {
     "data": {
      "text/html": [
       "<div>\n",
       "<style scoped>\n",
       "    .dataframe tbody tr th:only-of-type {\n",
       "        vertical-align: middle;\n",
       "    }\n",
       "\n",
       "    .dataframe tbody tr th {\n",
       "        vertical-align: top;\n",
       "    }\n",
       "\n",
       "    .dataframe thead th {\n",
       "        text-align: right;\n",
       "    }\n",
       "</style>\n",
       "<table border=\"1\" class=\"dataframe\">\n",
       "  <thead>\n",
       "    <tr style=\"text-align: right;\">\n",
       "      <th></th>\n",
       "      <th>FEED WATER HARDNESS\\nPPM</th>\n",
       "      <th>FEED WATER \\nT D S\\nPPM</th>\n",
       "      <th>FEED WATER \\nPH</th>\n",
       "      <th>FEED WATER \\nTURBIDITY\\n(&lt;10)\\n</th>\n",
       "      <th>PRESSURE SAND FILTER INLET PRESSURE\\nKg/cm2</th>\n",
       "      <th>ACTIVATED CARBON FILTER INLET PRESSURE\\nKg/cm2</th>\n",
       "      <th>WATER SOFTENER INTLET PRESSURE\\nKg/cm2</th>\n",
       "      <th>WATER SOFTENER OUTLET PRESSURE\\nKg/cm2</th>\n",
       "      <th>PRESSURE DIFFERENCE</th>\n",
       "      <th>SOFTENER OUTLET WATER HARDNESS\\nPPM</th>\n",
       "      <th>SOFTENER OUTLET WATER \\nT D S\\nPPM</th>\n",
       "      <th>SOFTENER OUTLET  WATER \\nPH</th>\n",
       "      <th>SOFTENER OUTLET WATER \\nTURBIDITY\\n(&lt;10)\\n</th>\n",
       "      <th>SOFTENER INLET PRESSURE\\n(Min. 2 Kg/Cm2)</th>\n",
       "      <th>NaCL QUANTITY</th>\n",
       "      <th>WATER QUANTITY</th>\n",
       "      <th>HARDNESS BEFORE RENERATION</th>\n",
       "      <th>HARDNESS AFTER REGENERATION</th>\n",
       "      <th>POTABILITY</th>\n",
       "    </tr>\n",
       "  </thead>\n",
       "  <tbody>\n",
       "    <tr>\n",
       "      <th>0</th>\n",
       "      <td>82</td>\n",
       "      <td>235</td>\n",
       "      <td>7.7</td>\n",
       "      <td>-</td>\n",
       "      <td>2.8</td>\n",
       "      <td>1.8</td>\n",
       "      <td>1.3</td>\n",
       "      <td>0.5</td>\n",
       "      <td>1.5</td>\n",
       "      <td>44</td>\n",
       "      <td>230</td>\n",
       "      <td>7.0</td>\n",
       "      <td>-</td>\n",
       "      <td>2.6</td>\n",
       "      <td>150</td>\n",
       "      <td>-</td>\n",
       "      <td>82</td>\n",
       "      <td>44</td>\n",
       "      <td>0.0</td>\n",
       "    </tr>\n",
       "    <tr>\n",
       "      <th>1</th>\n",
       "      <td>85</td>\n",
       "      <td>186</td>\n",
       "      <td>7.5</td>\n",
       "      <td>-</td>\n",
       "      <td>2.8</td>\n",
       "      <td>1.6</td>\n",
       "      <td>1.4</td>\n",
       "      <td>0.6</td>\n",
       "      <td>1.4</td>\n",
       "      <td>44</td>\n",
       "      <td>183</td>\n",
       "      <td>7.2</td>\n",
       "      <td>-</td>\n",
       "      <td>2.8</td>\n",
       "      <td>150</td>\n",
       "      <td>-</td>\n",
       "      <td>85</td>\n",
       "      <td>44</td>\n",
       "      <td>0.0</td>\n",
       "    </tr>\n",
       "    <tr>\n",
       "      <th>2</th>\n",
       "      <td>87</td>\n",
       "      <td>174</td>\n",
       "      <td>7.4</td>\n",
       "      <td>-</td>\n",
       "      <td>2.9</td>\n",
       "      <td>1.7</td>\n",
       "      <td>1.6</td>\n",
       "      <td>0.4</td>\n",
       "      <td>1.3</td>\n",
       "      <td>48</td>\n",
       "      <td>163</td>\n",
       "      <td>7.0</td>\n",
       "      <td>-</td>\n",
       "      <td>2.5</td>\n",
       "      <td>150</td>\n",
       "      <td>-</td>\n",
       "      <td>87</td>\n",
       "      <td>48</td>\n",
       "      <td>0.0</td>\n",
       "    </tr>\n",
       "    <tr>\n",
       "      <th>3</th>\n",
       "      <td>80</td>\n",
       "      <td>225</td>\n",
       "      <td>7.3</td>\n",
       "      <td>-</td>\n",
       "      <td>2.9</td>\n",
       "      <td>1.7</td>\n",
       "      <td>1.6</td>\n",
       "      <td>0.5</td>\n",
       "      <td>1.3</td>\n",
       "      <td>50</td>\n",
       "      <td>220</td>\n",
       "      <td>7.0</td>\n",
       "      <td>-</td>\n",
       "      <td>2.4</td>\n",
       "      <td>150</td>\n",
       "      <td>-</td>\n",
       "      <td>88</td>\n",
       "      <td>45</td>\n",
       "      <td>0.0</td>\n",
       "    </tr>\n",
       "    <tr>\n",
       "      <th>4</th>\n",
       "      <td>82</td>\n",
       "      <td>276</td>\n",
       "      <td>7.7</td>\n",
       "      <td>-</td>\n",
       "      <td>2.8</td>\n",
       "      <td>1.8</td>\n",
       "      <td>1.5</td>\n",
       "      <td>0.5</td>\n",
       "      <td>1.3</td>\n",
       "      <td>42</td>\n",
       "      <td>271</td>\n",
       "      <td>7.0</td>\n",
       "      <td>-</td>\n",
       "      <td>2.5</td>\n",
       "      <td>150</td>\n",
       "      <td>-</td>\n",
       "      <td>85</td>\n",
       "      <td>42</td>\n",
       "      <td>0.0</td>\n",
       "    </tr>\n",
       "    <tr>\n",
       "      <th>...</th>\n",
       "      <td>...</td>\n",
       "      <td>...</td>\n",
       "      <td>...</td>\n",
       "      <td>...</td>\n",
       "      <td>...</td>\n",
       "      <td>...</td>\n",
       "      <td>...</td>\n",
       "      <td>...</td>\n",
       "      <td>...</td>\n",
       "      <td>...</td>\n",
       "      <td>...</td>\n",
       "      <td>...</td>\n",
       "      <td>...</td>\n",
       "      <td>...</td>\n",
       "      <td>...</td>\n",
       "      <td>...</td>\n",
       "      <td>...</td>\n",
       "      <td>...</td>\n",
       "      <td>...</td>\n",
       "    </tr>\n",
       "    <tr>\n",
       "      <th>618</th>\n",
       "      <td>--</td>\n",
       "      <td>410</td>\n",
       "      <td>9</td>\n",
       "      <td>14.6</td>\n",
       "      <td>2.0</td>\n",
       "      <td>1.8</td>\n",
       "      <td>1.7</td>\n",
       "      <td>0.7</td>\n",
       "      <td>0.3</td>\n",
       "      <td>52</td>\n",
       "      <td>296</td>\n",
       "      <td>7.0</td>\n",
       "      <td>7.5</td>\n",
       "      <td>1.8</td>\n",
       "      <td>160</td>\n",
       "      <td>15</td>\n",
       "      <td>-</td>\n",
       "      <td>18</td>\n",
       "      <td>0.0</td>\n",
       "    </tr>\n",
       "    <tr>\n",
       "      <th>619</th>\n",
       "      <td>-</td>\n",
       "      <td>510</td>\n",
       "      <td>8</td>\n",
       "      <td>18.1</td>\n",
       "      <td>2.1</td>\n",
       "      <td>1.9</td>\n",
       "      <td>1.8</td>\n",
       "      <td>0.7</td>\n",
       "      <td>0.3</td>\n",
       "      <td>62</td>\n",
       "      <td>310</td>\n",
       "      <td>7.0</td>\n",
       "      <td>-0.4</td>\n",
       "      <td>1.7</td>\n",
       "      <td>160</td>\n",
       "      <td>15</td>\n",
       "      <td>-</td>\n",
       "      <td>64</td>\n",
       "      <td>1.0</td>\n",
       "    </tr>\n",
       "    <tr>\n",
       "      <th>620</th>\n",
       "      <td>--</td>\n",
       "      <td>490</td>\n",
       "      <td>7.5</td>\n",
       "      <td>18</td>\n",
       "      <td>2.0</td>\n",
       "      <td>1.8</td>\n",
       "      <td>1.7</td>\n",
       "      <td>0.7</td>\n",
       "      <td>0.3</td>\n",
       "      <td>58</td>\n",
       "      <td>290</td>\n",
       "      <td>7.5</td>\n",
       "      <td>-1.1</td>\n",
       "      <td>1.8</td>\n",
       "      <td>160</td>\n",
       "      <td>14</td>\n",
       "      <td>-</td>\n",
       "      <td>50</td>\n",
       "      <td>0.0</td>\n",
       "    </tr>\n",
       "    <tr>\n",
       "      <th>621</th>\n",
       "      <td>-</td>\n",
       "      <td>460</td>\n",
       "      <td>7.5</td>\n",
       "      <td>16.7</td>\n",
       "      <td>2.1</td>\n",
       "      <td>1.9</td>\n",
       "      <td>1.8</td>\n",
       "      <td>0.7</td>\n",
       "      <td>0.3</td>\n",
       "      <td>64</td>\n",
       "      <td>460</td>\n",
       "      <td>7.0</td>\n",
       "      <td>10.5</td>\n",
       "      <td>1.7</td>\n",
       "      <td>160</td>\n",
       "      <td>15</td>\n",
       "      <td>-</td>\n",
       "      <td>30</td>\n",
       "      <td>0.0</td>\n",
       "    </tr>\n",
       "    <tr>\n",
       "      <th>622</th>\n",
       "      <td>-</td>\n",
       "      <td>510</td>\n",
       "      <td>7</td>\n",
       "      <td>18.1</td>\n",
       "      <td>2.1</td>\n",
       "      <td>1.9</td>\n",
       "      <td>1.8</td>\n",
       "      <td>0.7</td>\n",
       "      <td>0.3</td>\n",
       "      <td>60</td>\n",
       "      <td>308</td>\n",
       "      <td>7.5</td>\n",
       "      <td>-1.3</td>\n",
       "      <td>1.7</td>\n",
       "      <td>NaN</td>\n",
       "      <td>14</td>\n",
       "      <td>-</td>\n",
       "      <td>40</td>\n",
       "      <td>0.0</td>\n",
       "    </tr>\n",
       "  </tbody>\n",
       "</table>\n",
       "<p>623 rows × 19 columns</p>\n",
       "</div>"
      ],
      "text/plain": [
       "    FEED WATER HARDNESS\\nPPM FEED WATER \\nT D S\\nPPM FEED WATER \\nPH  \\\n",
       "0                         82                     235             7.7   \n",
       "1                         85                     186             7.5   \n",
       "2                         87                     174             7.4   \n",
       "3                         80                     225             7.3   \n",
       "4                         82                     276             7.7   \n",
       "..                       ...                     ...             ...   \n",
       "618                       --                     410               9   \n",
       "619                        -                     510               8   \n",
       "620                       --                     490             7.5   \n",
       "621                        -                     460             7.5   \n",
       "622                        -                     510               7   \n",
       "\n",
       "    FEED WATER \\nTURBIDITY\\n(<10)\\n  \\\n",
       "0                                 -   \n",
       "1                                 -   \n",
       "2                                 -   \n",
       "3                                 -   \n",
       "4                                 -   \n",
       "..                              ...   \n",
       "618                            14.6   \n",
       "619                            18.1   \n",
       "620                              18   \n",
       "621                            16.7   \n",
       "622                            18.1   \n",
       "\n",
       "     PRESSURE SAND FILTER INLET PRESSURE\\nKg/cm2  \\\n",
       "0                                            2.8   \n",
       "1                                            2.8   \n",
       "2                                            2.9   \n",
       "3                                            2.9   \n",
       "4                                            2.8   \n",
       "..                                           ...   \n",
       "618                                          2.0   \n",
       "619                                          2.1   \n",
       "620                                          2.0   \n",
       "621                                          2.1   \n",
       "622                                          2.1   \n",
       "\n",
       "     ACTIVATED CARBON FILTER INLET PRESSURE\\nKg/cm2  \\\n",
       "0                                               1.8   \n",
       "1                                               1.6   \n",
       "2                                               1.7   \n",
       "3                                               1.7   \n",
       "4                                               1.8   \n",
       "..                                              ...   \n",
       "618                                             1.8   \n",
       "619                                             1.9   \n",
       "620                                             1.8   \n",
       "621                                             1.9   \n",
       "622                                             1.9   \n",
       "\n",
       "     WATER SOFTENER INTLET PRESSURE\\nKg/cm2  \\\n",
       "0                                       1.3   \n",
       "1                                       1.4   \n",
       "2                                       1.6   \n",
       "3                                       1.6   \n",
       "4                                       1.5   \n",
       "..                                      ...   \n",
       "618                                     1.7   \n",
       "619                                     1.8   \n",
       "620                                     1.7   \n",
       "621                                     1.8   \n",
       "622                                     1.8   \n",
       "\n",
       "     WATER SOFTENER OUTLET PRESSURE\\nKg/cm2  PRESSURE DIFFERENCE  \\\n",
       "0                                       0.5                  1.5   \n",
       "1                                       0.6                  1.4   \n",
       "2                                       0.4                  1.3   \n",
       "3                                       0.5                  1.3   \n",
       "4                                       0.5                  1.3   \n",
       "..                                      ...                  ...   \n",
       "618                                     0.7                  0.3   \n",
       "619                                     0.7                  0.3   \n",
       "620                                     0.7                  0.3   \n",
       "621                                     0.7                  0.3   \n",
       "622                                     0.7                  0.3   \n",
       "\n",
       "     SOFTENER OUTLET WATER HARDNESS\\nPPM  SOFTENER OUTLET WATER \\nT D S\\nPPM  \\\n",
       "0                                     44                                 230   \n",
       "1                                     44                                 183   \n",
       "2                                     48                                 163   \n",
       "3                                     50                                 220   \n",
       "4                                     42                                 271   \n",
       "..                                   ...                                 ...   \n",
       "618                                   52                                 296   \n",
       "619                                   62                                 310   \n",
       "620                                   58                                 290   \n",
       "621                                   64                                 460   \n",
       "622                                   60                                 308   \n",
       "\n",
       "     SOFTENER OUTLET  WATER \\nPH SOFTENER OUTLET WATER \\nTURBIDITY\\n(<10)\\n  \\\n",
       "0                            7.0                                          -   \n",
       "1                            7.2                                          -   \n",
       "2                            7.0                                          -   \n",
       "3                            7.0                                          -   \n",
       "4                            7.0                                          -   \n",
       "..                           ...                                        ...   \n",
       "618                          7.0                                        7.5   \n",
       "619                          7.0                                       -0.4   \n",
       "620                          7.5                                       -1.1   \n",
       "621                          7.0                                       10.5   \n",
       "622                          7.5                                       -1.3   \n",
       "\n",
       "     SOFTENER INLET PRESSURE\\n(Min. 2 Kg/Cm2) NaCL QUANTITY WATER QUANTITY  \\\n",
       "0                                         2.6           150              -   \n",
       "1                                         2.8           150              -   \n",
       "2                                         2.5           150              -   \n",
       "3                                         2.4           150              -   \n",
       "4                                         2.5           150              -   \n",
       "..                                        ...           ...            ...   \n",
       "618                                       1.8           160             15   \n",
       "619                                       1.7           160             15   \n",
       "620                                       1.8           160             14   \n",
       "621                                       1.7           160             15   \n",
       "622                                       1.7           NaN             14   \n",
       "\n",
       "    HARDNESS BEFORE RENERATION  HARDNESS AFTER REGENERATION  POTABILITY  \n",
       "0                           82                           44         0.0  \n",
       "1                           85                           44         0.0  \n",
       "2                           87                           48         0.0  \n",
       "3                           88                           45         0.0  \n",
       "4                           85                           42         0.0  \n",
       "..                         ...                          ...         ...  \n",
       "618                          -                           18         0.0  \n",
       "619                          -                           64         1.0  \n",
       "620                          -                           50         0.0  \n",
       "621                          -                           30         0.0  \n",
       "622                          -                           40         0.0  \n",
       "\n",
       "[623 rows x 19 columns]"
      ]
     },
     "execution_count": 4,
     "metadata": {},
     "output_type": "execute_result"
    }
   ],
   "source": [
    "df"
   ]
  },
  {
   "cell_type": "code",
   "execution_count": 5,
   "id": "02921077",
   "metadata": {},
   "outputs": [
    {
     "data": {
      "text/plain": [
       "FEED WATER HARDNESS\\nPPM                          0\n",
       "FEED WATER \\nT D S\\nPPM                           0\n",
       "FEED WATER \\nPH                                   0\n",
       "FEED WATER \\nTURBIDITY\\n(<10)\\n                   0\n",
       "PRESSURE SAND FILTER INLET PRESSURE\\nKg/cm2       0\n",
       "ACTIVATED CARBON FILTER INLET PRESSURE\\nKg/cm2    0\n",
       "WATER SOFTENER INTLET PRESSURE\\nKg/cm2            0\n",
       "WATER SOFTENER OUTLET PRESSURE\\nKg/cm2            0\n",
       "PRESSURE DIFFERENCE                               0\n",
       "SOFTENER OUTLET WATER HARDNESS\\nPPM               0\n",
       "SOFTENER OUTLET WATER \\nT D S\\nPPM                0\n",
       "SOFTENER OUTLET  WATER \\nPH                       0\n",
       "SOFTENER OUTLET WATER \\nTURBIDITY\\n(<10)\\n        0\n",
       "SOFTENER INLET PRESSURE\\n(Min. 2 Kg/Cm2)          0\n",
       "NaCL QUANTITY                                     1\n",
       "WATER QUANTITY                                    0\n",
       "HARDNESS BEFORE RENERATION                        0\n",
       "HARDNESS AFTER REGENERATION                       0\n",
       "POTABILITY                                        1\n",
       "dtype: int64"
      ]
     },
     "execution_count": 5,
     "metadata": {},
     "output_type": "execute_result"
    }
   ],
   "source": [
    "df.isnull().sum()"
   ]
  },
  {
   "cell_type": "code",
   "execution_count": 6,
   "id": "9be00ef9",
   "metadata": {},
   "outputs": [
    {
     "name": "stdout",
     "output_type": "stream",
     "text": [
      "Yes- FEED WATER HARDNESS\n",
      "PPM Yes- FEED WATER \n",
      "T D S\n",
      "PPM Yes- FEED WATER \n",
      "PH Yes- FEED WATER \n",
      "TURBIDITY\n",
      "(<10)\n",
      " NO- PRESSURE SAND FILTER INLET PRESSURE\n",
      "Kg/cm2 NO- ACTIVATED CARBON FILTER INLET PRESSURE\n",
      "Kg/cm2 NO- WATER SOFTENER INTLET PRESSURE\n",
      "Kg/cm2 NO- WATER SOFTENER OUTLET PRESSURE\n",
      "Kg/cm2 NO- PRESSURE DIFFERENCE NO- SOFTENER OUTLET WATER HARDNESS\n",
      "PPM NO- SOFTENER OUTLET WATER \n",
      "T D S\n",
      "PPM NO- SOFTENER OUTLET  WATER \n",
      "PH Yes- SOFTENER OUTLET WATER \n",
      "TURBIDITY\n",
      "(<10)\n",
      " NO- SOFTENER INLET PRESSURE\n",
      "(Min. 2 Kg/Cm2) Yes- NaCL QUANTITY Yes- WATER QUANTITY Yes- HARDNESS BEFORE RENERATION NO- HARDNESS AFTER REGENERATION NO- POTABILITY "
     ]
    },
    {
     "name": "stderr",
     "output_type": "stream",
     "text": [
      "C:\\Users\\Rishi Chaitanya\\AppData\\Local\\Temp\\ipykernel_14168\\1074827917.py:15: FutureWarning: elementwise comparison failed; returning scalar instead, but in the future will perform elementwise comparison\n",
      "  if '-' in df[i].unique():\n"
     ]
    }
   ],
   "source": [
    "l=['FEED WATER HARDNESS\\nPPM', 'FEED WATER \\nT D S\\nPPM',\n",
    "       'FEED WATER \\nPH', 'FEED WATER \\nTURBIDITY\\n(<10)\\n',\n",
    "       'PRESSURE SAND FILTER INLET PRESSURE\\nKg/cm2',\n",
    "       'ACTIVATED CARBON FILTER INLET PRESSURE\\nKg/cm2',\n",
    "       'WATER SOFTENER INTLET PRESSURE\\nKg/cm2',\n",
    "       'WATER SOFTENER OUTLET PRESSURE\\nKg/cm2', 'PRESSURE DIFFERENCE',\n",
    "       'SOFTENER OUTLET WATER HARDNESS\\nPPM',\n",
    "       'SOFTENER OUTLET WATER \\nT D S\\nPPM', 'SOFTENER OUTLET  WATER \\nPH',\n",
    "       'SOFTENER OUTLET WATER \\nTURBIDITY\\n(<10)\\n',\n",
    "       'SOFTENER INLET PRESSURE\\n(Min. 2 Kg/Cm2)', 'NaCL QUANTITY',\n",
    "       'WATER QUANTITY', 'HARDNESS BEFORE RENERATION',\n",
    "       'HARDNESS AFTER REGENERATION', 'POTABILITY']\n",
    "r=[]\n",
    "for i in l:\n",
    "    if '-' in df[i].unique():\n",
    "        r.append(i)\n",
    "        print(\"Yes-\",i,end=' ')\n",
    "    else:\n",
    "        print(\"NO-\",i,end=' ')"
   ]
  },
  {
   "cell_type": "code",
   "execution_count": 7,
   "id": "3221ccb7",
   "metadata": {},
   "outputs": [
    {
     "data": {
      "text/plain": [
       "['FEED WATER HARDNESS\\nPPM',\n",
       " 'FEED WATER \\nT D S\\nPPM',\n",
       " 'FEED WATER \\nPH',\n",
       " 'FEED WATER \\nTURBIDITY\\n(<10)\\n',\n",
       " 'SOFTENER OUTLET WATER \\nTURBIDITY\\n(<10)\\n',\n",
       " 'NaCL QUANTITY',\n",
       " 'WATER QUANTITY',\n",
       " 'HARDNESS BEFORE RENERATION']"
      ]
     },
     "execution_count": 7,
     "metadata": {},
     "output_type": "execute_result"
    }
   ],
   "source": [
    "r"
   ]
  },
  {
   "cell_type": "code",
   "execution_count": 8,
   "id": "a385b2ce",
   "metadata": {},
   "outputs": [
    {
     "data": {
      "application/javascript": [
       "\n",
       "        if (window._pyforest_update_imports_cell) { window._pyforest_update_imports_cell('import pandas as pd\\nimport numpy as np'); }\n",
       "    "
      ],
      "text/plain": [
       "<IPython.core.display.Javascript object>"
      ]
     },
     "metadata": {},
     "output_type": "display_data"
    },
    {
     "data": {
      "application/javascript": [
       "\n",
       "        if (window._pyforest_update_imports_cell) { window._pyforest_update_imports_cell('import pandas as pd\\nimport numpy as np'); }\n",
       "    "
      ],
      "text/plain": [
       "<IPython.core.display.Javascript object>"
      ]
     },
     "metadata": {},
     "output_type": "display_data"
    },
    {
     "data": {
      "application/javascript": [
       "\n",
       "        if (window._pyforest_update_imports_cell) { window._pyforest_update_imports_cell('import pandas as pd\\nimport numpy as np'); }\n",
       "    "
      ],
      "text/plain": [
       "<IPython.core.display.Javascript object>"
      ]
     },
     "metadata": {},
     "output_type": "display_data"
    },
    {
     "data": {
      "application/javascript": [
       "\n",
       "        if (window._pyforest_update_imports_cell) { window._pyforest_update_imports_cell('import pandas as pd\\nimport numpy as np'); }\n",
       "    "
      ],
      "text/plain": [
       "<IPython.core.display.Javascript object>"
      ]
     },
     "metadata": {},
     "output_type": "display_data"
    },
    {
     "data": {
      "application/javascript": [
       "\n",
       "        if (window._pyforest_update_imports_cell) { window._pyforest_update_imports_cell('import pandas as pd\\nimport numpy as np'); }\n",
       "    "
      ],
      "text/plain": [
       "<IPython.core.display.Javascript object>"
      ]
     },
     "metadata": {},
     "output_type": "display_data"
    },
    {
     "data": {
      "application/javascript": [
       "\n",
       "        if (window._pyforest_update_imports_cell) { window._pyforest_update_imports_cell('import pandas as pd\\nimport numpy as np'); }\n",
       "    "
      ],
      "text/plain": [
       "<IPython.core.display.Javascript object>"
      ]
     },
     "metadata": {},
     "output_type": "display_data"
    },
    {
     "data": {
      "application/javascript": [
       "\n",
       "        if (window._pyforest_update_imports_cell) { window._pyforest_update_imports_cell('import pandas as pd\\nimport numpy as np'); }\n",
       "    "
      ],
      "text/plain": [
       "<IPython.core.display.Javascript object>"
      ]
     },
     "metadata": {},
     "output_type": "display_data"
    }
   ],
   "source": [
    "k=['FEED WATER \\nT D S\\nPPM',\n",
    " 'FEED WATER \\nPH',\n",
    " 'FEED WATER \\nTURBIDITY\\n(<10)\\n',\n",
    " 'SOFTENER OUTLET WATER \\nTURBIDITY\\n(<10)\\n',\n",
    " 'NaCL QUANTITY',\n",
    " 'WATER QUANTITY',\n",
    " 'HARDNESS BEFORE RENERATION']\n",
    "for i in k:\n",
    "    df[i]=df[i].replace('-',np.nan)"
   ]
  },
  {
   "cell_type": "code",
   "execution_count": 9,
   "id": "83406716",
   "metadata": {
    "scrolled": true
   },
   "outputs": [
    {
     "data": {
      "application/javascript": [
       "\n",
       "        if (window._pyforest_update_imports_cell) { window._pyforest_update_imports_cell('import pandas as pd\\nimport numpy as np'); }\n",
       "    "
      ],
      "text/plain": [
       "<IPython.core.display.Javascript object>"
      ]
     },
     "metadata": {},
     "output_type": "display_data"
    },
    {
     "data": {
      "application/javascript": [
       "\n",
       "        if (window._pyforest_update_imports_cell) { window._pyforest_update_imports_cell('import pandas as pd\\nimport numpy as np'); }\n",
       "    "
      ],
      "text/plain": [
       "<IPython.core.display.Javascript object>"
      ]
     },
     "metadata": {},
     "output_type": "display_data"
    },
    {
     "data": {
      "application/javascript": [
       "\n",
       "        if (window._pyforest_update_imports_cell) { window._pyforest_update_imports_cell('import pandas as pd\\nimport numpy as np'); }\n",
       "    "
      ],
      "text/plain": [
       "<IPython.core.display.Javascript object>"
      ]
     },
     "metadata": {},
     "output_type": "display_data"
    },
    {
     "data": {
      "application/javascript": [
       "\n",
       "        if (window._pyforest_update_imports_cell) { window._pyforest_update_imports_cell('import pandas as pd\\nimport numpy as np'); }\n",
       "    "
      ],
      "text/plain": [
       "<IPython.core.display.Javascript object>"
      ]
     },
     "metadata": {},
     "output_type": "display_data"
    },
    {
     "data": {
      "application/javascript": [
       "\n",
       "        if (window._pyforest_update_imports_cell) { window._pyforest_update_imports_cell('import pandas as pd\\nimport numpy as np'); }\n",
       "    "
      ],
      "text/plain": [
       "<IPython.core.display.Javascript object>"
      ]
     },
     "metadata": {},
     "output_type": "display_data"
    },
    {
     "data": {
      "application/javascript": [
       "\n",
       "        if (window._pyforest_update_imports_cell) { window._pyforest_update_imports_cell('import pandas as pd\\nimport numpy as np'); }\n",
       "    "
      ],
      "text/plain": [
       "<IPython.core.display.Javascript object>"
      ]
     },
     "metadata": {},
     "output_type": "display_data"
    },
    {
     "data": {
      "application/javascript": [
       "\n",
       "        if (window._pyforest_update_imports_cell) { window._pyforest_update_imports_cell('import pandas as pd\\nimport numpy as np'); }\n",
       "    "
      ],
      "text/plain": [
       "<IPython.core.display.Javascript object>"
      ]
     },
     "metadata": {},
     "output_type": "display_data"
    },
    {
     "data": {
      "application/javascript": [
       "\n",
       "        if (window._pyforest_update_imports_cell) { window._pyforest_update_imports_cell('import pandas as pd\\nimport numpy as np'); }\n",
       "    "
      ],
      "text/plain": [
       "<IPython.core.display.Javascript object>"
      ]
     },
     "metadata": {},
     "output_type": "display_data"
    },
    {
     "data": {
      "application/javascript": [
       "\n",
       "        if (window._pyforest_update_imports_cell) { window._pyforest_update_imports_cell('import pandas as pd\\nimport numpy as np'); }\n",
       "    "
      ],
      "text/plain": [
       "<IPython.core.display.Javascript object>"
      ]
     },
     "metadata": {},
     "output_type": "display_data"
    },
    {
     "data": {
      "application/javascript": [
       "\n",
       "        if (window._pyforest_update_imports_cell) { window._pyforest_update_imports_cell('import pandas as pd\\nimport numpy as np'); }\n",
       "    "
      ],
      "text/plain": [
       "<IPython.core.display.Javascript object>"
      ]
     },
     "metadata": {},
     "output_type": "display_data"
    },
    {
     "data": {
      "application/javascript": [
       "\n",
       "        if (window._pyforest_update_imports_cell) { window._pyforest_update_imports_cell('import pandas as pd\\nimport numpy as np'); }\n",
       "    "
      ],
      "text/plain": [
       "<IPython.core.display.Javascript object>"
      ]
     },
     "metadata": {},
     "output_type": "display_data"
    },
    {
     "data": {
      "application/javascript": [
       "\n",
       "        if (window._pyforest_update_imports_cell) { window._pyforest_update_imports_cell('import pandas as pd\\nimport numpy as np'); }\n",
       "    "
      ],
      "text/plain": [
       "<IPython.core.display.Javascript object>"
      ]
     },
     "metadata": {},
     "output_type": "display_data"
    },
    {
     "data": {
      "application/javascript": [
       "\n",
       "        if (window._pyforest_update_imports_cell) { window._pyforest_update_imports_cell('import pandas as pd\\nimport numpy as np'); }\n",
       "    "
      ],
      "text/plain": [
       "<IPython.core.display.Javascript object>"
      ]
     },
     "metadata": {},
     "output_type": "display_data"
    },
    {
     "data": {
      "application/javascript": [
       "\n",
       "        if (window._pyforest_update_imports_cell) { window._pyforest_update_imports_cell('import pandas as pd\\nimport numpy as np'); }\n",
       "    "
      ],
      "text/plain": [
       "<IPython.core.display.Javascript object>"
      ]
     },
     "metadata": {},
     "output_type": "display_data"
    },
    {
     "data": {
      "application/javascript": [
       "\n",
       "        if (window._pyforest_update_imports_cell) { window._pyforest_update_imports_cell('import pandas as pd\\nimport numpy as np'); }\n",
       "    "
      ],
      "text/plain": [
       "<IPython.core.display.Javascript object>"
      ]
     },
     "metadata": {},
     "output_type": "display_data"
    },
    {
     "data": {
      "application/javascript": [
       "\n",
       "        if (window._pyforest_update_imports_cell) { window._pyforest_update_imports_cell('import pandas as pd\\nimport numpy as np'); }\n",
       "    "
      ],
      "text/plain": [
       "<IPython.core.display.Javascript object>"
      ]
     },
     "metadata": {},
     "output_type": "display_data"
    },
    {
     "data": {
      "application/javascript": [
       "\n",
       "        if (window._pyforest_update_imports_cell) { window._pyforest_update_imports_cell('import pandas as pd\\nimport numpy as np'); }\n",
       "    "
      ],
      "text/plain": [
       "<IPython.core.display.Javascript object>"
      ]
     },
     "metadata": {},
     "output_type": "display_data"
    },
    {
     "data": {
      "application/javascript": [
       "\n",
       "        if (window._pyforest_update_imports_cell) { window._pyforest_update_imports_cell('import pandas as pd\\nimport numpy as np'); }\n",
       "    "
      ],
      "text/plain": [
       "<IPython.core.display.Javascript object>"
      ]
     },
     "metadata": {},
     "output_type": "display_data"
    },
    {
     "data": {
      "application/javascript": [
       "\n",
       "        if (window._pyforest_update_imports_cell) { window._pyforest_update_imports_cell('import pandas as pd\\nimport numpy as np'); }\n",
       "    "
      ],
      "text/plain": [
       "<IPython.core.display.Javascript object>"
      ]
     },
     "metadata": {},
     "output_type": "display_data"
    },
    {
     "data": {
      "application/javascript": [
       "\n",
       "        if (window._pyforest_update_imports_cell) { window._pyforest_update_imports_cell('import pandas as pd\\nimport numpy as np'); }\n",
       "    "
      ],
      "text/plain": [
       "<IPython.core.display.Javascript object>"
      ]
     },
     "metadata": {},
     "output_type": "display_data"
    },
    {
     "data": {
      "application/javascript": [
       "\n",
       "        if (window._pyforest_update_imports_cell) { window._pyforest_update_imports_cell('import pandas as pd\\nimport numpy as np'); }\n",
       "    "
      ],
      "text/plain": [
       "<IPython.core.display.Javascript object>"
      ]
     },
     "metadata": {},
     "output_type": "display_data"
    },
    {
     "data": {
      "application/javascript": [
       "\n",
       "        if (window._pyforest_update_imports_cell) { window._pyforest_update_imports_cell('import pandas as pd\\nimport numpy as np'); }\n",
       "    "
      ],
      "text/plain": [
       "<IPython.core.display.Javascript object>"
      ]
     },
     "metadata": {},
     "output_type": "display_data"
    },
    {
     "data": {
      "application/javascript": [
       "\n",
       "        if (window._pyforest_update_imports_cell) { window._pyforest_update_imports_cell('import pandas as pd\\nimport numpy as np'); }\n",
       "    "
      ],
      "text/plain": [
       "<IPython.core.display.Javascript object>"
      ]
     },
     "metadata": {},
     "output_type": "display_data"
    },
    {
     "data": {
      "application/javascript": [
       "\n",
       "        if (window._pyforest_update_imports_cell) { window._pyforest_update_imports_cell('import pandas as pd\\nimport numpy as np'); }\n",
       "    "
      ],
      "text/plain": [
       "<IPython.core.display.Javascript object>"
      ]
     },
     "metadata": {},
     "output_type": "display_data"
    },
    {
     "data": {
      "application/javascript": [
       "\n",
       "        if (window._pyforest_update_imports_cell) { window._pyforest_update_imports_cell('import pandas as pd\\nimport numpy as np'); }\n",
       "    "
      ],
      "text/plain": [
       "<IPython.core.display.Javascript object>"
      ]
     },
     "metadata": {},
     "output_type": "display_data"
    },
    {
     "data": {
      "application/javascript": [
       "\n",
       "        if (window._pyforest_update_imports_cell) { window._pyforest_update_imports_cell('import pandas as pd\\nimport numpy as np'); }\n",
       "    "
      ],
      "text/plain": [
       "<IPython.core.display.Javascript object>"
      ]
     },
     "metadata": {},
     "output_type": "display_data"
    },
    {
     "data": {
      "application/javascript": [
       "\n",
       "        if (window._pyforest_update_imports_cell) { window._pyforest_update_imports_cell('import pandas as pd\\nimport numpy as np'); }\n",
       "    "
      ],
      "text/plain": [
       "<IPython.core.display.Javascript object>"
      ]
     },
     "metadata": {},
     "output_type": "display_data"
    },
    {
     "data": {
      "application/javascript": [
       "\n",
       "        if (window._pyforest_update_imports_cell) { window._pyforest_update_imports_cell('import pandas as pd\\nimport numpy as np'); }\n",
       "    "
      ],
      "text/plain": [
       "<IPython.core.display.Javascript object>"
      ]
     },
     "metadata": {},
     "output_type": "display_data"
    },
    {
     "data": {
      "application/javascript": [
       "\n",
       "        if (window._pyforest_update_imports_cell) { window._pyforest_update_imports_cell('import pandas as pd\\nimport numpy as np'); }\n",
       "    "
      ],
      "text/plain": [
       "<IPython.core.display.Javascript object>"
      ]
     },
     "metadata": {},
     "output_type": "display_data"
    },
    {
     "data": {
      "application/javascript": [
       "\n",
       "        if (window._pyforest_update_imports_cell) { window._pyforest_update_imports_cell('import pandas as pd\\nimport numpy as np'); }\n",
       "    "
      ],
      "text/plain": [
       "<IPython.core.display.Javascript object>"
      ]
     },
     "metadata": {},
     "output_type": "display_data"
    },
    {
     "data": {
      "application/javascript": [
       "\n",
       "        if (window._pyforest_update_imports_cell) { window._pyforest_update_imports_cell('import pandas as pd\\nimport numpy as np'); }\n",
       "    "
      ],
      "text/plain": [
       "<IPython.core.display.Javascript object>"
      ]
     },
     "metadata": {},
     "output_type": "display_data"
    },
    {
     "data": {
      "application/javascript": [
       "\n",
       "        if (window._pyforest_update_imports_cell) { window._pyforest_update_imports_cell('import pandas as pd\\nimport numpy as np'); }\n",
       "    "
      ],
      "text/plain": [
       "<IPython.core.display.Javascript object>"
      ]
     },
     "metadata": {},
     "output_type": "display_data"
    },
    {
     "data": {
      "application/javascript": [
       "\n",
       "        if (window._pyforest_update_imports_cell) { window._pyforest_update_imports_cell('import pandas as pd\\nimport numpy as np'); }\n",
       "    "
      ],
      "text/plain": [
       "<IPython.core.display.Javascript object>"
      ]
     },
     "metadata": {},
     "output_type": "display_data"
    },
    {
     "data": {
      "application/javascript": [
       "\n",
       "        if (window._pyforest_update_imports_cell) { window._pyforest_update_imports_cell('import pandas as pd\\nimport numpy as np'); }\n",
       "    "
      ],
      "text/plain": [
       "<IPython.core.display.Javascript object>"
      ]
     },
     "metadata": {},
     "output_type": "display_data"
    },
    {
     "data": {
      "application/javascript": [
       "\n",
       "        if (window._pyforest_update_imports_cell) { window._pyforest_update_imports_cell('import pandas as pd\\nimport numpy as np'); }\n",
       "    "
      ],
      "text/plain": [
       "<IPython.core.display.Javascript object>"
      ]
     },
     "metadata": {},
     "output_type": "display_data"
    },
    {
     "data": {
      "application/javascript": [
       "\n",
       "        if (window._pyforest_update_imports_cell) { window._pyforest_update_imports_cell('import pandas as pd\\nimport numpy as np'); }\n",
       "    "
      ],
      "text/plain": [
       "<IPython.core.display.Javascript object>"
      ]
     },
     "metadata": {},
     "output_type": "display_data"
    },
    {
     "data": {
      "application/javascript": [
       "\n",
       "        if (window._pyforest_update_imports_cell) { window._pyforest_update_imports_cell('import pandas as pd\\nimport numpy as np'); }\n",
       "    "
      ],
      "text/plain": [
       "<IPython.core.display.Javascript object>"
      ]
     },
     "metadata": {},
     "output_type": "display_data"
    },
    {
     "data": {
      "application/javascript": [
       "\n",
       "        if (window._pyforest_update_imports_cell) { window._pyforest_update_imports_cell('import pandas as pd\\nimport numpy as np'); }\n",
       "    "
      ],
      "text/plain": [
       "<IPython.core.display.Javascript object>"
      ]
     },
     "metadata": {},
     "output_type": "display_data"
    },
    {
     "data": {
      "application/javascript": [
       "\n",
       "        if (window._pyforest_update_imports_cell) { window._pyforest_update_imports_cell('import pandas as pd\\nimport numpy as np'); }\n",
       "    "
      ],
      "text/plain": [
       "<IPython.core.display.Javascript object>"
      ]
     },
     "metadata": {},
     "output_type": "display_data"
    },
    {
     "data": {
      "application/javascript": [
       "\n",
       "        if (window._pyforest_update_imports_cell) { window._pyforest_update_imports_cell('import pandas as pd\\nimport numpy as np'); }\n",
       "    "
      ],
      "text/plain": [
       "<IPython.core.display.Javascript object>"
      ]
     },
     "metadata": {},
     "output_type": "display_data"
    },
    {
     "data": {
      "application/javascript": [
       "\n",
       "        if (window._pyforest_update_imports_cell) { window._pyforest_update_imports_cell('import pandas as pd\\nimport numpy as np'); }\n",
       "    "
      ],
      "text/plain": [
       "<IPython.core.display.Javascript object>"
      ]
     },
     "metadata": {},
     "output_type": "display_data"
    },
    {
     "data": {
      "application/javascript": [
       "\n",
       "        if (window._pyforest_update_imports_cell) { window._pyforest_update_imports_cell('import pandas as pd\\nimport numpy as np'); }\n",
       "    "
      ],
      "text/plain": [
       "<IPython.core.display.Javascript object>"
      ]
     },
     "metadata": {},
     "output_type": "display_data"
    },
    {
     "data": {
      "application/javascript": [
       "\n",
       "        if (window._pyforest_update_imports_cell) { window._pyforest_update_imports_cell('import pandas as pd\\nimport numpy as np'); }\n",
       "    "
      ],
      "text/plain": [
       "<IPython.core.display.Javascript object>"
      ]
     },
     "metadata": {},
     "output_type": "display_data"
    },
    {
     "data": {
      "application/javascript": [
       "\n",
       "        if (window._pyforest_update_imports_cell) { window._pyforest_update_imports_cell('import pandas as pd\\nimport numpy as np'); }\n",
       "    "
      ],
      "text/plain": [
       "<IPython.core.display.Javascript object>"
      ]
     },
     "metadata": {},
     "output_type": "display_data"
    },
    {
     "data": {
      "application/javascript": [
       "\n",
       "        if (window._pyforest_update_imports_cell) { window._pyforest_update_imports_cell('import pandas as pd\\nimport numpy as np'); }\n",
       "    "
      ],
      "text/plain": [
       "<IPython.core.display.Javascript object>"
      ]
     },
     "metadata": {},
     "output_type": "display_data"
    },
    {
     "data": {
      "application/javascript": [
       "\n",
       "        if (window._pyforest_update_imports_cell) { window._pyforest_update_imports_cell('import pandas as pd\\nimport numpy as np'); }\n",
       "    "
      ],
      "text/plain": [
       "<IPython.core.display.Javascript object>"
      ]
     },
     "metadata": {},
     "output_type": "display_data"
    },
    {
     "data": {
      "application/javascript": [
       "\n",
       "        if (window._pyforest_update_imports_cell) { window._pyforest_update_imports_cell('import pandas as pd\\nimport numpy as np'); }\n",
       "    "
      ],
      "text/plain": [
       "<IPython.core.display.Javascript object>"
      ]
     },
     "metadata": {},
     "output_type": "display_data"
    },
    {
     "data": {
      "application/javascript": [
       "\n",
       "        if (window._pyforest_update_imports_cell) { window._pyforest_update_imports_cell('import pandas as pd\\nimport numpy as np'); }\n",
       "    "
      ],
      "text/plain": [
       "<IPython.core.display.Javascript object>"
      ]
     },
     "metadata": {},
     "output_type": "display_data"
    },
    {
     "data": {
      "application/javascript": [
       "\n",
       "        if (window._pyforest_update_imports_cell) { window._pyforest_update_imports_cell('import pandas as pd\\nimport numpy as np'); }\n",
       "    "
      ],
      "text/plain": [
       "<IPython.core.display.Javascript object>"
      ]
     },
     "metadata": {},
     "output_type": "display_data"
    },
    {
     "data": {
      "application/javascript": [
       "\n",
       "        if (window._pyforest_update_imports_cell) { window._pyforest_update_imports_cell('import pandas as pd\\nimport numpy as np'); }\n",
       "    "
      ],
      "text/plain": [
       "<IPython.core.display.Javascript object>"
      ]
     },
     "metadata": {},
     "output_type": "display_data"
    },
    {
     "data": {
      "application/javascript": [
       "\n",
       "        if (window._pyforest_update_imports_cell) { window._pyforest_update_imports_cell('import pandas as pd\\nimport numpy as np'); }\n",
       "    "
      ],
      "text/plain": [
       "<IPython.core.display.Javascript object>"
      ]
     },
     "metadata": {},
     "output_type": "display_data"
    },
    {
     "data": {
      "application/javascript": [
       "\n",
       "        if (window._pyforest_update_imports_cell) { window._pyforest_update_imports_cell('import pandas as pd\\nimport numpy as np'); }\n",
       "    "
      ],
      "text/plain": [
       "<IPython.core.display.Javascript object>"
      ]
     },
     "metadata": {},
     "output_type": "display_data"
    },
    {
     "data": {
      "application/javascript": [
       "\n",
       "        if (window._pyforest_update_imports_cell) { window._pyforest_update_imports_cell('import pandas as pd\\nimport numpy as np'); }\n",
       "    "
      ],
      "text/plain": [
       "<IPython.core.display.Javascript object>"
      ]
     },
     "metadata": {},
     "output_type": "display_data"
    },
    {
     "data": {
      "application/javascript": [
       "\n",
       "        if (window._pyforest_update_imports_cell) { window._pyforest_update_imports_cell('import pandas as pd\\nimport numpy as np'); }\n",
       "    "
      ],
      "text/plain": [
       "<IPython.core.display.Javascript object>"
      ]
     },
     "metadata": {},
     "output_type": "display_data"
    },
    {
     "data": {
      "application/javascript": [
       "\n",
       "        if (window._pyforest_update_imports_cell) { window._pyforest_update_imports_cell('import pandas as pd\\nimport numpy as np'); }\n",
       "    "
      ],
      "text/plain": [
       "<IPython.core.display.Javascript object>"
      ]
     },
     "metadata": {},
     "output_type": "display_data"
    },
    {
     "data": {
      "application/javascript": [
       "\n",
       "        if (window._pyforest_update_imports_cell) { window._pyforest_update_imports_cell('import pandas as pd\\nimport numpy as np'); }\n",
       "    "
      ],
      "text/plain": [
       "<IPython.core.display.Javascript object>"
      ]
     },
     "metadata": {},
     "output_type": "display_data"
    },
    {
     "data": {
      "application/javascript": [
       "\n",
       "        if (window._pyforest_update_imports_cell) { window._pyforest_update_imports_cell('import pandas as pd\\nimport numpy as np'); }\n",
       "    "
      ],
      "text/plain": [
       "<IPython.core.display.Javascript object>"
      ]
     },
     "metadata": {},
     "output_type": "display_data"
    },
    {
     "data": {
      "application/javascript": [
       "\n",
       "        if (window._pyforest_update_imports_cell) { window._pyforest_update_imports_cell('import pandas as pd\\nimport numpy as np'); }\n",
       "    "
      ],
      "text/plain": [
       "<IPython.core.display.Javascript object>"
      ]
     },
     "metadata": {},
     "output_type": "display_data"
    },
    {
     "data": {
      "application/javascript": [
       "\n",
       "        if (window._pyforest_update_imports_cell) { window._pyforest_update_imports_cell('import pandas as pd\\nimport numpy as np'); }\n",
       "    "
      ],
      "text/plain": [
       "<IPython.core.display.Javascript object>"
      ]
     },
     "metadata": {},
     "output_type": "display_data"
    },
    {
     "data": {
      "application/javascript": [
       "\n",
       "        if (window._pyforest_update_imports_cell) { window._pyforest_update_imports_cell('import pandas as pd\\nimport numpy as np'); }\n",
       "    "
      ],
      "text/plain": [
       "<IPython.core.display.Javascript object>"
      ]
     },
     "metadata": {},
     "output_type": "display_data"
    },
    {
     "data": {
      "application/javascript": [
       "\n",
       "        if (window._pyforest_update_imports_cell) { window._pyforest_update_imports_cell('import pandas as pd\\nimport numpy as np'); }\n",
       "    "
      ],
      "text/plain": [
       "<IPython.core.display.Javascript object>"
      ]
     },
     "metadata": {},
     "output_type": "display_data"
    },
    {
     "data": {
      "application/javascript": [
       "\n",
       "        if (window._pyforest_update_imports_cell) { window._pyforest_update_imports_cell('import pandas as pd\\nimport numpy as np'); }\n",
       "    "
      ],
      "text/plain": [
       "<IPython.core.display.Javascript object>"
      ]
     },
     "metadata": {},
     "output_type": "display_data"
    },
    {
     "data": {
      "application/javascript": [
       "\n",
       "        if (window._pyforest_update_imports_cell) { window._pyforest_update_imports_cell('import pandas as pd\\nimport numpy as np'); }\n",
       "    "
      ],
      "text/plain": [
       "<IPython.core.display.Javascript object>"
      ]
     },
     "metadata": {},
     "output_type": "display_data"
    },
    {
     "data": {
      "application/javascript": [
       "\n",
       "        if (window._pyforest_update_imports_cell) { window._pyforest_update_imports_cell('import pandas as pd\\nimport numpy as np'); }\n",
       "    "
      ],
      "text/plain": [
       "<IPython.core.display.Javascript object>"
      ]
     },
     "metadata": {},
     "output_type": "display_data"
    },
    {
     "data": {
      "application/javascript": [
       "\n",
       "        if (window._pyforest_update_imports_cell) { window._pyforest_update_imports_cell('import pandas as pd\\nimport numpy as np'); }\n",
       "    "
      ],
      "text/plain": [
       "<IPython.core.display.Javascript object>"
      ]
     },
     "metadata": {},
     "output_type": "display_data"
    },
    {
     "data": {
      "application/javascript": [
       "\n",
       "        if (window._pyforest_update_imports_cell) { window._pyforest_update_imports_cell('import pandas as pd\\nimport numpy as np'); }\n",
       "    "
      ],
      "text/plain": [
       "<IPython.core.display.Javascript object>"
      ]
     },
     "metadata": {},
     "output_type": "display_data"
    },
    {
     "data": {
      "application/javascript": [
       "\n",
       "        if (window._pyforest_update_imports_cell) { window._pyforest_update_imports_cell('import pandas as pd\\nimport numpy as np'); }\n",
       "    "
      ],
      "text/plain": [
       "<IPython.core.display.Javascript object>"
      ]
     },
     "metadata": {},
     "output_type": "display_data"
    },
    {
     "data": {
      "application/javascript": [
       "\n",
       "        if (window._pyforest_update_imports_cell) { window._pyforest_update_imports_cell('import pandas as pd\\nimport numpy as np'); }\n",
       "    "
      ],
      "text/plain": [
       "<IPython.core.display.Javascript object>"
      ]
     },
     "metadata": {},
     "output_type": "display_data"
    },
    {
     "data": {
      "application/javascript": [
       "\n",
       "        if (window._pyforest_update_imports_cell) { window._pyforest_update_imports_cell('import pandas as pd\\nimport numpy as np'); }\n",
       "    "
      ],
      "text/plain": [
       "<IPython.core.display.Javascript object>"
      ]
     },
     "metadata": {},
     "output_type": "display_data"
    },
    {
     "data": {
      "application/javascript": [
       "\n",
       "        if (window._pyforest_update_imports_cell) { window._pyforest_update_imports_cell('import pandas as pd\\nimport numpy as np'); }\n",
       "    "
      ],
      "text/plain": [
       "<IPython.core.display.Javascript object>"
      ]
     },
     "metadata": {},
     "output_type": "display_data"
    },
    {
     "data": {
      "application/javascript": [
       "\n",
       "        if (window._pyforest_update_imports_cell) { window._pyforest_update_imports_cell('import pandas as pd\\nimport numpy as np'); }\n",
       "    "
      ],
      "text/plain": [
       "<IPython.core.display.Javascript object>"
      ]
     },
     "metadata": {},
     "output_type": "display_data"
    },
    {
     "data": {
      "application/javascript": [
       "\n",
       "        if (window._pyforest_update_imports_cell) { window._pyforest_update_imports_cell('import pandas as pd\\nimport numpy as np'); }\n",
       "    "
      ],
      "text/plain": [
       "<IPython.core.display.Javascript object>"
      ]
     },
     "metadata": {},
     "output_type": "display_data"
    },
    {
     "data": {
      "application/javascript": [
       "\n",
       "        if (window._pyforest_update_imports_cell) { window._pyforest_update_imports_cell('import pandas as pd\\nimport numpy as np'); }\n",
       "    "
      ],
      "text/plain": [
       "<IPython.core.display.Javascript object>"
      ]
     },
     "metadata": {},
     "output_type": "display_data"
    },
    {
     "data": {
      "application/javascript": [
       "\n",
       "        if (window._pyforest_update_imports_cell) { window._pyforest_update_imports_cell('import pandas as pd\\nimport numpy as np'); }\n",
       "    "
      ],
      "text/plain": [
       "<IPython.core.display.Javascript object>"
      ]
     },
     "metadata": {},
     "output_type": "display_data"
    },
    {
     "data": {
      "application/javascript": [
       "\n",
       "        if (window._pyforest_update_imports_cell) { window._pyforest_update_imports_cell('import pandas as pd\\nimport numpy as np'); }\n",
       "    "
      ],
      "text/plain": [
       "<IPython.core.display.Javascript object>"
      ]
     },
     "metadata": {},
     "output_type": "display_data"
    },
    {
     "data": {
      "application/javascript": [
       "\n",
       "        if (window._pyforest_update_imports_cell) { window._pyforest_update_imports_cell('import pandas as pd\\nimport numpy as np'); }\n",
       "    "
      ],
      "text/plain": [
       "<IPython.core.display.Javascript object>"
      ]
     },
     "metadata": {},
     "output_type": "display_data"
    },
    {
     "data": {
      "application/javascript": [
       "\n",
       "        if (window._pyforest_update_imports_cell) { window._pyforest_update_imports_cell('import pandas as pd\\nimport numpy as np'); }\n",
       "    "
      ],
      "text/plain": [
       "<IPython.core.display.Javascript object>"
      ]
     },
     "metadata": {},
     "output_type": "display_data"
    },
    {
     "data": {
      "application/javascript": [
       "\n",
       "        if (window._pyforest_update_imports_cell) { window._pyforest_update_imports_cell('import pandas as pd\\nimport numpy as np'); }\n",
       "    "
      ],
      "text/plain": [
       "<IPython.core.display.Javascript object>"
      ]
     },
     "metadata": {},
     "output_type": "display_data"
    },
    {
     "data": {
      "application/javascript": [
       "\n",
       "        if (window._pyforest_update_imports_cell) { window._pyforest_update_imports_cell('import pandas as pd\\nimport numpy as np'); }\n",
       "    "
      ],
      "text/plain": [
       "<IPython.core.display.Javascript object>"
      ]
     },
     "metadata": {},
     "output_type": "display_data"
    },
    {
     "data": {
      "application/javascript": [
       "\n",
       "        if (window._pyforest_update_imports_cell) { window._pyforest_update_imports_cell('import pandas as pd\\nimport numpy as np'); }\n",
       "    "
      ],
      "text/plain": [
       "<IPython.core.display.Javascript object>"
      ]
     },
     "metadata": {},
     "output_type": "display_data"
    },
    {
     "data": {
      "application/javascript": [
       "\n",
       "        if (window._pyforest_update_imports_cell) { window._pyforest_update_imports_cell('import pandas as pd\\nimport numpy as np'); }\n",
       "    "
      ],
      "text/plain": [
       "<IPython.core.display.Javascript object>"
      ]
     },
     "metadata": {},
     "output_type": "display_data"
    },
    {
     "data": {
      "application/javascript": [
       "\n",
       "        if (window._pyforest_update_imports_cell) { window._pyforest_update_imports_cell('import pandas as pd\\nimport numpy as np'); }\n",
       "    "
      ],
      "text/plain": [
       "<IPython.core.display.Javascript object>"
      ]
     },
     "metadata": {},
     "output_type": "display_data"
    },
    {
     "data": {
      "application/javascript": [
       "\n",
       "        if (window._pyforest_update_imports_cell) { window._pyforest_update_imports_cell('import pandas as pd\\nimport numpy as np'); }\n",
       "    "
      ],
      "text/plain": [
       "<IPython.core.display.Javascript object>"
      ]
     },
     "metadata": {},
     "output_type": "display_data"
    },
    {
     "data": {
      "application/javascript": [
       "\n",
       "        if (window._pyforest_update_imports_cell) { window._pyforest_update_imports_cell('import pandas as pd\\nimport numpy as np'); }\n",
       "    "
      ],
      "text/plain": [
       "<IPython.core.display.Javascript object>"
      ]
     },
     "metadata": {},
     "output_type": "display_data"
    },
    {
     "data": {
      "application/javascript": [
       "\n",
       "        if (window._pyforest_update_imports_cell) { window._pyforest_update_imports_cell('import pandas as pd\\nimport numpy as np'); }\n",
       "    "
      ],
      "text/plain": [
       "<IPython.core.display.Javascript object>"
      ]
     },
     "metadata": {},
     "output_type": "display_data"
    },
    {
     "data": {
      "application/javascript": [
       "\n",
       "        if (window._pyforest_update_imports_cell) { window._pyforest_update_imports_cell('import pandas as pd\\nimport numpy as np'); }\n",
       "    "
      ],
      "text/plain": [
       "<IPython.core.display.Javascript object>"
      ]
     },
     "metadata": {},
     "output_type": "display_data"
    },
    {
     "data": {
      "application/javascript": [
       "\n",
       "        if (window._pyforest_update_imports_cell) { window._pyforest_update_imports_cell('import pandas as pd\\nimport numpy as np'); }\n",
       "    "
      ],
      "text/plain": [
       "<IPython.core.display.Javascript object>"
      ]
     },
     "metadata": {},
     "output_type": "display_data"
    },
    {
     "data": {
      "application/javascript": [
       "\n",
       "        if (window._pyforest_update_imports_cell) { window._pyforest_update_imports_cell('import pandas as pd\\nimport numpy as np'); }\n",
       "    "
      ],
      "text/plain": [
       "<IPython.core.display.Javascript object>"
      ]
     },
     "metadata": {},
     "output_type": "display_data"
    },
    {
     "data": {
      "application/javascript": [
       "\n",
       "        if (window._pyforest_update_imports_cell) { window._pyforest_update_imports_cell('import pandas as pd\\nimport numpy as np'); }\n",
       "    "
      ],
      "text/plain": [
       "<IPython.core.display.Javascript object>"
      ]
     },
     "metadata": {},
     "output_type": "display_data"
    },
    {
     "data": {
      "application/javascript": [
       "\n",
       "        if (window._pyforest_update_imports_cell) { window._pyforest_update_imports_cell('import pandas as pd\\nimport numpy as np'); }\n",
       "    "
      ],
      "text/plain": [
       "<IPython.core.display.Javascript object>"
      ]
     },
     "metadata": {},
     "output_type": "display_data"
    },
    {
     "data": {
      "application/javascript": [
       "\n",
       "        if (window._pyforest_update_imports_cell) { window._pyforest_update_imports_cell('import pandas as pd\\nimport numpy as np'); }\n",
       "    "
      ],
      "text/plain": [
       "<IPython.core.display.Javascript object>"
      ]
     },
     "metadata": {},
     "output_type": "display_data"
    },
    {
     "data": {
      "application/javascript": [
       "\n",
       "        if (window._pyforest_update_imports_cell) { window._pyforest_update_imports_cell('import pandas as pd\\nimport numpy as np'); }\n",
       "    "
      ],
      "text/plain": [
       "<IPython.core.display.Javascript object>"
      ]
     },
     "metadata": {},
     "output_type": "display_data"
    },
    {
     "data": {
      "application/javascript": [
       "\n",
       "        if (window._pyforest_update_imports_cell) { window._pyforest_update_imports_cell('import pandas as pd\\nimport numpy as np'); }\n",
       "    "
      ],
      "text/plain": [
       "<IPython.core.display.Javascript object>"
      ]
     },
     "metadata": {},
     "output_type": "display_data"
    },
    {
     "data": {
      "application/javascript": [
       "\n",
       "        if (window._pyforest_update_imports_cell) { window._pyforest_update_imports_cell('import pandas as pd\\nimport numpy as np'); }\n",
       "    "
      ],
      "text/plain": [
       "<IPython.core.display.Javascript object>"
      ]
     },
     "metadata": {},
     "output_type": "display_data"
    },
    {
     "data": {
      "application/javascript": [
       "\n",
       "        if (window._pyforest_update_imports_cell) { window._pyforest_update_imports_cell('import pandas as pd\\nimport numpy as np'); }\n",
       "    "
      ],
      "text/plain": [
       "<IPython.core.display.Javascript object>"
      ]
     },
     "metadata": {},
     "output_type": "display_data"
    },
    {
     "data": {
      "application/javascript": [
       "\n",
       "        if (window._pyforest_update_imports_cell) { window._pyforest_update_imports_cell('import pandas as pd\\nimport numpy as np'); }\n",
       "    "
      ],
      "text/plain": [
       "<IPython.core.display.Javascript object>"
      ]
     },
     "metadata": {},
     "output_type": "display_data"
    },
    {
     "data": {
      "application/javascript": [
       "\n",
       "        if (window._pyforest_update_imports_cell) { window._pyforest_update_imports_cell('import pandas as pd\\nimport numpy as np'); }\n",
       "    "
      ],
      "text/plain": [
       "<IPython.core.display.Javascript object>"
      ]
     },
     "metadata": {},
     "output_type": "display_data"
    },
    {
     "data": {
      "application/javascript": [
       "\n",
       "        if (window._pyforest_update_imports_cell) { window._pyforest_update_imports_cell('import pandas as pd\\nimport numpy as np'); }\n",
       "    "
      ],
      "text/plain": [
       "<IPython.core.display.Javascript object>"
      ]
     },
     "metadata": {},
     "output_type": "display_data"
    },
    {
     "data": {
      "application/javascript": [
       "\n",
       "        if (window._pyforest_update_imports_cell) { window._pyforest_update_imports_cell('import pandas as pd\\nimport numpy as np'); }\n",
       "    "
      ],
      "text/plain": [
       "<IPython.core.display.Javascript object>"
      ]
     },
     "metadata": {},
     "output_type": "display_data"
    },
    {
     "data": {
      "application/javascript": [
       "\n",
       "        if (window._pyforest_update_imports_cell) { window._pyforest_update_imports_cell('import pandas as pd\\nimport numpy as np'); }\n",
       "    "
      ],
      "text/plain": [
       "<IPython.core.display.Javascript object>"
      ]
     },
     "metadata": {},
     "output_type": "display_data"
    },
    {
     "data": {
      "application/javascript": [
       "\n",
       "        if (window._pyforest_update_imports_cell) { window._pyforest_update_imports_cell('import pandas as pd\\nimport numpy as np'); }\n",
       "    "
      ],
      "text/plain": [
       "<IPython.core.display.Javascript object>"
      ]
     },
     "metadata": {},
     "output_type": "display_data"
    },
    {
     "data": {
      "application/javascript": [
       "\n",
       "        if (window._pyforest_update_imports_cell) { window._pyforest_update_imports_cell('import pandas as pd\\nimport numpy as np'); }\n",
       "    "
      ],
      "text/plain": [
       "<IPython.core.display.Javascript object>"
      ]
     },
     "metadata": {},
     "output_type": "display_data"
    },
    {
     "data": {
      "application/javascript": [
       "\n",
       "        if (window._pyforest_update_imports_cell) { window._pyforest_update_imports_cell('import pandas as pd\\nimport numpy as np'); }\n",
       "    "
      ],
      "text/plain": [
       "<IPython.core.display.Javascript object>"
      ]
     },
     "metadata": {},
     "output_type": "display_data"
    },
    {
     "data": {
      "application/javascript": [
       "\n",
       "        if (window._pyforest_update_imports_cell) { window._pyforest_update_imports_cell('import pandas as pd\\nimport numpy as np'); }\n",
       "    "
      ],
      "text/plain": [
       "<IPython.core.display.Javascript object>"
      ]
     },
     "metadata": {},
     "output_type": "display_data"
    },
    {
     "data": {
      "application/javascript": [
       "\n",
       "        if (window._pyforest_update_imports_cell) { window._pyforest_update_imports_cell('import pandas as pd\\nimport numpy as np'); }\n",
       "    "
      ],
      "text/plain": [
       "<IPython.core.display.Javascript object>"
      ]
     },
     "metadata": {},
     "output_type": "display_data"
    },
    {
     "data": {
      "application/javascript": [
       "\n",
       "        if (window._pyforest_update_imports_cell) { window._pyforest_update_imports_cell('import pandas as pd\\nimport numpy as np'); }\n",
       "    "
      ],
      "text/plain": [
       "<IPython.core.display.Javascript object>"
      ]
     },
     "metadata": {},
     "output_type": "display_data"
    },
    {
     "data": {
      "application/javascript": [
       "\n",
       "        if (window._pyforest_update_imports_cell) { window._pyforest_update_imports_cell('import pandas as pd\\nimport numpy as np'); }\n",
       "    "
      ],
      "text/plain": [
       "<IPython.core.display.Javascript object>"
      ]
     },
     "metadata": {},
     "output_type": "display_data"
    },
    {
     "data": {
      "application/javascript": [
       "\n",
       "        if (window._pyforest_update_imports_cell) { window._pyforest_update_imports_cell('import pandas as pd\\nimport numpy as np'); }\n",
       "    "
      ],
      "text/plain": [
       "<IPython.core.display.Javascript object>"
      ]
     },
     "metadata": {},
     "output_type": "display_data"
    },
    {
     "data": {
      "application/javascript": [
       "\n",
       "        if (window._pyforest_update_imports_cell) { window._pyforest_update_imports_cell('import pandas as pd\\nimport numpy as np'); }\n",
       "    "
      ],
      "text/plain": [
       "<IPython.core.display.Javascript object>"
      ]
     },
     "metadata": {},
     "output_type": "display_data"
    },
    {
     "data": {
      "application/javascript": [
       "\n",
       "        if (window._pyforest_update_imports_cell) { window._pyforest_update_imports_cell('import pandas as pd\\nimport numpy as np'); }\n",
       "    "
      ],
      "text/plain": [
       "<IPython.core.display.Javascript object>"
      ]
     },
     "metadata": {},
     "output_type": "display_data"
    },
    {
     "data": {
      "application/javascript": [
       "\n",
       "        if (window._pyforest_update_imports_cell) { window._pyforest_update_imports_cell('import pandas as pd\\nimport numpy as np'); }\n",
       "    "
      ],
      "text/plain": [
       "<IPython.core.display.Javascript object>"
      ]
     },
     "metadata": {},
     "output_type": "display_data"
    },
    {
     "data": {
      "application/javascript": [
       "\n",
       "        if (window._pyforest_update_imports_cell) { window._pyforest_update_imports_cell('import pandas as pd\\nimport numpy as np'); }\n",
       "    "
      ],
      "text/plain": [
       "<IPython.core.display.Javascript object>"
      ]
     },
     "metadata": {},
     "output_type": "display_data"
    },
    {
     "data": {
      "application/javascript": [
       "\n",
       "        if (window._pyforest_update_imports_cell) { window._pyforest_update_imports_cell('import pandas as pd\\nimport numpy as np'); }\n",
       "    "
      ],
      "text/plain": [
       "<IPython.core.display.Javascript object>"
      ]
     },
     "metadata": {},
     "output_type": "display_data"
    },
    {
     "data": {
      "application/javascript": [
       "\n",
       "        if (window._pyforest_update_imports_cell) { window._pyforest_update_imports_cell('import pandas as pd\\nimport numpy as np'); }\n",
       "    "
      ],
      "text/plain": [
       "<IPython.core.display.Javascript object>"
      ]
     },
     "metadata": {},
     "output_type": "display_data"
    },
    {
     "data": {
      "application/javascript": [
       "\n",
       "        if (window._pyforest_update_imports_cell) { window._pyforest_update_imports_cell('import pandas as pd\\nimport numpy as np'); }\n",
       "    "
      ],
      "text/plain": [
       "<IPython.core.display.Javascript object>"
      ]
     },
     "metadata": {},
     "output_type": "display_data"
    },
    {
     "data": {
      "application/javascript": [
       "\n",
       "        if (window._pyforest_update_imports_cell) { window._pyforest_update_imports_cell('import pandas as pd\\nimport numpy as np'); }\n",
       "    "
      ],
      "text/plain": [
       "<IPython.core.display.Javascript object>"
      ]
     },
     "metadata": {},
     "output_type": "display_data"
    },
    {
     "data": {
      "application/javascript": [
       "\n",
       "        if (window._pyforest_update_imports_cell) { window._pyforest_update_imports_cell('import pandas as pd\\nimport numpy as np'); }\n",
       "    "
      ],
      "text/plain": [
       "<IPython.core.display.Javascript object>"
      ]
     },
     "metadata": {},
     "output_type": "display_data"
    },
    {
     "data": {
      "application/javascript": [
       "\n",
       "        if (window._pyforest_update_imports_cell) { window._pyforest_update_imports_cell('import pandas as pd\\nimport numpy as np'); }\n",
       "    "
      ],
      "text/plain": [
       "<IPython.core.display.Javascript object>"
      ]
     },
     "metadata": {},
     "output_type": "display_data"
    },
    {
     "data": {
      "application/javascript": [
       "\n",
       "        if (window._pyforest_update_imports_cell) { window._pyforest_update_imports_cell('import pandas as pd\\nimport numpy as np'); }\n",
       "    "
      ],
      "text/plain": [
       "<IPython.core.display.Javascript object>"
      ]
     },
     "metadata": {},
     "output_type": "display_data"
    },
    {
     "data": {
      "application/javascript": [
       "\n",
       "        if (window._pyforest_update_imports_cell) { window._pyforest_update_imports_cell('import pandas as pd\\nimport numpy as np'); }\n",
       "    "
      ],
      "text/plain": [
       "<IPython.core.display.Javascript object>"
      ]
     },
     "metadata": {},
     "output_type": "display_data"
    },
    {
     "data": {
      "application/javascript": [
       "\n",
       "        if (window._pyforest_update_imports_cell) { window._pyforest_update_imports_cell('import pandas as pd\\nimport numpy as np'); }\n",
       "    "
      ],
      "text/plain": [
       "<IPython.core.display.Javascript object>"
      ]
     },
     "metadata": {},
     "output_type": "display_data"
    },
    {
     "data": {
      "application/javascript": [
       "\n",
       "        if (window._pyforest_update_imports_cell) { window._pyforest_update_imports_cell('import pandas as pd\\nimport numpy as np'); }\n",
       "    "
      ],
      "text/plain": [
       "<IPython.core.display.Javascript object>"
      ]
     },
     "metadata": {},
     "output_type": "display_data"
    },
    {
     "data": {
      "application/javascript": [
       "\n",
       "        if (window._pyforest_update_imports_cell) { window._pyforest_update_imports_cell('import pandas as pd\\nimport numpy as np'); }\n",
       "    "
      ],
      "text/plain": [
       "<IPython.core.display.Javascript object>"
      ]
     },
     "metadata": {},
     "output_type": "display_data"
    },
    {
     "data": {
      "application/javascript": [
       "\n",
       "        if (window._pyforest_update_imports_cell) { window._pyforest_update_imports_cell('import pandas as pd\\nimport numpy as np'); }\n",
       "    "
      ],
      "text/plain": [
       "<IPython.core.display.Javascript object>"
      ]
     },
     "metadata": {},
     "output_type": "display_data"
    },
    {
     "data": {
      "application/javascript": [
       "\n",
       "        if (window._pyforest_update_imports_cell) { window._pyforest_update_imports_cell('import pandas as pd\\nimport numpy as np'); }\n",
       "    "
      ],
      "text/plain": [
       "<IPython.core.display.Javascript object>"
      ]
     },
     "metadata": {},
     "output_type": "display_data"
    },
    {
     "data": {
      "application/javascript": [
       "\n",
       "        if (window._pyforest_update_imports_cell) { window._pyforest_update_imports_cell('import pandas as pd\\nimport numpy as np'); }\n",
       "    "
      ],
      "text/plain": [
       "<IPython.core.display.Javascript object>"
      ]
     },
     "metadata": {},
     "output_type": "display_data"
    },
    {
     "data": {
      "application/javascript": [
       "\n",
       "        if (window._pyforest_update_imports_cell) { window._pyforest_update_imports_cell('import pandas as pd\\nimport numpy as np'); }\n",
       "    "
      ],
      "text/plain": [
       "<IPython.core.display.Javascript object>"
      ]
     },
     "metadata": {},
     "output_type": "display_data"
    },
    {
     "data": {
      "application/javascript": [
       "\n",
       "        if (window._pyforest_update_imports_cell) { window._pyforest_update_imports_cell('import pandas as pd\\nimport numpy as np'); }\n",
       "    "
      ],
      "text/plain": [
       "<IPython.core.display.Javascript object>"
      ]
     },
     "metadata": {},
     "output_type": "display_data"
    },
    {
     "data": {
      "application/javascript": [
       "\n",
       "        if (window._pyforest_update_imports_cell) { window._pyforest_update_imports_cell('import pandas as pd\\nimport numpy as np'); }\n",
       "    "
      ],
      "text/plain": [
       "<IPython.core.display.Javascript object>"
      ]
     },
     "metadata": {},
     "output_type": "display_data"
    },
    {
     "data": {
      "application/javascript": [
       "\n",
       "        if (window._pyforest_update_imports_cell) { window._pyforest_update_imports_cell('import pandas as pd\\nimport numpy as np'); }\n",
       "    "
      ],
      "text/plain": [
       "<IPython.core.display.Javascript object>"
      ]
     },
     "metadata": {},
     "output_type": "display_data"
    },
    {
     "data": {
      "application/javascript": [
       "\n",
       "        if (window._pyforest_update_imports_cell) { window._pyforest_update_imports_cell('import pandas as pd\\nimport numpy as np'); }\n",
       "    "
      ],
      "text/plain": [
       "<IPython.core.display.Javascript object>"
      ]
     },
     "metadata": {},
     "output_type": "display_data"
    },
    {
     "data": {
      "application/javascript": [
       "\n",
       "        if (window._pyforest_update_imports_cell) { window._pyforest_update_imports_cell('import pandas as pd\\nimport numpy as np'); }\n",
       "    "
      ],
      "text/plain": [
       "<IPython.core.display.Javascript object>"
      ]
     },
     "metadata": {},
     "output_type": "display_data"
    },
    {
     "data": {
      "application/javascript": [
       "\n",
       "        if (window._pyforest_update_imports_cell) { window._pyforest_update_imports_cell('import pandas as pd\\nimport numpy as np'); }\n",
       "    "
      ],
      "text/plain": [
       "<IPython.core.display.Javascript object>"
      ]
     },
     "metadata": {},
     "output_type": "display_data"
    },
    {
     "data": {
      "application/javascript": [
       "\n",
       "        if (window._pyforest_update_imports_cell) { window._pyforest_update_imports_cell('import pandas as pd\\nimport numpy as np'); }\n",
       "    "
      ],
      "text/plain": [
       "<IPython.core.display.Javascript object>"
      ]
     },
     "metadata": {},
     "output_type": "display_data"
    },
    {
     "data": {
      "application/javascript": [
       "\n",
       "        if (window._pyforest_update_imports_cell) { window._pyforest_update_imports_cell('import pandas as pd\\nimport numpy as np'); }\n",
       "    "
      ],
      "text/plain": [
       "<IPython.core.display.Javascript object>"
      ]
     },
     "metadata": {},
     "output_type": "display_data"
    },
    {
     "data": {
      "application/javascript": [
       "\n",
       "        if (window._pyforest_update_imports_cell) { window._pyforest_update_imports_cell('import pandas as pd\\nimport numpy as np'); }\n",
       "    "
      ],
      "text/plain": [
       "<IPython.core.display.Javascript object>"
      ]
     },
     "metadata": {},
     "output_type": "display_data"
    },
    {
     "data": {
      "application/javascript": [
       "\n",
       "        if (window._pyforest_update_imports_cell) { window._pyforest_update_imports_cell('import pandas as pd\\nimport numpy as np'); }\n",
       "    "
      ],
      "text/plain": [
       "<IPython.core.display.Javascript object>"
      ]
     },
     "metadata": {},
     "output_type": "display_data"
    },
    {
     "data": {
      "application/javascript": [
       "\n",
       "        if (window._pyforest_update_imports_cell) { window._pyforest_update_imports_cell('import pandas as pd\\nimport numpy as np'); }\n",
       "    "
      ],
      "text/plain": [
       "<IPython.core.display.Javascript object>"
      ]
     },
     "metadata": {},
     "output_type": "display_data"
    },
    {
     "data": {
      "application/javascript": [
       "\n",
       "        if (window._pyforest_update_imports_cell) { window._pyforest_update_imports_cell('import pandas as pd\\nimport numpy as np'); }\n",
       "    "
      ],
      "text/plain": [
       "<IPython.core.display.Javascript object>"
      ]
     },
     "metadata": {},
     "output_type": "display_data"
    },
    {
     "data": {
      "application/javascript": [
       "\n",
       "        if (window._pyforest_update_imports_cell) { window._pyforest_update_imports_cell('import pandas as pd\\nimport numpy as np'); }\n",
       "    "
      ],
      "text/plain": [
       "<IPython.core.display.Javascript object>"
      ]
     },
     "metadata": {},
     "output_type": "display_data"
    },
    {
     "data": {
      "application/javascript": [
       "\n",
       "        if (window._pyforest_update_imports_cell) { window._pyforest_update_imports_cell('import pandas as pd\\nimport numpy as np'); }\n",
       "    "
      ],
      "text/plain": [
       "<IPython.core.display.Javascript object>"
      ]
     },
     "metadata": {},
     "output_type": "display_data"
    },
    {
     "data": {
      "application/javascript": [
       "\n",
       "        if (window._pyforest_update_imports_cell) { window._pyforest_update_imports_cell('import pandas as pd\\nimport numpy as np'); }\n",
       "    "
      ],
      "text/plain": [
       "<IPython.core.display.Javascript object>"
      ]
     },
     "metadata": {},
     "output_type": "display_data"
    },
    {
     "data": {
      "application/javascript": [
       "\n",
       "        if (window._pyforest_update_imports_cell) { window._pyforest_update_imports_cell('import pandas as pd\\nimport numpy as np'); }\n",
       "    "
      ],
      "text/plain": [
       "<IPython.core.display.Javascript object>"
      ]
     },
     "metadata": {},
     "output_type": "display_data"
    },
    {
     "data": {
      "application/javascript": [
       "\n",
       "        if (window._pyforest_update_imports_cell) { window._pyforest_update_imports_cell('import pandas as pd\\nimport numpy as np'); }\n",
       "    "
      ],
      "text/plain": [
       "<IPython.core.display.Javascript object>"
      ]
     },
     "metadata": {},
     "output_type": "display_data"
    },
    {
     "data": {
      "application/javascript": [
       "\n",
       "        if (window._pyforest_update_imports_cell) { window._pyforest_update_imports_cell('import pandas as pd\\nimport numpy as np'); }\n",
       "    "
      ],
      "text/plain": [
       "<IPython.core.display.Javascript object>"
      ]
     },
     "metadata": {},
     "output_type": "display_data"
    }
   ],
   "source": [
    "h=['-', '  -', '    -', '--']\n",
    "for i in h:\n",
    "    for j in df['FEED WATER HARDNESS\\nPPM'].unique():\n",
    "        df['FEED WATER HARDNESS\\nPPM']=df['FEED WATER HARDNESS\\nPPM'].replace(i,np.nan)"
   ]
  },
  {
   "cell_type": "code",
   "execution_count": 10,
   "id": "dd1de2ce",
   "metadata": {},
   "outputs": [
    {
     "data": {
      "text/plain": [
       "FEED WATER HARDNESS\\nPPM                          464\n",
       "FEED WATER \\nT D S\\nPPM                             6\n",
       "FEED WATER \\nPH                                     6\n",
       "FEED WATER \\nTURBIDITY\\n(<10)\\n                    65\n",
       "PRESSURE SAND FILTER INLET PRESSURE\\nKg/cm2         0\n",
       "ACTIVATED CARBON FILTER INLET PRESSURE\\nKg/cm2      0\n",
       "WATER SOFTENER INTLET PRESSURE\\nKg/cm2              0\n",
       "WATER SOFTENER OUTLET PRESSURE\\nKg/cm2              0\n",
       "PRESSURE DIFFERENCE                                 0\n",
       "SOFTENER OUTLET WATER HARDNESS\\nPPM                 0\n",
       "SOFTENER OUTLET WATER \\nT D S\\nPPM                  0\n",
       "SOFTENER OUTLET  WATER \\nPH                         0\n",
       "SOFTENER OUTLET WATER \\nTURBIDITY\\n(<10)\\n         58\n",
       "SOFTENER INLET PRESSURE\\n(Min. 2 Kg/Cm2)            0\n",
       "NaCL QUANTITY                                       5\n",
       "WATER QUANTITY                                     87\n",
       "HARDNESS BEFORE RENERATION                        464\n",
       "HARDNESS AFTER REGENERATION                         0\n",
       "POTABILITY                                          1\n",
       "dtype: int64"
      ]
     },
     "execution_count": 10,
     "metadata": {},
     "output_type": "execute_result"
    }
   ],
   "source": [
    "df.isnull().sum()"
   ]
  },
  {
   "cell_type": "code",
   "execution_count": 11,
   "id": "ef4ea3c3",
   "metadata": {},
   "outputs": [],
   "source": [
    "for i in l:\n",
    "    df[i]=df[i].fillna(df[i].mean().round(2))"
   ]
  },
  {
   "cell_type": "code",
   "execution_count": 12,
   "id": "bf074fd1",
   "metadata": {},
   "outputs": [
    {
     "data": {
      "text/html": [
       "<div>\n",
       "<style scoped>\n",
       "    .dataframe tbody tr th:only-of-type {\n",
       "        vertical-align: middle;\n",
       "    }\n",
       "\n",
       "    .dataframe tbody tr th {\n",
       "        vertical-align: top;\n",
       "    }\n",
       "\n",
       "    .dataframe thead th {\n",
       "        text-align: right;\n",
       "    }\n",
       "</style>\n",
       "<table border=\"1\" class=\"dataframe\">\n",
       "  <thead>\n",
       "    <tr style=\"text-align: right;\">\n",
       "      <th></th>\n",
       "      <th>FEED WATER HARDNESS\\nPPM</th>\n",
       "      <th>FEED WATER \\nT D S\\nPPM</th>\n",
       "      <th>FEED WATER \\nPH</th>\n",
       "      <th>FEED WATER \\nTURBIDITY\\n(&lt;10)\\n</th>\n",
       "      <th>PRESSURE SAND FILTER INLET PRESSURE\\nKg/cm2</th>\n",
       "      <th>ACTIVATED CARBON FILTER INLET PRESSURE\\nKg/cm2</th>\n",
       "      <th>WATER SOFTENER INTLET PRESSURE\\nKg/cm2</th>\n",
       "      <th>WATER SOFTENER OUTLET PRESSURE\\nKg/cm2</th>\n",
       "      <th>PRESSURE DIFFERENCE</th>\n",
       "      <th>SOFTENER OUTLET WATER HARDNESS\\nPPM</th>\n",
       "      <th>SOFTENER OUTLET WATER \\nT D S\\nPPM</th>\n",
       "      <th>SOFTENER OUTLET  WATER \\nPH</th>\n",
       "      <th>SOFTENER OUTLET WATER \\nTURBIDITY\\n(&lt;10)\\n</th>\n",
       "      <th>SOFTENER INLET PRESSURE\\n(Min. 2 Kg/Cm2)</th>\n",
       "      <th>NaCL QUANTITY</th>\n",
       "      <th>WATER QUANTITY</th>\n",
       "      <th>HARDNESS BEFORE RENERATION</th>\n",
       "      <th>HARDNESS AFTER REGENERATION</th>\n",
       "      <th>POTABILITY</th>\n",
       "    </tr>\n",
       "  </thead>\n",
       "  <tbody>\n",
       "    <tr>\n",
       "      <th>0</th>\n",
       "      <td>82.00</td>\n",
       "      <td>235.0</td>\n",
       "      <td>7.7</td>\n",
       "      <td>86.39</td>\n",
       "      <td>2.8</td>\n",
       "      <td>1.8</td>\n",
       "      <td>1.3</td>\n",
       "      <td>0.5</td>\n",
       "      <td>1.5</td>\n",
       "      <td>44</td>\n",
       "      <td>230</td>\n",
       "      <td>7.0</td>\n",
       "      <td>8.3</td>\n",
       "      <td>2.6</td>\n",
       "      <td>150.00</td>\n",
       "      <td>14.64</td>\n",
       "      <td>82.00</td>\n",
       "      <td>44</td>\n",
       "      <td>0.0</td>\n",
       "    </tr>\n",
       "    <tr>\n",
       "      <th>1</th>\n",
       "      <td>85.00</td>\n",
       "      <td>186.0</td>\n",
       "      <td>7.5</td>\n",
       "      <td>86.39</td>\n",
       "      <td>2.8</td>\n",
       "      <td>1.6</td>\n",
       "      <td>1.4</td>\n",
       "      <td>0.6</td>\n",
       "      <td>1.4</td>\n",
       "      <td>44</td>\n",
       "      <td>183</td>\n",
       "      <td>7.2</td>\n",
       "      <td>8.3</td>\n",
       "      <td>2.8</td>\n",
       "      <td>150.00</td>\n",
       "      <td>14.64</td>\n",
       "      <td>85.00</td>\n",
       "      <td>44</td>\n",
       "      <td>0.0</td>\n",
       "    </tr>\n",
       "    <tr>\n",
       "      <th>2</th>\n",
       "      <td>87.00</td>\n",
       "      <td>174.0</td>\n",
       "      <td>7.4</td>\n",
       "      <td>86.39</td>\n",
       "      <td>2.9</td>\n",
       "      <td>1.7</td>\n",
       "      <td>1.6</td>\n",
       "      <td>0.4</td>\n",
       "      <td>1.3</td>\n",
       "      <td>48</td>\n",
       "      <td>163</td>\n",
       "      <td>7.0</td>\n",
       "      <td>8.3</td>\n",
       "      <td>2.5</td>\n",
       "      <td>150.00</td>\n",
       "      <td>14.64</td>\n",
       "      <td>87.00</td>\n",
       "      <td>48</td>\n",
       "      <td>0.0</td>\n",
       "    </tr>\n",
       "    <tr>\n",
       "      <th>3</th>\n",
       "      <td>80.00</td>\n",
       "      <td>225.0</td>\n",
       "      <td>7.3</td>\n",
       "      <td>86.39</td>\n",
       "      <td>2.9</td>\n",
       "      <td>1.7</td>\n",
       "      <td>1.6</td>\n",
       "      <td>0.5</td>\n",
       "      <td>1.3</td>\n",
       "      <td>50</td>\n",
       "      <td>220</td>\n",
       "      <td>7.0</td>\n",
       "      <td>8.3</td>\n",
       "      <td>2.4</td>\n",
       "      <td>150.00</td>\n",
       "      <td>14.64</td>\n",
       "      <td>88.00</td>\n",
       "      <td>45</td>\n",
       "      <td>0.0</td>\n",
       "    </tr>\n",
       "    <tr>\n",
       "      <th>4</th>\n",
       "      <td>82.00</td>\n",
       "      <td>276.0</td>\n",
       "      <td>7.7</td>\n",
       "      <td>86.39</td>\n",
       "      <td>2.8</td>\n",
       "      <td>1.8</td>\n",
       "      <td>1.5</td>\n",
       "      <td>0.5</td>\n",
       "      <td>1.3</td>\n",
       "      <td>42</td>\n",
       "      <td>271</td>\n",
       "      <td>7.0</td>\n",
       "      <td>8.3</td>\n",
       "      <td>2.5</td>\n",
       "      <td>150.00</td>\n",
       "      <td>14.64</td>\n",
       "      <td>85.00</td>\n",
       "      <td>42</td>\n",
       "      <td>0.0</td>\n",
       "    </tr>\n",
       "    <tr>\n",
       "      <th>...</th>\n",
       "      <td>...</td>\n",
       "      <td>...</td>\n",
       "      <td>...</td>\n",
       "      <td>...</td>\n",
       "      <td>...</td>\n",
       "      <td>...</td>\n",
       "      <td>...</td>\n",
       "      <td>...</td>\n",
       "      <td>...</td>\n",
       "      <td>...</td>\n",
       "      <td>...</td>\n",
       "      <td>...</td>\n",
       "      <td>...</td>\n",
       "      <td>...</td>\n",
       "      <td>...</td>\n",
       "      <td>...</td>\n",
       "      <td>...</td>\n",
       "      <td>...</td>\n",
       "      <td>...</td>\n",
       "    </tr>\n",
       "    <tr>\n",
       "      <th>618</th>\n",
       "      <td>647.03</td>\n",
       "      <td>410.0</td>\n",
       "      <td>9.0</td>\n",
       "      <td>14.60</td>\n",
       "      <td>2.0</td>\n",
       "      <td>1.8</td>\n",
       "      <td>1.7</td>\n",
       "      <td>0.7</td>\n",
       "      <td>0.3</td>\n",
       "      <td>52</td>\n",
       "      <td>296</td>\n",
       "      <td>7.0</td>\n",
       "      <td>7.5</td>\n",
       "      <td>1.8</td>\n",
       "      <td>160.00</td>\n",
       "      <td>15.00</td>\n",
       "      <td>646.99</td>\n",
       "      <td>18</td>\n",
       "      <td>0.0</td>\n",
       "    </tr>\n",
       "    <tr>\n",
       "      <th>619</th>\n",
       "      <td>647.03</td>\n",
       "      <td>510.0</td>\n",
       "      <td>8.0</td>\n",
       "      <td>18.10</td>\n",
       "      <td>2.1</td>\n",
       "      <td>1.9</td>\n",
       "      <td>1.8</td>\n",
       "      <td>0.7</td>\n",
       "      <td>0.3</td>\n",
       "      <td>62</td>\n",
       "      <td>310</td>\n",
       "      <td>7.0</td>\n",
       "      <td>-0.4</td>\n",
       "      <td>1.7</td>\n",
       "      <td>160.00</td>\n",
       "      <td>15.00</td>\n",
       "      <td>646.99</td>\n",
       "      <td>64</td>\n",
       "      <td>1.0</td>\n",
       "    </tr>\n",
       "    <tr>\n",
       "      <th>620</th>\n",
       "      <td>647.03</td>\n",
       "      <td>490.0</td>\n",
       "      <td>7.5</td>\n",
       "      <td>18.00</td>\n",
       "      <td>2.0</td>\n",
       "      <td>1.8</td>\n",
       "      <td>1.7</td>\n",
       "      <td>0.7</td>\n",
       "      <td>0.3</td>\n",
       "      <td>58</td>\n",
       "      <td>290</td>\n",
       "      <td>7.5</td>\n",
       "      <td>-1.1</td>\n",
       "      <td>1.8</td>\n",
       "      <td>160.00</td>\n",
       "      <td>14.00</td>\n",
       "      <td>646.99</td>\n",
       "      <td>50</td>\n",
       "      <td>0.0</td>\n",
       "    </tr>\n",
       "    <tr>\n",
       "      <th>621</th>\n",
       "      <td>647.03</td>\n",
       "      <td>460.0</td>\n",
       "      <td>7.5</td>\n",
       "      <td>16.70</td>\n",
       "      <td>2.1</td>\n",
       "      <td>1.9</td>\n",
       "      <td>1.8</td>\n",
       "      <td>0.7</td>\n",
       "      <td>0.3</td>\n",
       "      <td>64</td>\n",
       "      <td>460</td>\n",
       "      <td>7.0</td>\n",
       "      <td>10.5</td>\n",
       "      <td>1.7</td>\n",
       "      <td>160.00</td>\n",
       "      <td>15.00</td>\n",
       "      <td>646.99</td>\n",
       "      <td>30</td>\n",
       "      <td>0.0</td>\n",
       "    </tr>\n",
       "    <tr>\n",
       "      <th>622</th>\n",
       "      <td>647.03</td>\n",
       "      <td>510.0</td>\n",
       "      <td>7.0</td>\n",
       "      <td>18.10</td>\n",
       "      <td>2.1</td>\n",
       "      <td>1.9</td>\n",
       "      <td>1.8</td>\n",
       "      <td>0.7</td>\n",
       "      <td>0.3</td>\n",
       "      <td>60</td>\n",
       "      <td>308</td>\n",
       "      <td>7.5</td>\n",
       "      <td>-1.3</td>\n",
       "      <td>1.7</td>\n",
       "      <td>108.51</td>\n",
       "      <td>14.00</td>\n",
       "      <td>646.99</td>\n",
       "      <td>40</td>\n",
       "      <td>0.0</td>\n",
       "    </tr>\n",
       "  </tbody>\n",
       "</table>\n",
       "<p>623 rows × 19 columns</p>\n",
       "</div>"
      ],
      "text/plain": [
       "     FEED WATER HARDNESS\\nPPM  FEED WATER \\nT D S\\nPPM  FEED WATER \\nPH  \\\n",
       "0                       82.00                    235.0              7.7   \n",
       "1                       85.00                    186.0              7.5   \n",
       "2                       87.00                    174.0              7.4   \n",
       "3                       80.00                    225.0              7.3   \n",
       "4                       82.00                    276.0              7.7   \n",
       "..                        ...                      ...              ...   \n",
       "618                    647.03                    410.0              9.0   \n",
       "619                    647.03                    510.0              8.0   \n",
       "620                    647.03                    490.0              7.5   \n",
       "621                    647.03                    460.0              7.5   \n",
       "622                    647.03                    510.0              7.0   \n",
       "\n",
       "     FEED WATER \\nTURBIDITY\\n(<10)\\n  \\\n",
       "0                              86.39   \n",
       "1                              86.39   \n",
       "2                              86.39   \n",
       "3                              86.39   \n",
       "4                              86.39   \n",
       "..                               ...   \n",
       "618                            14.60   \n",
       "619                            18.10   \n",
       "620                            18.00   \n",
       "621                            16.70   \n",
       "622                            18.10   \n",
       "\n",
       "     PRESSURE SAND FILTER INLET PRESSURE\\nKg/cm2  \\\n",
       "0                                            2.8   \n",
       "1                                            2.8   \n",
       "2                                            2.9   \n",
       "3                                            2.9   \n",
       "4                                            2.8   \n",
       "..                                           ...   \n",
       "618                                          2.0   \n",
       "619                                          2.1   \n",
       "620                                          2.0   \n",
       "621                                          2.1   \n",
       "622                                          2.1   \n",
       "\n",
       "     ACTIVATED CARBON FILTER INLET PRESSURE\\nKg/cm2  \\\n",
       "0                                               1.8   \n",
       "1                                               1.6   \n",
       "2                                               1.7   \n",
       "3                                               1.7   \n",
       "4                                               1.8   \n",
       "..                                              ...   \n",
       "618                                             1.8   \n",
       "619                                             1.9   \n",
       "620                                             1.8   \n",
       "621                                             1.9   \n",
       "622                                             1.9   \n",
       "\n",
       "     WATER SOFTENER INTLET PRESSURE\\nKg/cm2  \\\n",
       "0                                       1.3   \n",
       "1                                       1.4   \n",
       "2                                       1.6   \n",
       "3                                       1.6   \n",
       "4                                       1.5   \n",
       "..                                      ...   \n",
       "618                                     1.7   \n",
       "619                                     1.8   \n",
       "620                                     1.7   \n",
       "621                                     1.8   \n",
       "622                                     1.8   \n",
       "\n",
       "     WATER SOFTENER OUTLET PRESSURE\\nKg/cm2  PRESSURE DIFFERENCE  \\\n",
       "0                                       0.5                  1.5   \n",
       "1                                       0.6                  1.4   \n",
       "2                                       0.4                  1.3   \n",
       "3                                       0.5                  1.3   \n",
       "4                                       0.5                  1.3   \n",
       "..                                      ...                  ...   \n",
       "618                                     0.7                  0.3   \n",
       "619                                     0.7                  0.3   \n",
       "620                                     0.7                  0.3   \n",
       "621                                     0.7                  0.3   \n",
       "622                                     0.7                  0.3   \n",
       "\n",
       "     SOFTENER OUTLET WATER HARDNESS\\nPPM  SOFTENER OUTLET WATER \\nT D S\\nPPM  \\\n",
       "0                                     44                                 230   \n",
       "1                                     44                                 183   \n",
       "2                                     48                                 163   \n",
       "3                                     50                                 220   \n",
       "4                                     42                                 271   \n",
       "..                                   ...                                 ...   \n",
       "618                                   52                                 296   \n",
       "619                                   62                                 310   \n",
       "620                                   58                                 290   \n",
       "621                                   64                                 460   \n",
       "622                                   60                                 308   \n",
       "\n",
       "     SOFTENER OUTLET  WATER \\nPH  SOFTENER OUTLET WATER \\nTURBIDITY\\n(<10)\\n  \\\n",
       "0                            7.0                                         8.3   \n",
       "1                            7.2                                         8.3   \n",
       "2                            7.0                                         8.3   \n",
       "3                            7.0                                         8.3   \n",
       "4                            7.0                                         8.3   \n",
       "..                           ...                                         ...   \n",
       "618                          7.0                                         7.5   \n",
       "619                          7.0                                        -0.4   \n",
       "620                          7.5                                        -1.1   \n",
       "621                          7.0                                        10.5   \n",
       "622                          7.5                                        -1.3   \n",
       "\n",
       "     SOFTENER INLET PRESSURE\\n(Min. 2 Kg/Cm2)  NaCL QUANTITY  WATER QUANTITY  \\\n",
       "0                                         2.6         150.00           14.64   \n",
       "1                                         2.8         150.00           14.64   \n",
       "2                                         2.5         150.00           14.64   \n",
       "3                                         2.4         150.00           14.64   \n",
       "4                                         2.5         150.00           14.64   \n",
       "..                                        ...            ...             ...   \n",
       "618                                       1.8         160.00           15.00   \n",
       "619                                       1.7         160.00           15.00   \n",
       "620                                       1.8         160.00           14.00   \n",
       "621                                       1.7         160.00           15.00   \n",
       "622                                       1.7         108.51           14.00   \n",
       "\n",
       "     HARDNESS BEFORE RENERATION  HARDNESS AFTER REGENERATION  POTABILITY  \n",
       "0                         82.00                           44         0.0  \n",
       "1                         85.00                           44         0.0  \n",
       "2                         87.00                           48         0.0  \n",
       "3                         88.00                           45         0.0  \n",
       "4                         85.00                           42         0.0  \n",
       "..                          ...                          ...         ...  \n",
       "618                      646.99                           18         0.0  \n",
       "619                      646.99                           64         1.0  \n",
       "620                      646.99                           50         0.0  \n",
       "621                      646.99                           30         0.0  \n",
       "622                      646.99                           40         0.0  \n",
       "\n",
       "[623 rows x 19 columns]"
      ]
     },
     "execution_count": 12,
     "metadata": {},
     "output_type": "execute_result"
    }
   ],
   "source": [
    "df"
   ]
  },
  {
   "cell_type": "code",
   "execution_count": 13,
   "id": "ffb1bccc",
   "metadata": {},
   "outputs": [],
   "source": [
    "df.to_excel(\"Sewage preprocessed data.xlsx\")"
   ]
  },
  {
   "cell_type": "code",
   "execution_count": 14,
   "id": "41f73e9e",
   "metadata": {},
   "outputs": [
    {
     "data": {
      "application/javascript": [
       "\n",
       "        if (window._pyforest_update_imports_cell) { window._pyforest_update_imports_cell('import pandas as pd\\nimport numpy as np\\nimport matplotlib.pyplot as plt'); }\n",
       "    "
      ],
      "text/plain": [
       "<IPython.core.display.Javascript object>"
      ]
     },
     "metadata": {},
     "output_type": "display_data"
    },
    {
     "data": {
      "application/javascript": [
       "\n",
       "        if (window._pyforest_update_imports_cell) { window._pyforest_update_imports_cell('import pandas as pd\\nimport numpy as np\\nimport matplotlib.pyplot as plt\\nimport seaborn as sns'); }\n",
       "    "
      ],
      "text/plain": [
       "<IPython.core.display.Javascript object>"
      ]
     },
     "metadata": {},
     "output_type": "display_data"
    },
    {
     "data": {
      "text/plain": [
       "<Axes: >"
      ]
     },
     "execution_count": 14,
     "metadata": {},
     "output_type": "execute_result"
    },
    {
     "data": {
      "image/png": "[encoded data removed]",
      "text/plain": [
       "<Figure size 1500x600 with 2 Axes>"
      ]
     },
     "metadata": {},
     "output_type": "display_data"
    }
   ],
   "source": [
    "fig,ax=plt.subplots(figsize=(15,6))\n",
    "sns.heatmap(df.corr(),annot=True,fmt=\".1g\")"
   ]
  },
  {
   "cell_type": "code",
   "execution_count": 15,
   "id": "d75b0edc",
   "metadata": {},
   "outputs": [],
   "source": [
    "data=df"
   ]
  },
  {
   "cell_type": "code",
   "execution_count": 16,
   "id": "1a322444",
   "metadata": {},
   "outputs": [],
   "source": [
    "df['POTABILITY']=df['POTABILITY'].astype(int)"
   ]
  },
  {
   "cell_type": "code",
   "execution_count": 17,
   "id": "c1eb4e90",
   "metadata": {},
   "outputs": [
    {
     "data": {
      "text/html": [
       "<div>\n",
       "<style scoped>\n",
       "    .dataframe tbody tr th:only-of-type {\n",
       "        vertical-align: middle;\n",
       "    }\n",
       "\n",
       "    .dataframe tbody tr th {\n",
       "        vertical-align: top;\n",
       "    }\n",
       "\n",
       "    .dataframe thead th {\n",
       "        text-align: right;\n",
       "    }\n",
       "</style>\n",
       "<table border=\"1\" class=\"dataframe\">\n",
       "  <thead>\n",
       "    <tr style=\"text-align: right;\">\n",
       "      <th></th>\n",
       "      <th>FEED WATER HARDNESS\\nPPM</th>\n",
       "      <th>FEED WATER \\nT D S\\nPPM</th>\n",
       "      <th>FEED WATER \\nPH</th>\n",
       "      <th>FEED WATER \\nTURBIDITY\\n(&lt;10)\\n</th>\n",
       "      <th>PRESSURE SAND FILTER INLET PRESSURE\\nKg/cm2</th>\n",
       "      <th>ACTIVATED CARBON FILTER INLET PRESSURE\\nKg/cm2</th>\n",
       "      <th>WATER SOFTENER INTLET PRESSURE\\nKg/cm2</th>\n",
       "      <th>WATER SOFTENER OUTLET PRESSURE\\nKg/cm2</th>\n",
       "      <th>PRESSURE DIFFERENCE</th>\n",
       "      <th>SOFTENER OUTLET WATER HARDNESS\\nPPM</th>\n",
       "      <th>SOFTENER OUTLET WATER \\nT D S\\nPPM</th>\n",
       "      <th>SOFTENER OUTLET  WATER \\nPH</th>\n",
       "      <th>SOFTENER OUTLET WATER \\nTURBIDITY\\n(&lt;10)\\n</th>\n",
       "      <th>SOFTENER INLET PRESSURE\\n(Min. 2 Kg/Cm2)</th>\n",
       "      <th>NaCL QUANTITY</th>\n",
       "      <th>WATER QUANTITY</th>\n",
       "      <th>HARDNESS BEFORE RENERATION</th>\n",
       "      <th>HARDNESS AFTER REGENERATION</th>\n",
       "      <th>POTABILITY</th>\n",
       "    </tr>\n",
       "  </thead>\n",
       "  <tbody>\n",
       "    <tr>\n",
       "      <th>0</th>\n",
       "      <td>82.00</td>\n",
       "      <td>235.0</td>\n",
       "      <td>7.7</td>\n",
       "      <td>86.39</td>\n",
       "      <td>2.8</td>\n",
       "      <td>1.8</td>\n",
       "      <td>1.3</td>\n",
       "      <td>0.5</td>\n",
       "      <td>1.5</td>\n",
       "      <td>44</td>\n",
       "      <td>230</td>\n",
       "      <td>7.0</td>\n",
       "      <td>8.3</td>\n",
       "      <td>2.6</td>\n",
       "      <td>150.00</td>\n",
       "      <td>14.64</td>\n",
       "      <td>82.00</td>\n",
       "      <td>44</td>\n",
       "      <td>0</td>\n",
       "    </tr>\n",
       "    <tr>\n",
       "      <th>1</th>\n",
       "      <td>85.00</td>\n",
       "      <td>186.0</td>\n",
       "      <td>7.5</td>\n",
       "      <td>86.39</td>\n",
       "      <td>2.8</td>\n",
       "      <td>1.6</td>\n",
       "      <td>1.4</td>\n",
       "      <td>0.6</td>\n",
       "      <td>1.4</td>\n",
       "      <td>44</td>\n",
       "      <td>183</td>\n",
       "      <td>7.2</td>\n",
       "      <td>8.3</td>\n",
       "      <td>2.8</td>\n",
       "      <td>150.00</td>\n",
       "      <td>14.64</td>\n",
       "      <td>85.00</td>\n",
       "      <td>44</td>\n",
       "      <td>0</td>\n",
       "    </tr>\n",
       "    <tr>\n",
       "      <th>2</th>\n",
       "      <td>87.00</td>\n",
       "      <td>174.0</td>\n",
       "      <td>7.4</td>\n",
       "      <td>86.39</td>\n",
       "      <td>2.9</td>\n",
       "      <td>1.7</td>\n",
       "      <td>1.6</td>\n",
       "      <td>0.4</td>\n",
       "      <td>1.3</td>\n",
       "      <td>48</td>\n",
       "      <td>163</td>\n",
       "      <td>7.0</td>\n",
       "      <td>8.3</td>\n",
       "      <td>2.5</td>\n",
       "      <td>150.00</td>\n",
       "      <td>14.64</td>\n",
       "      <td>87.00</td>\n",
       "      <td>48</td>\n",
       "      <td>0</td>\n",
       "    </tr>\n",
       "    <tr>\n",
       "      <th>3</th>\n",
       "      <td>80.00</td>\n",
       "      <td>225.0</td>\n",
       "      <td>7.3</td>\n",
       "      <td>86.39</td>\n",
       "      <td>2.9</td>\n",
       "      <td>1.7</td>\n",
       "      <td>1.6</td>\n",
       "      <td>0.5</td>\n",
       "      <td>1.3</td>\n",
       "      <td>50</td>\n",
       "      <td>220</td>\n",
       "      <td>7.0</td>\n",
       "      <td>8.3</td>\n",
       "      <td>2.4</td>\n",
       "      <td>150.00</td>\n",
       "      <td>14.64</td>\n",
       "      <td>88.00</td>\n",
       "      <td>45</td>\n",
       "      <td>0</td>\n",
       "    </tr>\n",
       "    <tr>\n",
       "      <th>4</th>\n",
       "      <td>82.00</td>\n",
       "      <td>276.0</td>\n",
       "      <td>7.7</td>\n",
       "      <td>86.39</td>\n",
       "      <td>2.8</td>\n",
       "      <td>1.8</td>\n",
       "      <td>1.5</td>\n",
       "      <td>0.5</td>\n",
       "      <td>1.3</td>\n",
       "      <td>42</td>\n",
       "      <td>271</td>\n",
       "      <td>7.0</td>\n",
       "      <td>8.3</td>\n",
       "      <td>2.5</td>\n",
       "      <td>150.00</td>\n",
       "      <td>14.64</td>\n",
       "      <td>85.00</td>\n",
       "      <td>42</td>\n",
       "      <td>0</td>\n",
       "    </tr>\n",
       "    <tr>\n",
       "      <th>...</th>\n",
       "      <td>...</td>\n",
       "      <td>...</td>\n",
       "      <td>...</td>\n",
       "      <td>...</td>\n",
       "      <td>...</td>\n",
       "      <td>...</td>\n",
       "      <td>...</td>\n",
       "      <td>...</td>\n",
       "      <td>...</td>\n",
       "      <td>...</td>\n",
       "      <td>...</td>\n",
       "      <td>...</td>\n",
       "      <td>...</td>\n",
       "      <td>...</td>\n",
       "      <td>...</td>\n",
       "      <td>...</td>\n",
       "      <td>...</td>\n",
       "      <td>...</td>\n",
       "      <td>...</td>\n",
       "    </tr>\n",
       "    <tr>\n",
       "      <th>618</th>\n",
       "      <td>647.03</td>\n",
       "      <td>410.0</td>\n",
       "      <td>9.0</td>\n",
       "      <td>14.60</td>\n",
       "      <td>2.0</td>\n",
       "      <td>1.8</td>\n",
       "      <td>1.7</td>\n",
       "      <td>0.7</td>\n",
       "      <td>0.3</td>\n",
       "      <td>52</td>\n",
       "      <td>296</td>\n",
       "      <td>7.0</td>\n",
       "      <td>7.5</td>\n",
       "      <td>1.8</td>\n",
       "      <td>160.00</td>\n",
       "      <td>15.00</td>\n",
       "      <td>646.99</td>\n",
       "      <td>18</td>\n",
       "      <td>0</td>\n",
       "    </tr>\n",
       "    <tr>\n",
       "      <th>619</th>\n",
       "      <td>647.03</td>\n",
       "      <td>510.0</td>\n",
       "      <td>8.0</td>\n",
       "      <td>18.10</td>\n",
       "      <td>2.1</td>\n",
       "      <td>1.9</td>\n",
       "      <td>1.8</td>\n",
       "      <td>0.7</td>\n",
       "      <td>0.3</td>\n",
       "      <td>62</td>\n",
       "      <td>310</td>\n",
       "      <td>7.0</td>\n",
       "      <td>-0.4</td>\n",
       "      <td>1.7</td>\n",
       "      <td>160.00</td>\n",
       "      <td>15.00</td>\n",
       "      <td>646.99</td>\n",
       "      <td>64</td>\n",
       "      <td>1</td>\n",
       "    </tr>\n",
       "    <tr>\n",
       "      <th>620</th>\n",
       "      <td>647.03</td>\n",
       "      <td>490.0</td>\n",
       "      <td>7.5</td>\n",
       "      <td>18.00</td>\n",
       "      <td>2.0</td>\n",
       "      <td>1.8</td>\n",
       "      <td>1.7</td>\n",
       "      <td>0.7</td>\n",
       "      <td>0.3</td>\n",
       "      <td>58</td>\n",
       "      <td>290</td>\n",
       "      <td>7.5</td>\n",
       "      <td>-1.1</td>\n",
       "      <td>1.8</td>\n",
       "      <td>160.00</td>\n",
       "      <td>14.00</td>\n",
       "      <td>646.99</td>\n",
       "      <td>50</td>\n",
       "      <td>0</td>\n",
       "    </tr>\n",
       "    <tr>\n",
       "      <th>621</th>\n",
       "      <td>647.03</td>\n",
       "      <td>460.0</td>\n",
       "      <td>7.5</td>\n",
       "      <td>16.70</td>\n",
       "      <td>2.1</td>\n",
       "      <td>1.9</td>\n",
       "      <td>1.8</td>\n",
       "      <td>0.7</td>\n",
       "      <td>0.3</td>\n",
       "      <td>64</td>\n",
       "      <td>460</td>\n",
       "      <td>7.0</td>\n",
       "      <td>10.5</td>\n",
       "      <td>1.7</td>\n",
       "      <td>160.00</td>\n",
       "      <td>15.00</td>\n",
       "      <td>646.99</td>\n",
       "      <td>30</td>\n",
       "      <td>0</td>\n",
       "    </tr>\n",
       "    <tr>\n",
       "      <th>622</th>\n",
       "      <td>647.03</td>\n",
       "      <td>510.0</td>\n",
       "      <td>7.0</td>\n",
       "      <td>18.10</td>\n",
       "      <td>2.1</td>\n",
       "      <td>1.9</td>\n",
       "      <td>1.8</td>\n",
       "      <td>0.7</td>\n",
       "      <td>0.3</td>\n",
       "      <td>60</td>\n",
       "      <td>308</td>\n",
       "      <td>7.5</td>\n",
       "      <td>-1.3</td>\n",
       "      <td>1.7</td>\n",
       "      <td>108.51</td>\n",
       "      <td>14.00</td>\n",
       "      <td>646.99</td>\n",
       "      <td>40</td>\n",
       "      <td>0</td>\n",
       "    </tr>\n",
       "  </tbody>\n",
       "</table>\n",
       "<p>623 rows × 19 columns</p>\n",
       "</div>"
      ],
      "text/plain": [
       "     FEED WATER HARDNESS\\nPPM  FEED WATER \\nT D S\\nPPM  FEED WATER \\nPH  \\\n",
       "0                       82.00                    235.0              7.7   \n",
       "1                       85.00                    186.0              7.5   \n",
       "2                       87.00                    174.0              7.4   \n",
       "3                       80.00                    225.0              7.3   \n",
       "4                       82.00                    276.0              7.7   \n",
       "..                        ...                      ...              ...   \n",
       "618                    647.03                    410.0              9.0   \n",
       "619                    647.03                    510.0              8.0   \n",
       "620                    647.03                    490.0              7.5   \n",
       "621                    647.03                    460.0              7.5   \n",
       "622                    647.03                    510.0              7.0   \n",
       "\n",
       "     FEED WATER \\nTURBIDITY\\n(<10)\\n  \\\n",
       "0                              86.39   \n",
       "1                              86.39   \n",
       "2                              86.39   \n",
       "3                              86.39   \n",
       "4                              86.39   \n",
       "..                               ...   \n",
       "618                            14.60   \n",
       "619                            18.10   \n",
       "620                            18.00   \n",
       "621                            16.70   \n",
       "622                            18.10   \n",
       "\n",
       "     PRESSURE SAND FILTER INLET PRESSURE\\nKg/cm2  \\\n",
       "0                                            2.8   \n",
       "1                                            2.8   \n",
       "2                                            2.9   \n",
       "3                                            2.9   \n",
       "4                                            2.8   \n",
       "..                                           ...   \n",
       "618                                          2.0   \n",
       "619                                          2.1   \n",
       "620                                          2.0   \n",
       "621                                          2.1   \n",
       "622                                          2.1   \n",
       "\n",
       "     ACTIVATED CARBON FILTER INLET PRESSURE\\nKg/cm2  \\\n",
       "0                                               1.8   \n",
       "1                                               1.6   \n",
       "2                                               1.7   \n",
       "3                                               1.7   \n",
       "4                                               1.8   \n",
       "..                                              ...   \n",
       "618                                             1.8   \n",
       "619                                             1.9   \n",
       "620                                             1.8   \n",
       "621                                             1.9   \n",
       "622                                             1.9   \n",
       "\n",
       "     WATER SOFTENER INTLET PRESSURE\\nKg/cm2  \\\n",
       "0                                       1.3   \n",
       "1                                       1.4   \n",
       "2                                       1.6   \n",
       "3                                       1.6   \n",
       "4                                       1.5   \n",
       "..                                      ...   \n",
       "618                                     1.7   \n",
       "619                                     1.8   \n",
       "620                                     1.7   \n",
       "621                                     1.8   \n",
       "622                                     1.8   \n",
       "\n",
       "     WATER SOFTENER OUTLET PRESSURE\\nKg/cm2  PRESSURE DIFFERENCE  \\\n",
       "0                                       0.5                  1.5   \n",
       "1                                       0.6                  1.4   \n",
       "2                                       0.4                  1.3   \n",
       "3                                       0.5                  1.3   \n",
       "4                                       0.5                  1.3   \n",
       "..                                      ...                  ...   \n",
       "618                                     0.7                  0.3   \n",
       "619                                     0.7                  0.3   \n",
       "620                                     0.7                  0.3   \n",
       "621                                     0.7                  0.3   \n",
       "622                                     0.7                  0.3   \n",
       "\n",
       "     SOFTENER OUTLET WATER HARDNESS\\nPPM  SOFTENER OUTLET WATER \\nT D S\\nPPM  \\\n",
       "0                                     44                                 230   \n",
       "1                                     44                                 183   \n",
       "2                                     48                                 163   \n",
       "3                                     50                                 220   \n",
       "4                                     42                                 271   \n",
       "..                                   ...                                 ...   \n",
       "618                                   52                                 296   \n",
       "619                                   62                                 310   \n",
       "620                                   58                                 290   \n",
       "621                                   64                                 460   \n",
       "622                                   60                                 308   \n",
       "\n",
       "     SOFTENER OUTLET  WATER \\nPH  SOFTENER OUTLET WATER \\nTURBIDITY\\n(<10)\\n  \\\n",
       "0                            7.0                                         8.3   \n",
       "1                            7.2                                         8.3   \n",
       "2                            7.0                                         8.3   \n",
       "3                            7.0                                         8.3   \n",
       "4                            7.0                                         8.3   \n",
       "..                           ...                                         ...   \n",
       "618                          7.0                                         7.5   \n",
       "619                          7.0                                        -0.4   \n",
       "620                          7.5                                        -1.1   \n",
       "621                          7.0                                        10.5   \n",
       "622                          7.5                                        -1.3   \n",
       "\n",
       "     SOFTENER INLET PRESSURE\\n(Min. 2 Kg/Cm2)  NaCL QUANTITY  WATER QUANTITY  \\\n",
       "0                                         2.6         150.00           14.64   \n",
       "1                                         2.8         150.00           14.64   \n",
       "2                                         2.5         150.00           14.64   \n",
       "3                                         2.4         150.00           14.64   \n",
       "4                                         2.5         150.00           14.64   \n",
       "..                                        ...            ...             ...   \n",
       "618                                       1.8         160.00           15.00   \n",
       "619                                       1.7         160.00           15.00   \n",
       "620                                       1.8         160.00           14.00   \n",
       "621                                       1.7         160.00           15.00   \n",
       "622                                       1.7         108.51           14.00   \n",
       "\n",
       "     HARDNESS BEFORE RENERATION  HARDNESS AFTER REGENERATION  POTABILITY  \n",
       "0                         82.00                           44           0  \n",
       "1                         85.00                           44           0  \n",
       "2                         87.00                           48           0  \n",
       "3                         88.00                           45           0  \n",
       "4                         85.00                           42           0  \n",
       "..                          ...                          ...         ...  \n",
       "618                      646.99                           18           0  \n",
       "619                      646.99                           64           1  \n",
       "620                      646.99                           50           0  \n",
       "621                      646.99                           30           0  \n",
       "622                      646.99                           40           0  \n",
       "\n",
       "[623 rows x 19 columns]"
      ]
     },
     "execution_count": 17,
     "metadata": {},
     "output_type": "execute_result"
    }
   ],
   "source": [
    "df"
   ]
  },
  {
   "cell_type": "code",
   "execution_count": 18,
   "id": "6d70d963",
   "metadata": {},
   "outputs": [
    {
     "data": {
      "text/plain": [
       "array([0, 1])"
      ]
     },
     "execution_count": 18,
     "metadata": {},
     "output_type": "execute_result"
    }
   ],
   "source": [
    "df['POTABILITY'].unique()"
   ]
  },
  {
   "cell_type": "markdown",
   "id": "25e28c0d",
   "metadata": {},
   "source": [
    "# Machine Learning"
   ]
  },
  {
   "cell_type": "code",
   "execution_count": 19,
   "id": "033eb6e5",
   "metadata": {},
   "outputs": [
    {
     "data": {
      "text/html": [
       "<div>\n",
       "<style scoped>\n",
       "    .dataframe tbody tr th:only-of-type {\n",
       "        vertical-align: middle;\n",
       "    }\n",
       "\n",
       "    .dataframe tbody tr th {\n",
       "        vertical-align: top;\n",
       "    }\n",
       "\n",
       "    .dataframe thead th {\n",
       "        text-align: right;\n",
       "    }\n",
       "</style>\n",
       "<table border=\"1\" class=\"dataframe\">\n",
       "  <thead>\n",
       "    <tr style=\"text-align: right;\">\n",
       "      <th></th>\n",
       "      <th>FEED WATER HARDNESS\\nPPM</th>\n",
       "      <th>FEED WATER \\nT D S\\nPPM</th>\n",
       "      <th>FEED WATER \\nPH</th>\n",
       "      <th>FEED WATER \\nTURBIDITY\\n(&lt;10)\\n</th>\n",
       "      <th>PRESSURE SAND FILTER INLET PRESSURE\\nKg/cm2</th>\n",
       "      <th>ACTIVATED CARBON FILTER INLET PRESSURE\\nKg/cm2</th>\n",
       "      <th>WATER SOFTENER INTLET PRESSURE\\nKg/cm2</th>\n",
       "      <th>WATER SOFTENER OUTLET PRESSURE\\nKg/cm2</th>\n",
       "      <th>PRESSURE DIFFERENCE</th>\n",
       "      <th>SOFTENER OUTLET WATER HARDNESS\\nPPM</th>\n",
       "      <th>SOFTENER OUTLET WATER \\nT D S\\nPPM</th>\n",
       "      <th>SOFTENER OUTLET  WATER \\nPH</th>\n",
       "      <th>SOFTENER OUTLET WATER \\nTURBIDITY\\n(&lt;10)\\n</th>\n",
       "      <th>SOFTENER INLET PRESSURE\\n(Min. 2 Kg/Cm2)</th>\n",
       "      <th>NaCL QUANTITY</th>\n",
       "      <th>WATER QUANTITY</th>\n",
       "      <th>HARDNESS BEFORE RENERATION</th>\n",
       "      <th>HARDNESS AFTER REGENERATION</th>\n",
       "      <th>POTABILITY</th>\n",
       "    </tr>\n",
       "  </thead>\n",
       "  <tbody>\n",
       "    <tr>\n",
       "      <th>0</th>\n",
       "      <td>82.0</td>\n",
       "      <td>235.0</td>\n",
       "      <td>7.7</td>\n",
       "      <td>86.39</td>\n",
       "      <td>2.8</td>\n",
       "      <td>1.8</td>\n",
       "      <td>1.3</td>\n",
       "      <td>0.5</td>\n",
       "      <td>1.5</td>\n",
       "      <td>44</td>\n",
       "      <td>230</td>\n",
       "      <td>7.0</td>\n",
       "      <td>8.3</td>\n",
       "      <td>2.6</td>\n",
       "      <td>150.0</td>\n",
       "      <td>14.64</td>\n",
       "      <td>82.0</td>\n",
       "      <td>44</td>\n",
       "      <td>0</td>\n",
       "    </tr>\n",
       "    <tr>\n",
       "      <th>1</th>\n",
       "      <td>85.0</td>\n",
       "      <td>186.0</td>\n",
       "      <td>7.5</td>\n",
       "      <td>86.39</td>\n",
       "      <td>2.8</td>\n",
       "      <td>1.6</td>\n",
       "      <td>1.4</td>\n",
       "      <td>0.6</td>\n",
       "      <td>1.4</td>\n",
       "      <td>44</td>\n",
       "      <td>183</td>\n",
       "      <td>7.2</td>\n",
       "      <td>8.3</td>\n",
       "      <td>2.8</td>\n",
       "      <td>150.0</td>\n",
       "      <td>14.64</td>\n",
       "      <td>85.0</td>\n",
       "      <td>44</td>\n",
       "      <td>0</td>\n",
       "    </tr>\n",
       "    <tr>\n",
       "      <th>2</th>\n",
       "      <td>87.0</td>\n",
       "      <td>174.0</td>\n",
       "      <td>7.4</td>\n",
       "      <td>86.39</td>\n",
       "      <td>2.9</td>\n",
       "      <td>1.7</td>\n",
       "      <td>1.6</td>\n",
       "      <td>0.4</td>\n",
       "      <td>1.3</td>\n",
       "      <td>48</td>\n",
       "      <td>163</td>\n",
       "      <td>7.0</td>\n",
       "      <td>8.3</td>\n",
       "      <td>2.5</td>\n",
       "      <td>150.0</td>\n",
       "      <td>14.64</td>\n",
       "      <td>87.0</td>\n",
       "      <td>48</td>\n",
       "      <td>0</td>\n",
       "    </tr>\n",
       "    <tr>\n",
       "      <th>3</th>\n",
       "      <td>80.0</td>\n",
       "      <td>225.0</td>\n",
       "      <td>7.3</td>\n",
       "      <td>86.39</td>\n",
       "      <td>2.9</td>\n",
       "      <td>1.7</td>\n",
       "      <td>1.6</td>\n",
       "      <td>0.5</td>\n",
       "      <td>1.3</td>\n",
       "      <td>50</td>\n",
       "      <td>220</td>\n",
       "      <td>7.0</td>\n",
       "      <td>8.3</td>\n",
       "      <td>2.4</td>\n",
       "      <td>150.0</td>\n",
       "      <td>14.64</td>\n",
       "      <td>88.0</td>\n",
       "      <td>45</td>\n",
       "      <td>0</td>\n",
       "    </tr>\n",
       "    <tr>\n",
       "      <th>4</th>\n",
       "      <td>82.0</td>\n",
       "      <td>276.0</td>\n",
       "      <td>7.7</td>\n",
       "      <td>86.39</td>\n",
       "      <td>2.8</td>\n",
       "      <td>1.8</td>\n",
       "      <td>1.5</td>\n",
       "      <td>0.5</td>\n",
       "      <td>1.3</td>\n",
       "      <td>42</td>\n",
       "      <td>271</td>\n",
       "      <td>7.0</td>\n",
       "      <td>8.3</td>\n",
       "      <td>2.5</td>\n",
       "      <td>150.0</td>\n",
       "      <td>14.64</td>\n",
       "      <td>85.0</td>\n",
       "      <td>42</td>\n",
       "      <td>0</td>\n",
       "    </tr>\n",
       "  </tbody>\n",
       "</table>\n",
       "</div>"
      ],
      "text/plain": [
       "   FEED WATER HARDNESS\\nPPM  FEED WATER \\nT D S\\nPPM  FEED WATER \\nPH  \\\n",
       "0                      82.0                    235.0              7.7   \n",
       "1                      85.0                    186.0              7.5   \n",
       "2                      87.0                    174.0              7.4   \n",
       "3                      80.0                    225.0              7.3   \n",
       "4                      82.0                    276.0              7.7   \n",
       "\n",
       "   FEED WATER \\nTURBIDITY\\n(<10)\\n  \\\n",
       "0                            86.39   \n",
       "1                            86.39   \n",
       "2                            86.39   \n",
       "3                            86.39   \n",
       "4                            86.39   \n",
       "\n",
       "   PRESSURE SAND FILTER INLET PRESSURE\\nKg/cm2  \\\n",
       "0                                          2.8   \n",
       "1                                          2.8   \n",
       "2                                          2.9   \n",
       "3                                          2.9   \n",
       "4                                          2.8   \n",
       "\n",
       "   ACTIVATED CARBON FILTER INLET PRESSURE\\nKg/cm2  \\\n",
       "0                                             1.8   \n",
       "1                                             1.6   \n",
       "2                                             1.7   \n",
       "3                                             1.7   \n",
       "4                                             1.8   \n",
       "\n",
       "   WATER SOFTENER INTLET PRESSURE\\nKg/cm2  \\\n",
       "0                                     1.3   \n",
       "1                                     1.4   \n",
       "2                                     1.6   \n",
       "3                                     1.6   \n",
       "4                                     1.5   \n",
       "\n",
       "   WATER SOFTENER OUTLET PRESSURE\\nKg/cm2  PRESSURE DIFFERENCE  \\\n",
       "0                                     0.5                  1.5   \n",
       "1                                     0.6                  1.4   \n",
       "2                                     0.4                  1.3   \n",
       "3                                     0.5                  1.3   \n",
       "4                                     0.5                  1.3   \n",
       "\n",
       "   SOFTENER OUTLET WATER HARDNESS\\nPPM  SOFTENER OUTLET WATER \\nT D S\\nPPM  \\\n",
       "0                                   44                                 230   \n",
       "1                                   44                                 183   \n",
       "2                                   48                                 163   \n",
       "3                                   50                                 220   \n",
       "4                                   42                                 271   \n",
       "\n",
       "   SOFTENER OUTLET  WATER \\nPH  SOFTENER OUTLET WATER \\nTURBIDITY\\n(<10)\\n  \\\n",
       "0                          7.0                                         8.3   \n",
       "1                          7.2                                         8.3   \n",
       "2                          7.0                                         8.3   \n",
       "3                          7.0                                         8.3   \n",
       "4                          7.0                                         8.3   \n",
       "\n",
       "   SOFTENER INLET PRESSURE\\n(Min. 2 Kg/Cm2)  NaCL QUANTITY  WATER QUANTITY  \\\n",
       "0                                       2.6          150.0           14.64   \n",
       "1                                       2.8          150.0           14.64   \n",
       "2                                       2.5          150.0           14.64   \n",
       "3                                       2.4          150.0           14.64   \n",
       "4                                       2.5          150.0           14.64   \n",
       "\n",
       "   HARDNESS BEFORE RENERATION  HARDNESS AFTER REGENERATION  POTABILITY  \n",
       "0                        82.0                           44           0  \n",
       "1                        85.0                           44           0  \n",
       "2                        87.0                           48           0  \n",
       "3                        88.0                           45           0  \n",
       "4                        85.0                           42           0  "
      ]
     },
     "execution_count": 19,
     "metadata": {},
     "output_type": "execute_result"
    }
   ],
   "source": [
    "data.head()"
   ]
  },
  {
   "cell_type": "code",
   "execution_count": 20,
   "id": "4fc072e8",
   "metadata": {},
   "outputs": [],
   "source": [
    "x=df.drop('POTABILITY',axis=1)\n",
    "y=df['POTABILITY']"
   ]
  },
  {
   "cell_type": "code",
   "execution_count": 21,
   "id": "329f4959",
   "metadata": {},
   "outputs": [],
   "source": [
    "from sklearn.model_selection import train_test_split"
   ]
  },
  {
   "cell_type": "code",
   "execution_count": 22,
   "id": "aceff046",
   "metadata": {},
   "outputs": [],
   "source": [
    "x_train, x_test, y_train, y_test = train_test_split(x, y, test_size=0.2)"
   ]
  },
  {
   "cell_type": "markdown",
   "id": "25c44199",
   "metadata": {},
   "source": [
    "## Random Forest"
   ]
  },
  {
   "cell_type": "code",
   "execution_count": 23,
   "id": "b18b27da",
   "metadata": {},
   "outputs": [],
   "source": [
    "from sklearn.ensemble import RandomForestClassifier"
   ]
  },
  {
   "cell_type": "code",
   "execution_count": 24,
   "id": "cdf2c5bf",
   "metadata": {},
   "outputs": [
    {
     "data": {
      "text/plain": [
       "array([0, 1])"
      ]
     },
     "execution_count": 24,
     "metadata": {},
     "output_type": "execute_result"
    }
   ],
   "source": [
    "df['POTABILITY'].unique()"
   ]
  },
  {
   "cell_type": "code",
   "execution_count": 25,
   "id": "9fdb77d8",
   "metadata": {},
   "outputs": [
    {
     "data": {
      "text/html": [
       "<style>#sk-container-id-1 {color: black;}#sk-container-id-1 pre{padding: 0;}#sk-container-id-1 div.sk-toggleable {background-color: white;}#sk-container-id-1 label.sk-toggleable__label {cursor: pointer;display: block;width: 100%;margin-bottom: 0;padding: 0.3em;box-sizing: border-box;text-align: center;}#sk-container-id-1 label.sk-toggleable__label-arrow:before {content: \"▸\";float: left;margin-right: 0.25em;color: #696969;}#sk-container-id-1 label.sk-toggleable__label-arrow:hover:before {color: black;}#sk-container-id-1 div.sk-estimator:hover label.sk-toggleable__label-arrow:before {color: black;}#sk-container-id-1 div.sk-toggleable__content {max-height: 0;max-width: 0;overflow: hidden;text-align: left;background-color: #f0f8ff;}#sk-container-id-1 div.sk-toggleable__content pre {margin: 0.2em;color: black;border-radius: 0.25em;background-color: #f0f8ff;}#sk-container-id-1 input.sk-toggleable__control:checked~div.sk-toggleable__content {max-height: 200px;max-width: 100%;overflow: auto;}#sk-container-id-1 input.sk-toggleable__control:checked~label.sk-toggleable__label-arrow:before {content: \"▾\";}#sk-container-id-1 div.sk-estimator input.sk-toggleable__control:checked~label.sk-toggleable__label {background-color: #d4ebff;}#sk-container-id-1 div.sk-label input.sk-toggleable__control:checked~label.sk-toggleable__label {background-color: #d4ebff;}#sk-container-id-1 input.sk-hidden--visually {border: 0;clip: rect(1px 1px 1px 1px);clip: rect(1px, 1px, 1px, 1px);height: 1px;margin: -1px;overflow: hidden;padding: 0;position: absolute;width: 1px;}#sk-container-id-1 div.sk-estimator {font-family: monospace;background-color: #f0f8ff;border: 1px dotted black;border-radius: 0.25em;box-sizing: border-box;margin-bottom: 0.5em;}#sk-container-id-1 div.sk-estimator:hover {background-color: #d4ebff;}#sk-container-id-1 div.sk-parallel-item::after {content: \"\";width: 100%;border-bottom: 1px solid gray;flex-grow: 1;}#sk-container-id-1 div.sk-label:hover label.sk-toggleable__label {background-color: #d4ebff;}#sk-container-id-1 div.sk-serial::before {content: \"\";position: absolute;border-left: 1px solid gray;box-sizing: border-box;top: 0;bottom: 0;left: 50%;z-index: 0;}#sk-container-id-1 div.sk-serial {display: flex;flex-direction: column;align-items: center;background-color: white;padding-right: 0.2em;padding-left: 0.2em;position: relative;}#sk-container-id-1 div.sk-item {position: relative;z-index: 1;}#sk-container-id-1 div.sk-parallel {display: flex;align-items: stretch;justify-content: center;background-color: white;position: relative;}#sk-container-id-1 div.sk-item::before, #sk-container-id-1 div.sk-parallel-item::before {content: \"\";position: absolute;border-left: 1px solid gray;box-sizing: border-box;top: 0;bottom: 0;left: 50%;z-index: -1;}#sk-container-id-1 div.sk-parallel-item {display: flex;flex-direction: column;z-index: 1;position: relative;background-color: white;}#sk-container-id-1 div.sk-parallel-item:first-child::after {align-self: flex-end;width: 50%;}#sk-container-id-1 div.sk-parallel-item:last-child::after {align-self: flex-start;width: 50%;}#sk-container-id-1 div.sk-parallel-item:only-child::after {width: 0;}#sk-container-id-1 div.sk-dashed-wrapped {border: 1px dashed gray;margin: 0 0.4em 0.5em 0.4em;box-sizing: border-box;padding-bottom: 0.4em;background-color: white;}#sk-container-id-1 div.sk-label label {font-family: monospace;font-weight: bold;display: inline-block;line-height: 1.2em;}#sk-container-id-1 div.sk-label-container {text-align: center;}#sk-container-id-1 div.sk-container {/* jupyter's `normalize.less` sets `[hidden] { display: none; }` but bootstrap.min.css set `[hidden] { display: none !important; }` so we also need the `!important` here to be able to override the default hidden behavior on the sphinx rendered scikit-learn.org. See: https://github.com/scikit-learn/scikit-learn/issues/21755 */display: inline-block !important;position: relative;}#sk-container-id-1 div.sk-text-repr-fallback {display: none;}</style><div id=\"sk-container-id-1\" class=\"sk-top-container\"><div class=\"sk-text-repr-fallback\"><pre>RandomForestClassifier()</pre><b>In a Jupyter environment, please rerun this cell to show the HTML representation or trust the notebook. <br />On GitHub, the HTML representation is unable to render, please try loading this page with nbviewer.org.</b></div><div class=\"sk-container\" hidden><div class=\"sk-item\"><div class=\"sk-estimator sk-toggleable\"><input class=\"sk-toggleable__control sk-hidden--visually\" id=\"sk-estimator-id-1\" type=\"checkbox\" checked><label for=\"sk-estimator-id-1\" class=\"sk-toggleable__label sk-toggleable__label-arrow\">RandomForestClassifier</label><div class=\"sk-toggleable__content\"><pre>RandomForestClassifier()</pre></div></div></div></div></div>"
      ],
      "text/plain": [
       "RandomForestClassifier()"
      ]
     },
     "execution_count": 25,
     "metadata": {},
     "output_type": "execute_result"
    }
   ],
   "source": [
    "classification = RandomForestClassifier()\n",
    "classification.fit(x_train,y_train)"
   ]
  },
  {
   "cell_type": "code",
   "execution_count": 36,
   "id": "7a456be5",
   "metadata": {},
   "outputs": [],
   "source": [
    "y_pred=classification.predict(x_test)"
   ]
  },
  {
   "cell_type": "code",
   "execution_count": 37,
   "id": "cededbc0",
   "metadata": {},
   "outputs": [
    {
     "data": {
      "text/plain": [
       "0.8701298701298701"
      ]
     },
     "execution_count": 37,
     "metadata": {},
     "output_type": "execute_result"
    }
   ],
   "source": [
    "from sklearn.metrics import r2_score\n",
    "r2_score(y_pred,y_test)"
   ]
  },
  {
   "attachments": {
    "image.png": {
     "image/png": "[encoded data removed]"
    }
   },
   "cell_type": "markdown",
   "id": "7388caa3",
   "metadata": {},
   "source": [
    "#### New data (Randomly taken from the dataset) ![image.png](attachment:image.png)"
   ]
  },
  {
   "cell_type": "code",
   "execution_count": 42,
   "id": "85061287",
   "metadata": {},
   "outputs": [],
   "source": [
    "import warnings\n",
    "warnings.filterwarnings(\"ignore\")"
   ]
  },
  {
   "cell_type": "code",
   "execution_count": 43,
   "id": "1a20d6e4",
   "metadata": {},
   "outputs": [
    {
     "data": {
      "text/plain": [
       "array([0])"
      ]
     },
     "execution_count": 43,
     "metadata": {},
     "output_type": "execute_result"
    }
   ],
   "source": [
    "classification.predict([[945,560,8.2,22,3.5,1.5,1.4,0.5,2.1,40,266,7.1,1.1,2.9,145,14,945,40]]) #o/p is 0"
   ]
  },
  {
   "cell_type": "markdown",
   "id": "ed60156e",
   "metadata": {},
   "source": [
    "## Decision Tree"
   ]
  },
  {
   "cell_type": "code",
   "execution_count": 49,
   "id": "ac4b66f2",
   "metadata": {},
   "outputs": [],
   "source": [
    "from sklearn.tree import DecisionTreeClassifier"
   ]
  },
  {
   "cell_type": "code",
   "execution_count": 50,
   "id": "e3617148",
   "metadata": {},
   "outputs": [
    {
     "data": {
      "text/html": [
       "<style>#sk-container-id-3 {color: black;}#sk-container-id-3 pre{padding: 0;}#sk-container-id-3 div.sk-toggleable {background-color: white;}#sk-container-id-3 label.sk-toggleable__label {cursor: pointer;display: block;width: 100%;margin-bottom: 0;padding: 0.3em;box-sizing: border-box;text-align: center;}#sk-container-id-3 label.sk-toggleable__label-arrow:before {content: \"▸\";float: left;margin-right: 0.25em;color: #696969;}#sk-container-id-3 label.sk-toggleable__label-arrow:hover:before {color: black;}#sk-container-id-3 div.sk-estimator:hover label.sk-toggleable__label-arrow:before {color: black;}#sk-container-id-3 div.sk-toggleable__content {max-height: 0;max-width: 0;overflow: hidden;text-align: left;background-color: #f0f8ff;}#sk-container-id-3 div.sk-toggleable__content pre {margin: 0.2em;color: black;border-radius: 0.25em;background-color: #f0f8ff;}#sk-container-id-3 input.sk-toggleable__control:checked~div.sk-toggleable__content {max-height: 200px;max-width: 100%;overflow: auto;}#sk-container-id-3 input.sk-toggleable__control:checked~label.sk-toggleable__label-arrow:before {content: \"▾\";}#sk-container-id-3 div.sk-estimator input.sk-toggleable__control:checked~label.sk-toggleable__label {background-color: #d4ebff;}#sk-container-id-3 div.sk-label input.sk-toggleable__control:checked~label.sk-toggleable__label {background-color: #d4ebff;}#sk-container-id-3 input.sk-hidden--visually {border: 0;clip: rect(1px 1px 1px 1px);clip: rect(1px, 1px, 1px, 1px);height: 1px;margin: -1px;overflow: hidden;padding: 0;position: absolute;width: 1px;}#sk-container-id-3 div.sk-estimator {font-family: monospace;background-color: #f0f8ff;border: 1px dotted black;border-radius: 0.25em;box-sizing: border-box;margin-bottom: 0.5em;}#sk-container-id-3 div.sk-estimator:hover {background-color: #d4ebff;}#sk-container-id-3 div.sk-parallel-item::after {content: \"\";width: 100%;border-bottom: 1px solid gray;flex-grow: 1;}#sk-container-id-3 div.sk-label:hover label.sk-toggleable__label {background-color: #d4ebff;}#sk-container-id-3 div.sk-serial::before {content: \"\";position: absolute;border-left: 1px solid gray;box-sizing: border-box;top: 0;bottom: 0;left: 50%;z-index: 0;}#sk-container-id-3 div.sk-serial {display: flex;flex-direction: column;align-items: center;background-color: white;padding-right: 0.2em;padding-left: 0.2em;position: relative;}#sk-container-id-3 div.sk-item {position: relative;z-index: 1;}#sk-container-id-3 div.sk-parallel {display: flex;align-items: stretch;justify-content: center;background-color: white;position: relative;}#sk-container-id-3 div.sk-item::before, #sk-container-id-3 div.sk-parallel-item::before {content: \"\";position: absolute;border-left: 1px solid gray;box-sizing: border-box;top: 0;bottom: 0;left: 50%;z-index: -1;}#sk-container-id-3 div.sk-parallel-item {display: flex;flex-direction: column;z-index: 1;position: relative;background-color: white;}#sk-container-id-3 div.sk-parallel-item:first-child::after {align-self: flex-end;width: 50%;}#sk-container-id-3 div.sk-parallel-item:last-child::after {align-self: flex-start;width: 50%;}#sk-container-id-3 div.sk-parallel-item:only-child::after {width: 0;}#sk-container-id-3 div.sk-dashed-wrapped {border: 1px dashed gray;margin: 0 0.4em 0.5em 0.4em;box-sizing: border-box;padding-bottom: 0.4em;background-color: white;}#sk-container-id-3 div.sk-label label {font-family: monospace;font-weight: bold;display: inline-block;line-height: 1.2em;}#sk-container-id-3 div.sk-label-container {text-align: center;}#sk-container-id-3 div.sk-container {/* jupyter's `normalize.less` sets `[hidden] { display: none; }` but bootstrap.min.css set `[hidden] { display: none !important; }` so we also need the `!important` here to be able to override the default hidden behavior on the sphinx rendered scikit-learn.org. See: https://github.com/scikit-learn/scikit-learn/issues/21755 */display: inline-block !important;position: relative;}#sk-container-id-3 div.sk-text-repr-fallback {display: none;}</style><div id=\"sk-container-id-3\" class=\"sk-top-container\"><div class=\"sk-text-repr-fallback\"><pre>DecisionTreeClassifier()</pre><b>In a Jupyter environment, please rerun this cell to show the HTML representation or trust the notebook. <br />On GitHub, the HTML representation is unable to render, please try loading this page with nbviewer.org.</b></div><div class=\"sk-container\" hidden><div class=\"sk-item\"><div class=\"sk-estimator sk-toggleable\"><input class=\"sk-toggleable__control sk-hidden--visually\" id=\"sk-estimator-id-3\" type=\"checkbox\" checked><label for=\"sk-estimator-id-3\" class=\"sk-toggleable__label sk-toggleable__label-arrow\">DecisionTreeClassifier</label><div class=\"sk-toggleable__content\"><pre>DecisionTreeClassifier()</pre></div></div></div></div></div>"
      ],
      "text/plain": [
       "DecisionTreeClassifier()"
      ]
     },
     "execution_count": 50,
     "metadata": {},
     "output_type": "execute_result"
    }
   ],
   "source": [
    "cla = DecisionTreeClassifier()\n",
    "cla.fit(x_train,y_train)"
   ]
  },
  {
   "cell_type": "code",
   "execution_count": 51,
   "id": "4e1dfcd6",
   "metadata": {},
   "outputs": [],
   "source": [
    "y_predicted=cla.predict(x_test)"
   ]
  },
  {
   "cell_type": "code",
   "execution_count": 52,
   "id": "abbf252e",
   "metadata": {},
   "outputs": [
    {
     "data": {
      "text/plain": [
       "0.9012118018967333"
      ]
     },
     "execution_count": 52,
     "metadata": {},
     "output_type": "execute_result"
    }
   ],
   "source": [
    "from sklearn.metrics import r2_score\n",
    "r2_score(y_predicted,y_test)"
   ]
  },
  {
   "cell_type": "code",
   "execution_count": 53,
   "id": "62ac618a",
   "metadata": {},
   "outputs": [
    {
     "data": {
      "text/plain": [
       "array([0])"
      ]
     },
     "execution_count": 53,
     "metadata": {},
     "output_type": "execute_result"
    }
   ],
   "source": [
    "cla.predict([[945,560,8.2,22,3.5,1.5,1.4,0.5,2.1,40,266,7.1,1.1,2.9,145,14,945,40]]) #o/p is 0"
   ]
  },
  {
   "cell_type": "markdown",
   "id": "d5d98f20",
   "metadata": {},
   "source": [
    "# Deep Learning (ANN)"
   ]
  },
  {
   "cell_type": "code",
   "execution_count": 57,
   "id": "ebef835e",
   "metadata": {},
   "outputs": [
    {
     "data": {
      "text/plain": [
       "19"
      ]
     },
     "execution_count": 57,
     "metadata": {},
     "output_type": "execute_result"
    }
   ],
   "source": [
    "data.columns.value_counts().sum()"
   ]
  },
  {
   "cell_type": "code",
   "execution_count": 156,
   "id": "2d43afab",
   "metadata": {},
   "outputs": [],
   "source": [
    "import tensorflow.keras\n",
    "from tensorflow.keras.models import Sequential\n",
    "from tensorflow.keras.layers import Dense,LeakyReLU\n",
    "from tensorflow.keras.layers import Dropout"
   ]
  },
  {
   "cell_type": "code",
   "execution_count": 206,
   "id": "69b2906c",
   "metadata": {},
   "outputs": [],
   "source": [
    "classifier = Sequential()\n",
    "classifier.add(Dense(units = 500,kernel_initializer='he_uniform',activation='relu',input_dim = 18))\n",
    "classifier.add(Dense(units = 250, kernel_initializer = 'he_uniform',activation='relu'))\n",
    "classifier.add(Dense(units = 100, kernel_initializer = 'he_uniform',activation='relu'))\n",
    "classifier.add(Dense(units = 1, kernel_initializer = 'glorot_uniform', activation = 'sigmoid'))\n",
    "classifier.compile(optimizer = 'adam', loss = 'binary_crossentropy', metrics = ['accuracy'])"
   ]
  },
  {
   "cell_type": "code",
   "execution_count": 207,
   "id": "e4c5f4f5",
   "metadata": {},
   "outputs": [
    {
     "name": "stdout",
     "output_type": "stream",
     "text": [
      "Model: \"sequential_11\"\n",
      "_________________________________________________________________\n",
      " Layer (type)                Output Shape              Param #   \n",
      "=================================================================\n",
      " dense_33 (Dense)            (None, 500)               9500      \n",
      "                                                                 \n",
      " dense_34 (Dense)            (None, 250)               125250    \n",
      "                                                                 \n",
      " dense_35 (Dense)            (None, 100)               25100     \n",
      "                                                                 \n",
      " dense_36 (Dense)            (None, 1)                 101       \n",
      "                                                                 \n",
      "=================================================================\n",
      "Total params: 159951 (624.81 KB)\n",
      "Trainable params: 159951 (624.81 KB)\n",
      "Non-trainable params: 0 (0.00 Byte)\n",
      "_________________________________________________________________\n"
     ]
    }
   ],
   "source": [
    "classifier.summary()"
   ]
  },
  {
   "cell_type": "code",
   "execution_count": 208,
   "id": "68506472",
   "metadata": {},
   "outputs": [
    {
     "name": "stdout",
     "output_type": "stream",
     "text": [
      "Epoch 1/100\n",
      "13/13 [==============================] - 1s 15ms/step - loss: 87.2327 - accuracy: 0.6131 - val_loss: 6.7848 - val_accuracy: 0.8000\n",
      "Epoch 2/100\n",
      "13/13 [==============================] - 0s 6ms/step - loss: 20.2710 - accuracy: 0.7035 - val_loss: 7.5224 - val_accuracy: 0.8200\n",
      "Epoch 3/100\n",
      "13/13 [==============================] - 0s 7ms/step - loss: 6.7656 - accuracy: 0.8467 - val_loss: 9.5604 - val_accuracy: 0.8300\n",
      "Epoch 4/100\n",
      "13/13 [==============================] - 0s 7ms/step - loss: 6.0617 - accuracy: 0.8543 - val_loss: 3.4150 - val_accuracy: 0.8400\n",
      "Epoch 5/100\n",
      "13/13 [==============================] - 0s 5ms/step - loss: 3.1765 - accuracy: 0.8794 - val_loss: 2.0354 - val_accuracy: 0.8400\n",
      "Epoch 6/100\n",
      "13/13 [==============================] - 0s 5ms/step - loss: 5.5162 - accuracy: 0.8417 - val_loss: 7.5640 - val_accuracy: 0.6500\n",
      "Epoch 7/100\n",
      "13/13 [==============================] - 0s 5ms/step - loss: 1.8676 - accuracy: 0.9095 - val_loss: 4.6261 - val_accuracy: 0.8400\n",
      "Epoch 8/100\n",
      "13/13 [==============================] - 0s 5ms/step - loss: 1.6000 - accuracy: 0.9246 - val_loss: 6.7193 - val_accuracy: 0.6400\n",
      "Epoch 9/100\n",
      "13/13 [==============================] - 0s 5ms/step - loss: 1.8466 - accuracy: 0.9095 - val_loss: 0.7998 - val_accuracy: 0.9100\n",
      "Epoch 10/100\n",
      "13/13 [==============================] - 0s 5ms/step - loss: 0.4972 - accuracy: 0.9673 - val_loss: 0.3454 - val_accuracy: 0.9600\n",
      "Epoch 11/100\n",
      "13/13 [==============================] - 0s 5ms/step - loss: 0.3955 - accuracy: 0.9774 - val_loss: 0.6058 - val_accuracy: 0.9400\n",
      "Epoch 12/100\n",
      "13/13 [==============================] - 0s 5ms/step - loss: 0.5503 - accuracy: 0.9472 - val_loss: 0.8056 - val_accuracy: 0.9400\n",
      "Epoch 13/100\n",
      "13/13 [==============================] - 0s 5ms/step - loss: 0.7182 - accuracy: 0.9523 - val_loss: 0.2075 - val_accuracy: 0.9800\n",
      "Epoch 14/100\n",
      "13/13 [==============================] - 0s 6ms/step - loss: 0.6438 - accuracy: 0.9573 - val_loss: 0.3190 - val_accuracy: 0.9600\n",
      "Epoch 15/100\n",
      "13/13 [==============================] - 0s 5ms/step - loss: 0.5821 - accuracy: 0.9548 - val_loss: 6.1608 - val_accuracy: 0.7400\n",
      "Epoch 16/100\n",
      "13/13 [==============================] - 0s 5ms/step - loss: 6.1076 - accuracy: 0.7990 - val_loss: 22.5606 - val_accuracy: 0.7000\n",
      "Epoch 17/100\n",
      "13/13 [==============================] - 0s 5ms/step - loss: 4.3937 - accuracy: 0.8869 - val_loss: 1.1423 - val_accuracy: 0.9000\n",
      "Epoch 18/100\n",
      "13/13 [==============================] - 0s 6ms/step - loss: 1.2589 - accuracy: 0.9447 - val_loss: 0.7972 - val_accuracy: 0.9400\n",
      "Epoch 19/100\n",
      "13/13 [==============================] - 0s 5ms/step - loss: 0.6650 - accuracy: 0.9623 - val_loss: 1.8840 - val_accuracy: 0.9200\n",
      "Epoch 20/100\n",
      "13/13 [==============================] - 0s 5ms/step - loss: 0.7997 - accuracy: 0.9422 - val_loss: 1.3972 - val_accuracy: 0.9000\n",
      "Epoch 21/100\n",
      "13/13 [==============================] - 0s 5ms/step - loss: 0.5163 - accuracy: 0.9698 - val_loss: 0.5435 - val_accuracy: 0.9400\n",
      "Epoch 22/100\n",
      "13/13 [==============================] - 0s 6ms/step - loss: 0.2485 - accuracy: 0.9724 - val_loss: 0.5639 - val_accuracy: 0.9400\n",
      "Epoch 23/100\n",
      "13/13 [==============================] - 0s 6ms/step - loss: 0.5233 - accuracy: 0.9598 - val_loss: 2.2429 - val_accuracy: 0.8700\n",
      "Epoch 24/100\n",
      "13/13 [==============================] - 0s 6ms/step - loss: 0.8578 - accuracy: 0.9673 - val_loss: 2.8943 - val_accuracy: 0.9000\n",
      "Epoch 25/100\n",
      "13/13 [==============================] - 0s 7ms/step - loss: 2.3948 - accuracy: 0.9045 - val_loss: 5.2016 - val_accuracy: 0.8600\n",
      "Epoch 26/100\n",
      "13/13 [==============================] - 0s 6ms/step - loss: 1.9298 - accuracy: 0.9095 - val_loss: 4.1750 - val_accuracy: 0.8500\n",
      "Epoch 27/100\n",
      "13/13 [==============================] - 0s 5ms/step - loss: 4.0460 - accuracy: 0.8719 - val_loss: 0.5957 - val_accuracy: 0.9600\n",
      "Epoch 28/100\n",
      "13/13 [==============================] - 0s 6ms/step - loss: 2.4828 - accuracy: 0.9045 - val_loss: 0.7102 - val_accuracy: 0.9400\n",
      "Epoch 29/100\n",
      "13/13 [==============================] - 0s 5ms/step - loss: 5.3555 - accuracy: 0.8543 - val_loss: 4.8758 - val_accuracy: 0.8800\n",
      "Epoch 30/100\n",
      "13/13 [==============================] - 0s 5ms/step - loss: 1.5715 - accuracy: 0.9422 - val_loss: 2.0608 - val_accuracy: 0.8800\n",
      "Epoch 31/100\n",
      "13/13 [==============================] - 0s 6ms/step - loss: 1.3204 - accuracy: 0.9422 - val_loss: 6.8473 - val_accuracy: 0.8300\n",
      "Epoch 32/100\n",
      "13/13 [==============================] - 0s 6ms/step - loss: 1.7321 - accuracy: 0.9271 - val_loss: 1.2685 - val_accuracy: 0.9300\n",
      "Epoch 33/100\n",
      "13/13 [==============================] - 0s 5ms/step - loss: 0.8008 - accuracy: 0.9497 - val_loss: 1.1151 - val_accuracy: 0.9200\n",
      "Epoch 34/100\n",
      "13/13 [==============================] - 0s 6ms/step - loss: 0.5868 - accuracy: 0.9648 - val_loss: 4.6058 - val_accuracy: 0.8700\n",
      "Epoch 35/100\n",
      "13/13 [==============================] - 0s 6ms/step - loss: 1.3851 - accuracy: 0.9322 - val_loss: 1.7344 - val_accuracy: 0.8300\n",
      "Epoch 36/100\n",
      "13/13 [==============================] - 0s 5ms/step - loss: 1.2352 - accuracy: 0.9422 - val_loss: 0.4177 - val_accuracy: 0.9500\n",
      "Epoch 37/100\n",
      "13/13 [==============================] - 0s 5ms/step - loss: 0.6066 - accuracy: 0.9673 - val_loss: 0.7814 - val_accuracy: 0.9700\n",
      "Epoch 38/100\n",
      "13/13 [==============================] - 0s 5ms/step - loss: 0.4621 - accuracy: 0.9648 - val_loss: 2.4731 - val_accuracy: 0.8900\n",
      "Epoch 39/100\n",
      "13/13 [==============================] - 0s 5ms/step - loss: 0.4433 - accuracy: 0.9648 - val_loss: 1.1570 - val_accuracy: 0.9400\n",
      "Epoch 40/100\n",
      "13/13 [==============================] - 0s 5ms/step - loss: 0.6276 - accuracy: 0.9623 - val_loss: 1.1369 - val_accuracy: 0.8700\n",
      "Epoch 41/100\n",
      "13/13 [==============================] - 0s 5ms/step - loss: 0.6415 - accuracy: 0.9548 - val_loss: 0.5938 - val_accuracy: 0.9400\n",
      "Epoch 42/100\n",
      "13/13 [==============================] - 0s 5ms/step - loss: 0.4098 - accuracy: 0.9598 - val_loss: 0.7676 - val_accuracy: 0.9400\n",
      "Epoch 43/100\n",
      "13/13 [==============================] - 0s 6ms/step - loss: 1.3944 - accuracy: 0.9221 - val_loss: 3.3073 - val_accuracy: 0.8800\n",
      "Epoch 44/100\n",
      "13/13 [==============================] - 0s 5ms/step - loss: 0.8631 - accuracy: 0.9447 - val_loss: 0.2479 - val_accuracy: 0.9900\n",
      "Epoch 45/100\n",
      "13/13 [==============================] - 0s 5ms/step - loss: 0.3262 - accuracy: 0.9774 - val_loss: 0.5961 - val_accuracy: 0.9100\n",
      "Epoch 46/100\n",
      "13/13 [==============================] - 0s 6ms/step - loss: 0.5402 - accuracy: 0.9698 - val_loss: 0.4177 - val_accuracy: 0.9600\n",
      "Epoch 47/100\n",
      "13/13 [==============================] - 0s 6ms/step - loss: 0.2968 - accuracy: 0.9724 - val_loss: 0.3255 - val_accuracy: 0.9700\n",
      "Epoch 48/100\n",
      "13/13 [==============================] - 0s 6ms/step - loss: 0.4811 - accuracy: 0.9623 - val_loss: 2.1851 - val_accuracy: 0.8900\n",
      "Epoch 49/100\n",
      "13/13 [==============================] - 0s 5ms/step - loss: 0.7852 - accuracy: 0.9422 - val_loss: 0.2089 - val_accuracy: 0.9800\n",
      "Epoch 50/100\n",
      "13/13 [==============================] - 0s 5ms/step - loss: 0.3859 - accuracy: 0.9698 - val_loss: 0.6263 - val_accuracy: 0.8900\n",
      "Epoch 51/100\n",
      "13/13 [==============================] - 0s 5ms/step - loss: 0.3521 - accuracy: 0.9673 - val_loss: 0.2349 - val_accuracy: 0.9200\n",
      "Epoch 52/100\n",
      "13/13 [==============================] - 0s 5ms/step - loss: 0.8303 - accuracy: 0.9372 - val_loss: 0.4557 - val_accuracy: 0.9700\n",
      "Epoch 53/100\n",
      "13/13 [==============================] - 0s 5ms/step - loss: 0.5638 - accuracy: 0.9724 - val_loss: 0.4770 - val_accuracy: 0.9300\n",
      "Epoch 54/100\n",
      "13/13 [==============================] - 0s 5ms/step - loss: 0.4905 - accuracy: 0.9548 - val_loss: 0.1593 - val_accuracy: 0.9600\n",
      "Epoch 55/100\n",
      "13/13 [==============================] - 0s 6ms/step - loss: 0.7897 - accuracy: 0.9347 - val_loss: 1.7229 - val_accuracy: 0.9100\n",
      "Epoch 56/100\n",
      "13/13 [==============================] - 0s 6ms/step - loss: 1.2882 - accuracy: 0.9372 - val_loss: 0.8079 - val_accuracy: 0.9300\n",
      "Epoch 57/100\n",
      "13/13 [==============================] - 0s 7ms/step - loss: 1.5064 - accuracy: 0.9296 - val_loss: 1.8634 - val_accuracy: 0.8000\n",
      "Epoch 58/100\n",
      "13/13 [==============================] - 0s 6ms/step - loss: 0.6209 - accuracy: 0.9623 - val_loss: 0.1552 - val_accuracy: 0.9800\n"
     ]
    },
    {
     "name": "stdout",
     "output_type": "stream",
     "text": [
      "Epoch 59/100\n",
      "13/13 [==============================] - 0s 5ms/step - loss: 0.3510 - accuracy: 0.9799 - val_loss: 0.2614 - val_accuracy: 0.9700\n",
      "Epoch 60/100\n",
      "13/13 [==============================] - 0s 5ms/step - loss: 0.2529 - accuracy: 0.9673 - val_loss: 0.1910 - val_accuracy: 0.9600\n",
      "Epoch 61/100\n",
      "13/13 [==============================] - 0s 5ms/step - loss: 0.2242 - accuracy: 0.9849 - val_loss: 0.6534 - val_accuracy: 0.9400\n",
      "Epoch 62/100\n",
      "13/13 [==============================] - 0s 5ms/step - loss: 0.7962 - accuracy: 0.9422 - val_loss: 1.6026 - val_accuracy: 0.9100\n",
      "Epoch 63/100\n",
      "13/13 [==============================] - 0s 5ms/step - loss: 0.6140 - accuracy: 0.9623 - val_loss: 0.2520 - val_accuracy: 0.9700\n",
      "Epoch 64/100\n",
      "13/13 [==============================] - 0s 5ms/step - loss: 0.2726 - accuracy: 0.9749 - val_loss: 0.1807 - val_accuracy: 0.9700\n",
      "Epoch 65/100\n",
      "13/13 [==============================] - 0s 5ms/step - loss: 0.2957 - accuracy: 0.9749 - val_loss: 0.2830 - val_accuracy: 0.9700\n",
      "Epoch 66/100\n",
      "13/13 [==============================] - 0s 5ms/step - loss: 0.7903 - accuracy: 0.9422 - val_loss: 1.4060 - val_accuracy: 0.8200\n",
      "Epoch 67/100\n",
      "13/13 [==============================] - 0s 5ms/step - loss: 0.9988 - accuracy: 0.9171 - val_loss: 1.0296 - val_accuracy: 0.9400\n",
      "Epoch 68/100\n",
      "13/13 [==============================] - 0s 5ms/step - loss: 0.3330 - accuracy: 0.9799 - val_loss: 0.8220 - val_accuracy: 0.9100\n",
      "Epoch 69/100\n",
      "13/13 [==============================] - 0s 5ms/step - loss: 0.5557 - accuracy: 0.9673 - val_loss: 0.3745 - val_accuracy: 0.9500\n",
      "Epoch 70/100\n",
      "13/13 [==============================] - 0s 5ms/step - loss: 0.4276 - accuracy: 0.9799 - val_loss: 0.2620 - val_accuracy: 0.9500\n",
      "Epoch 71/100\n",
      "13/13 [==============================] - 0s 5ms/step - loss: 0.2428 - accuracy: 0.9774 - val_loss: 0.4151 - val_accuracy: 0.9600\n",
      "Epoch 72/100\n",
      "13/13 [==============================] - 0s 5ms/step - loss: 0.2698 - accuracy: 0.9824 - val_loss: 0.1273 - val_accuracy: 0.9700\n",
      "Epoch 73/100\n",
      "13/13 [==============================] - 0s 5ms/step - loss: 0.3215 - accuracy: 0.9673 - val_loss: 0.1237 - val_accuracy: 0.9700\n",
      "Epoch 74/100\n",
      "13/13 [==============================] - 0s 5ms/step - loss: 0.3148 - accuracy: 0.9774 - val_loss: 0.1583 - val_accuracy: 0.9800\n",
      "Epoch 75/100\n",
      "13/13 [==============================] - 0s 5ms/step - loss: 0.1743 - accuracy: 0.9774 - val_loss: 0.0514 - val_accuracy: 0.9800\n",
      "Epoch 76/100\n",
      "13/13 [==============================] - 0s 5ms/step - loss: 0.1721 - accuracy: 0.9724 - val_loss: 0.1753 - val_accuracy: 0.9600\n",
      "Epoch 77/100\n",
      "13/13 [==============================] - 0s 7ms/step - loss: 0.2541 - accuracy: 0.9799 - val_loss: 2.9085 - val_accuracy: 0.8100\n",
      "Epoch 78/100\n",
      "13/13 [==============================] - 0s 6ms/step - loss: 0.9267 - accuracy: 0.9447 - val_loss: 0.1396 - val_accuracy: 0.9800\n",
      "Epoch 79/100\n",
      "13/13 [==============================] - 0s 5ms/step - loss: 0.3949 - accuracy: 0.9698 - val_loss: 0.6472 - val_accuracy: 0.9500\n",
      "Epoch 80/100\n",
      "13/13 [==============================] - 0s 6ms/step - loss: 0.4516 - accuracy: 0.9573 - val_loss: 1.2990 - val_accuracy: 0.8500\n",
      "Epoch 81/100\n",
      "13/13 [==============================] - 0s 5ms/step - loss: 0.2824 - accuracy: 0.9824 - val_loss: 0.9847 - val_accuracy: 0.9400\n",
      "Epoch 82/100\n",
      "13/13 [==============================] - 0s 5ms/step - loss: 0.2870 - accuracy: 0.9724 - val_loss: 1.2517 - val_accuracy: 0.9300\n",
      "Epoch 83/100\n",
      "13/13 [==============================] - 0s 5ms/step - loss: 1.6476 - accuracy: 0.9070 - val_loss: 0.2903 - val_accuracy: 0.9500\n",
      "Epoch 84/100\n",
      "13/13 [==============================] - 0s 6ms/step - loss: 1.0239 - accuracy: 0.9347 - val_loss: 0.8359 - val_accuracy: 0.9300\n",
      "Epoch 85/100\n",
      "13/13 [==============================] - 0s 6ms/step - loss: 0.4936 - accuracy: 0.9598 - val_loss: 0.9355 - val_accuracy: 0.9200\n",
      "Epoch 86/100\n",
      "13/13 [==============================] - 0s 6ms/step - loss: 0.9026 - accuracy: 0.9548 - val_loss: 0.2811 - val_accuracy: 0.9800\n",
      "Epoch 87/100\n",
      "13/13 [==============================] - 0s 5ms/step - loss: 0.2551 - accuracy: 0.9774 - val_loss: 0.2640 - val_accuracy: 0.9700\n",
      "Epoch 88/100\n",
      "13/13 [==============================] - 0s 6ms/step - loss: 0.3651 - accuracy: 0.9623 - val_loss: 0.7842 - val_accuracy: 0.9200\n",
      "Epoch 89/100\n",
      "13/13 [==============================] - 0s 6ms/step - loss: 0.7696 - accuracy: 0.9573 - val_loss: 2.6334 - val_accuracy: 0.8800\n",
      "Epoch 90/100\n",
      "13/13 [==============================] - 0s 5ms/step - loss: 0.7488 - accuracy: 0.9422 - val_loss: 0.4066 - val_accuracy: 0.9600\n",
      "Epoch 91/100\n",
      "13/13 [==============================] - 0s 5ms/step - loss: 1.0830 - accuracy: 0.9422 - val_loss: 4.3105 - val_accuracy: 0.7500\n",
      "Epoch 92/100\n",
      "13/13 [==============================] - 0s 6ms/step - loss: 1.5312 - accuracy: 0.9171 - val_loss: 1.2759 - val_accuracy: 0.9100\n",
      "Epoch 93/100\n",
      "13/13 [==============================] - 0s 6ms/step - loss: 0.6809 - accuracy: 0.9623 - val_loss: 0.2914 - val_accuracy: 0.9700\n",
      "Epoch 94/100\n",
      "13/13 [==============================] - 0s 5ms/step - loss: 0.3914 - accuracy: 0.9724 - val_loss: 0.4679 - val_accuracy: 0.9500\n",
      "Epoch 95/100\n",
      "13/13 [==============================] - 0s 5ms/step - loss: 0.7498 - accuracy: 0.9523 - val_loss: 0.2733 - val_accuracy: 0.9700\n",
      "Epoch 96/100\n",
      "13/13 [==============================] - 0s 5ms/step - loss: 0.2632 - accuracy: 0.9749 - val_loss: 0.2000 - val_accuracy: 0.9700\n",
      "Epoch 97/100\n",
      "13/13 [==============================] - 0s 5ms/step - loss: 0.1198 - accuracy: 0.9874 - val_loss: 0.1438 - val_accuracy: 0.9500\n",
      "Epoch 98/100\n",
      "13/13 [==============================] - 0s 5ms/step - loss: 0.0923 - accuracy: 0.9899 - val_loss: 0.2634 - val_accuracy: 0.9700\n",
      "Epoch 99/100\n",
      "13/13 [==============================] - 0s 5ms/step - loss: 0.0584 - accuracy: 0.9849 - val_loss: 0.2297 - val_accuracy: 0.9500\n",
      "Epoch 100/100\n",
      "13/13 [==============================] - 0s 5ms/step - loss: 0.1109 - accuracy: 0.9849 - val_loss: 0.2695 - val_accuracy: 0.9600\n"
     ]
    }
   ],
   "source": [
    "model_history=classifier.fit(x_train, y_train,validation_split=0.2,epochs = 100)"
   ]
  },
  {
   "cell_type": "code",
   "execution_count": 211,
   "id": "aae957e7",
   "metadata": {},
   "outputs": [
    {
     "data": {
      "text/plain": [
       "dict_keys(['loss', 'accuracy', 'val_loss', 'val_accuracy'])"
      ]
     },
     "execution_count": 211,
     "metadata": {},
     "output_type": "execute_result"
    }
   ],
   "source": [
    "model_history.history.keys()"
   ]
  },
  {
   "cell_type": "code",
   "execution_count": 212,
   "id": "9f1b4055",
   "metadata": {},
   "outputs": [
    {
     "data": {
      "application/javascript": [
       "\n",
       "        if (window._pyforest_update_imports_cell) { window._pyforest_update_imports_cell('import seaborn as sns\\nimport pandas as pd\\nimport matplotlib.pyplot as plt\\nimport numpy as np\\nimport tensorflow as tf'); }\n",
       "    "
      ],
      "text/plain": [
       "<IPython.core.display.Javascript object>"
      ]
     },
     "metadata": {},
     "output_type": "display_data"
    },
    {
     "data": {
      "application/javascript": [
       "\n",
       "        if (window._pyforest_update_imports_cell) { window._pyforest_update_imports_cell('import seaborn as sns\\nimport pandas as pd\\nimport matplotlib.pyplot as plt\\nimport numpy as np\\nimport tensorflow as tf'); }\n",
       "    "
      ],
      "text/plain": [
       "<IPython.core.display.Javascript object>"
      ]
     },
     "metadata": {},
     "output_type": "display_data"
    },
    {
     "data": {
      "application/javascript": [
       "\n",
       "        if (window._pyforest_update_imports_cell) { window._pyforest_update_imports_cell('import seaborn as sns\\nimport pandas as pd\\nimport matplotlib.pyplot as plt\\nimport numpy as np\\nimport tensorflow as tf'); }\n",
       "    "
      ],
      "text/plain": [
       "<IPython.core.display.Javascript object>"
      ]
     },
     "metadata": {},
     "output_type": "display_data"
    },
    {
     "data": {
      "application/javascript": [
       "\n",
       "        if (window._pyforest_update_imports_cell) { window._pyforest_update_imports_cell('import seaborn as sns\\nimport pandas as pd\\nimport matplotlib.pyplot as plt\\nimport numpy as np\\nimport tensorflow as tf'); }\n",
       "    "
      ],
      "text/plain": [
       "<IPython.core.display.Javascript object>"
      ]
     },
     "metadata": {},
     "output_type": "display_data"
    },
    {
     "data": {
      "application/javascript": [
       "\n",
       "        if (window._pyforest_update_imports_cell) { window._pyforest_update_imports_cell('import seaborn as sns\\nimport pandas as pd\\nimport matplotlib.pyplot as plt\\nimport numpy as np\\nimport tensorflow as tf'); }\n",
       "    "
      ],
      "text/plain": [
       "<IPython.core.display.Javascript object>"
      ]
     },
     "metadata": {},
     "output_type": "display_data"
    },
    {
     "data": {
      "application/javascript": [
       "\n",
       "        if (window._pyforest_update_imports_cell) { window._pyforest_update_imports_cell('import seaborn as sns\\nimport pandas as pd\\nimport matplotlib.pyplot as plt\\nimport numpy as np\\nimport tensorflow as tf'); }\n",
       "    "
      ],
      "text/plain": [
       "<IPython.core.display.Javascript object>"
      ]
     },
     "metadata": {},
     "output_type": "display_data"
    },
    {
     "data": {
      "text/plain": [
       "<matplotlib.legend.Legend at 0x2332d0caf10>"
      ]
     },
     "execution_count": 212,
     "metadata": {},
     "output_type": "execute_result"
    },
    {
     "data": {
      "image/png": "[encoded data removed]",
      "text/plain": [
       "<Figure size 640x480 with 1 Axes>"
      ]
     },
     "metadata": {},
     "output_type": "display_data"
    }
   ],
   "source": [
    "plt.plot(model_history.history['accuracy'])\n",
    "plt.plot(model_history.history['val_accuracy'])\n",
    "plt.title('Loglu model accuracy')\n",
    "plt.ylabel('accuracy')\n",
    "plt.xlabel('epoch')\n",
    "plt.legend(['train', 'test'])"
   ]
  },
  {
   "cell_type": "code",
   "execution_count": 213,
   "id": "c70912e9",
   "metadata": {},
   "outputs": [
    {
     "data": {
      "application/javascript": [
       "\n",
       "        if (window._pyforest_update_imports_cell) { window._pyforest_update_imports_cell('import seaborn as sns\\nimport pandas as pd\\nimport matplotlib.pyplot as plt\\nimport numpy as np\\nimport tensorflow as tf'); }\n",
       "    "
      ],
      "text/plain": [
       "<IPython.core.display.Javascript object>"
      ]
     },
     "metadata": {},
     "output_type": "display_data"
    },
    {
     "data": {
      "application/javascript": [
       "\n",
       "        if (window._pyforest_update_imports_cell) { window._pyforest_update_imports_cell('import seaborn as sns\\nimport pandas as pd\\nimport matplotlib.pyplot as plt\\nimport numpy as np\\nimport tensorflow as tf'); }\n",
       "    "
      ],
      "text/plain": [
       "<IPython.core.display.Javascript object>"
      ]
     },
     "metadata": {},
     "output_type": "display_data"
    },
    {
     "data": {
      "application/javascript": [
       "\n",
       "        if (window._pyforest_update_imports_cell) { window._pyforest_update_imports_cell('import seaborn as sns\\nimport pandas as pd\\nimport matplotlib.pyplot as plt\\nimport numpy as np\\nimport tensorflow as tf'); }\n",
       "    "
      ],
      "text/plain": [
       "<IPython.core.display.Javascript object>"
      ]
     },
     "metadata": {},
     "output_type": "display_data"
    },
    {
     "data": {
      "application/javascript": [
       "\n",
       "        if (window._pyforest_update_imports_cell) { window._pyforest_update_imports_cell('import seaborn as sns\\nimport pandas as pd\\nimport matplotlib.pyplot as plt\\nimport numpy as np\\nimport tensorflow as tf'); }\n",
       "    "
      ],
      "text/plain": [
       "<IPython.core.display.Javascript object>"
      ]
     },
     "metadata": {},
     "output_type": "display_data"
    },
    {
     "data": {
      "application/javascript": [
       "\n",
       "        if (window._pyforest_update_imports_cell) { window._pyforest_update_imports_cell('import seaborn as sns\\nimport pandas as pd\\nimport matplotlib.pyplot as plt\\nimport numpy as np\\nimport tensorflow as tf'); }\n",
       "    "
      ],
      "text/plain": [
       "<IPython.core.display.Javascript object>"
      ]
     },
     "metadata": {},
     "output_type": "display_data"
    },
    {
     "data": {
      "application/javascript": [
       "\n",
       "        if (window._pyforest_update_imports_cell) { window._pyforest_update_imports_cell('import seaborn as sns\\nimport pandas as pd\\nimport matplotlib.pyplot as plt\\nimport numpy as np\\nimport tensorflow as tf'); }\n",
       "    "
      ],
      "text/plain": [
       "<IPython.core.display.Javascript object>"
      ]
     },
     "metadata": {},
     "output_type": "display_data"
    },
    {
     "data": {
      "text/plain": [
       "<matplotlib.legend.Legend at 0x2332d115590>"
      ]
     },
     "execution_count": 213,
     "metadata": {},
     "output_type": "execute_result"
    },
    {
     "data": {
      "image/png": "[encoded data removed]",
      "text/plain": [
       "<Figure size 640x480 with 1 Axes>"
      ]
     },
     "metadata": {},
     "output_type": "display_data"
    }
   ],
   "source": [
    "plt.plot(model_history.history['loss'])\n",
    "plt.plot(model_history.history['val_loss'])\n",
    "plt.title('Loglu model Loss')\n",
    "plt.ylabel('Loss')\n",
    "plt.xlabel('Epoch')\n",
    "plt.legend(['train', 'test'])"
   ]
  },
  {
   "cell_type": "code",
   "execution_count": 214,
   "id": "0c5ca10f",
   "metadata": {},
   "outputs": [
    {
     "name": "stdout",
     "output_type": "stream",
     "text": [
      "4/4 [==============================] - 0s 2ms/step\n"
     ]
    }
   ],
   "source": [
    "y_pred_ann = classifier.predict(x_test)\n",
    "y_pred_ann = (y_pred_ann > 0.5)"
   ]
  },
  {
   "cell_type": "code",
   "execution_count": 215,
   "id": "5e89d13a",
   "metadata": {},
   "outputs": [],
   "source": [
    "from sklearn.metrics import confusion_matrix\n",
    "cm = confusion_matrix(y_test, y_pred_ann)"
   ]
  },
  {
   "cell_type": "code",
   "execution_count": 216,
   "id": "f2418a58",
   "metadata": {},
   "outputs": [
    {
     "data": {
      "application/javascript": [
       "\n",
       "        if (window._pyforest_update_imports_cell) { window._pyforest_update_imports_cell('import seaborn as sns\\nimport pandas as pd\\nimport matplotlib.pyplot as plt\\nimport numpy as np\\nimport tensorflow as tf'); }\n",
       "    "
      ],
      "text/plain": [
       "<IPython.core.display.Javascript object>"
      ]
     },
     "metadata": {},
     "output_type": "display_data"
    },
    {
     "data": {
      "application/javascript": [
       "\n",
       "        if (window._pyforest_update_imports_cell) { window._pyforest_update_imports_cell('import seaborn as sns\\nimport pandas as pd\\nimport matplotlib.pyplot as plt\\nimport numpy as np\\nimport tensorflow as tf'); }\n",
       "    "
      ],
      "text/plain": [
       "<IPython.core.display.Javascript object>"
      ]
     },
     "metadata": {},
     "output_type": "display_data"
    },
    {
     "data": {
      "application/javascript": [
       "\n",
       "        if (window._pyforest_update_imports_cell) { window._pyforest_update_imports_cell('import seaborn as sns\\nimport pandas as pd\\nimport matplotlib.pyplot as plt\\nimport numpy as np\\nimport tensorflow as tf'); }\n",
       "    "
      ],
      "text/plain": [
       "<IPython.core.display.Javascript object>"
      ]
     },
     "metadata": {},
     "output_type": "display_data"
    },
    {
     "data": {
      "text/plain": [
       "Text(33.22222222222222, 0.5, 'Truth')"
      ]
     },
     "execution_count": 216,
     "metadata": {},
     "output_type": "execute_result"
    },
    {
     "data": {
      "image/png": "[encoded data removed]",
      "text/plain": [
       "<Figure size 500x200 with 2 Axes>"
      ]
     },
     "metadata": {},
     "output_type": "display_data"
    }
   ],
   "source": [
    "import seaborn as sn\n",
    "plt.figure(figsize = (5,2))\n",
    "sn.heatmap(cm, annot=True)\n",
    "plt.xlabel('Predicted')\n",
    "plt.ylabel('Truth')"
   ]
  },
  {
   "cell_type": "code",
   "execution_count": 217,
   "id": "9f24d702",
   "metadata": {},
   "outputs": [],
   "source": [
    "from sklearn.metrics import accuracy_score\n",
    "score=accuracy_score(y_pred_ann,y_test)"
   ]
  },
  {
   "cell_type": "code",
   "execution_count": 218,
   "id": "6870e017",
   "metadata": {},
   "outputs": [
    {
     "data": {
      "text/plain": [
       "0.944"
      ]
     },
     "execution_count": 218,
     "metadata": {},
     "output_type": "execute_result"
    }
   ],
   "source": [
    "score"
   ]
  },
  {
   "cell_type": "code",
   "execution_count": 219,
   "id": "618eb953",
   "metadata": {},
   "outputs": [
    {
     "name": "stdout",
     "output_type": "stream",
     "text": [
      "              precision    recall  f1-score   support\n",
      "\n",
      "           0       0.94      0.93      0.94        55\n",
      "           1       0.94      0.96      0.95        70\n",
      "\n",
      "    accuracy                           0.94       125\n",
      "   macro avg       0.94      0.94      0.94       125\n",
      "weighted avg       0.94      0.94      0.94       125\n",
      "\n"
     ]
    }
   ],
   "source": [
    "from sklearn.metrics import classification_report\n",
    "print(classification_report(y_test, y_pred_ann))"
   ]
  },
  {
   "cell_type": "code",
   "execution_count": 220,
   "id": "5153c7e4",
   "metadata": {},
   "outputs": [
    {
     "name": "stdout",
     "output_type": "stream",
     "text": [
      "1/1 [==============================] - 0s 60ms/step\n",
      "\n",
      "--------> POTABILITY is '0'\n"
     ]
    }
   ],
   "source": [
    "result=classifier.predict([[945,560,8.2,22,3.5,1.5,1.4,0.5,2.1,40,266,7.1,1.1,2.9,145,14,945,40]]).round(0) #o/p is 0\n",
    "if result==0:\n",
    "    print(\"\\n--------> POTABILITY is '0'\")\n",
    "else:\n",
    "    print(\"\\n--------> POTABILITY is '1'\")"
   ]
  },
  {
   "cell_type": "code",
   "execution_count": null,
   "id": "b3c13435",
   "metadata": {},
   "outputs": [],
   "source": []
  },
  {
   "cell_type": "code",
   "execution_count": null,
   "id": "7ba1d682",
   "metadata": {},
   "outputs": [],
   "source": []
  },
  {
   "cell_type": "code",
   "execution_count": null,
   "id": "260f7845",
   "metadata": {},
   "outputs": [],
   "source": []
  },
  {
   "cell_type": "code",
   "execution_count": null,
   "id": "252f7202",
   "metadata": {},
   "outputs": [],
   "source": []
  },
  {
   "cell_type": "code",
   "execution_count": null,
   "id": "ccf75d34",
   "metadata": {},
   "outputs": [],
   "source": []
  }
 ],
 "metadata": {
  "kernelspec": {
   "display_name": "Python 3 (ipykernel)",
   "language": "python",
   "name": "python3"
  },
  "language_info": {
   "codemirror_mode": {
    "name": "ipython",
    "version": 3
   },
   "file_extension": ".py",
   "mimetype": "text/x-python",
   "name": "python",
   "nbconvert_exporter": "python",
   "pygments_lexer": "ipython3",
   "version": "3.11.5"
  }
 },
 "nbformat": 4,
 "nbformat_minor": 5
}
