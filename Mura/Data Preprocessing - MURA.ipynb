{
 "cells": [
  {
   "cell_type": "code",
   "execution_count": 173,
   "id": "8f1dc6c9-372a-431f-aeac-c352f94eb982",
   "metadata": {},
   "outputs": [
    {
     "name": "stdout",
     "output_type": "stream",
     "text": [
      "Images have been separated into positive and negative folders.\n"
     ]
    }
   ],
   "source": [
    "import os\n",
    "import shutil\n",
    "\n",
    "root_train = \"E:\\\\Datasets\\\\archive (99)\\\\MURA-v1.1\\\\train\\\\XR_HAND\"\n",
    "root_valid = \"E:\\\\Datasets\\\\archive (99)\\\\MURA-v1.1\\\\valid\\\\XR_HAND\"\n",
    "\n",
    "positive_dir_train = os.path.join(root_train, 'positive')\n",
    "negative_dir_train = os.path.join(root_train, 'negative')\n",
    "positive_dir_valid = os.path.join(root_valid, 'positive')\n",
    "negative_dir_valid = os.path.join(root_valid, 'negative')\n",
    "\n",
    "os.makedirs(positive_dir_train, exist_ok=True)\n",
    "os.makedirs(negative_dir_train, exist_ok=True)\n",
    "os.makedirs(positive_dir_valid, exist_ok=True)\n",
    "os.makedirs(negative_dir_valid, exist_ok=True)\n",
    "\n",
    "def move_images(src_dir, dest_dir):\n",
    "    for patient in os.listdir(src_dir):\n",
    "        patient_path = os.path.join(src_dir, patient)\n",
    "        if os.path.isdir(patient_path):\n",
    "            for study in os.listdir(patient_path):\n",
    "                study_path = os.path.join(patient_path, study)\n",
    "                if os.path.isdir(study_path):\n",
    "                    if 'negative' in study.lower():\n",
    "                        target_folder = negative_dir_train if src_dir == root_train else negative_dir_valid\n",
    "                    elif 'positive' in study.lower():\n",
    "                        target_folder = positive_dir_train if src_dir == root_train else positive_dir_valid\n",
    "                    else:\n",
    "                        continue\n",
    "                    for image in os.listdir(study_path):\n",
    "                        image_path = os.path.join(study_path, image)\n",
    "                        if image.endswith('.png'):\n",
    "                            dest_image_path = os.path.join(target_folder, image)\n",
    "\n",
    "                            # Handle file name conflicts by renaming\n",
    "                            counter = 1\n",
    "                            while os.path.exists(dest_image_path):\n",
    "                                name, ext = os.path.splitext(image)\n",
    "                                new_name = f\"{name}_{counter}{ext}\"\n",
    "                                dest_image_path = os.path.join(target_folder, new_name)\n",
    "                                counter += 1\n",
    "\n",
    "                            shutil.move(image_path, dest_image_path)\n",
    "move_images(root_train, root_train)\n",
    "move_images(root_valid, root_valid)\n",
    "print(\"Images have been separated into positive and negative folders.\")"
   ]
  },
  {
   "cell_type": "code",
   "execution_count": null,
   "id": "a6ee2c8a-5c9a-4a30-aa02-706ae04caac7",
   "metadata": {},
   "outputs": [],
   "source": []
  },
  {
   "cell_type": "code",
   "execution_count": null,
   "id": "8a92c45e-564e-401e-aa35-606afcd6b8a6",
   "metadata": {},
   "outputs": [],
   "source": []
  },
  {
   "cell_type": "code",
   "execution_count": null,
   "id": "ac310cef-41ef-4c0e-ba62-43819e21bf75",
   "metadata": {},
   "outputs": [],
   "source": []
  }
 ],
 "metadata": {
  "kernelspec": {
   "display_name": "Python 3 (ipykernel)",
   "language": "python",
   "name": "python3"
  },
  "language_info": {
   "codemirror_mode": {
    "name": "ipython",
    "version": 3
   },
   "file_extension": ".py",
   "mimetype": "text/x-python",
   "name": "python",
   "nbconvert_exporter": "python",
   "pygments_lexer": "ipython3",
   "version": "3.12.4"
  }
 },
 "nbformat": 4,
 "nbformat_minor": 5
}
